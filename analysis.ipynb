{
 "cells": [
  {
   "cell_type": "markdown",
   "id": "6a55f8dc",
   "metadata": {},
   "source": [
    " I will start the task of Smartwatch Data Analysis by importing the necessary Python libraries and the dataset:"
   ]
  },
  {
   "cell_type": "code",
   "execution_count": 210,
   "id": "a3e25ffa",
   "metadata": {},
   "outputs": [
    {
     "data": {
      "text/html": [
       "<div>\n",
       "<style scoped>\n",
       "    .dataframe tbody tr th:only-of-type {\n",
       "        vertical-align: middle;\n",
       "    }\n",
       "\n",
       "    .dataframe tbody tr th {\n",
       "        vertical-align: top;\n",
       "    }\n",
       "\n",
       "    .dataframe thead th {\n",
       "        text-align: right;\n",
       "    }\n",
       "</style>\n",
       "<table border=\"1\" class=\"dataframe\">\n",
       "  <thead>\n",
       "    <tr style=\"text-align: right;\">\n",
       "      <th></th>\n",
       "      <th>Id</th>\n",
       "      <th>ActivityDate</th>\n",
       "      <th>TotalSteps</th>\n",
       "      <th>TotalDistance</th>\n",
       "      <th>TrackerDistance</th>\n",
       "      <th>LoggedActivitiesDistance</th>\n",
       "      <th>VeryActiveDistance</th>\n",
       "      <th>ModeratelyActiveDistance</th>\n",
       "      <th>LightActiveDistance</th>\n",
       "      <th>SedentaryActiveDistance</th>\n",
       "      <th>VeryActiveMinutes</th>\n",
       "      <th>FairlyActiveMinutes</th>\n",
       "      <th>LightlyActiveMinutes</th>\n",
       "      <th>SedentaryMinutes</th>\n",
       "      <th>Calories</th>\n",
       "    </tr>\n",
       "  </thead>\n",
       "  <tbody>\n",
       "    <tr>\n",
       "      <th>0</th>\n",
       "      <td>1503960366</td>\n",
       "      <td>4/12/2016</td>\n",
       "      <td>13162</td>\n",
       "      <td>8.50</td>\n",
       "      <td>8.50</td>\n",
       "      <td>0.0</td>\n",
       "      <td>1.88</td>\n",
       "      <td>0.55</td>\n",
       "      <td>6.06</td>\n",
       "      <td>0.0</td>\n",
       "      <td>25</td>\n",
       "      <td>13</td>\n",
       "      <td>328</td>\n",
       "      <td>728</td>\n",
       "      <td>1985</td>\n",
       "    </tr>\n",
       "    <tr>\n",
       "      <th>1</th>\n",
       "      <td>1503960366</td>\n",
       "      <td>4/13/2016</td>\n",
       "      <td>10735</td>\n",
       "      <td>6.97</td>\n",
       "      <td>6.97</td>\n",
       "      <td>0.0</td>\n",
       "      <td>1.57</td>\n",
       "      <td>0.69</td>\n",
       "      <td>4.71</td>\n",
       "      <td>0.0</td>\n",
       "      <td>21</td>\n",
       "      <td>19</td>\n",
       "      <td>217</td>\n",
       "      <td>776</td>\n",
       "      <td>1797</td>\n",
       "    </tr>\n",
       "    <tr>\n",
       "      <th>2</th>\n",
       "      <td>1503960366</td>\n",
       "      <td>4/14/2016</td>\n",
       "      <td>10460</td>\n",
       "      <td>6.74</td>\n",
       "      <td>6.74</td>\n",
       "      <td>0.0</td>\n",
       "      <td>2.44</td>\n",
       "      <td>0.40</td>\n",
       "      <td>3.91</td>\n",
       "      <td>0.0</td>\n",
       "      <td>30</td>\n",
       "      <td>11</td>\n",
       "      <td>181</td>\n",
       "      <td>1218</td>\n",
       "      <td>1776</td>\n",
       "    </tr>\n",
       "    <tr>\n",
       "      <th>3</th>\n",
       "      <td>1503960366</td>\n",
       "      <td>4/15/2016</td>\n",
       "      <td>9762</td>\n",
       "      <td>6.28</td>\n",
       "      <td>6.28</td>\n",
       "      <td>0.0</td>\n",
       "      <td>2.14</td>\n",
       "      <td>1.26</td>\n",
       "      <td>2.83</td>\n",
       "      <td>0.0</td>\n",
       "      <td>29</td>\n",
       "      <td>34</td>\n",
       "      <td>209</td>\n",
       "      <td>726</td>\n",
       "      <td>1745</td>\n",
       "    </tr>\n",
       "    <tr>\n",
       "      <th>4</th>\n",
       "      <td>1503960366</td>\n",
       "      <td>4/16/2016</td>\n",
       "      <td>12669</td>\n",
       "      <td>8.16</td>\n",
       "      <td>8.16</td>\n",
       "      <td>0.0</td>\n",
       "      <td>2.71</td>\n",
       "      <td>0.41</td>\n",
       "      <td>5.04</td>\n",
       "      <td>0.0</td>\n",
       "      <td>36</td>\n",
       "      <td>10</td>\n",
       "      <td>221</td>\n",
       "      <td>773</td>\n",
       "      <td>1863</td>\n",
       "    </tr>\n",
       "  </tbody>\n",
       "</table>\n",
       "</div>"
      ],
      "text/plain": [
       "           Id ActivityDate  TotalSteps  TotalDistance  TrackerDistance  \\\n",
       "0  1503960366    4/12/2016       13162           8.50             8.50   \n",
       "1  1503960366    4/13/2016       10735           6.97             6.97   \n",
       "2  1503960366    4/14/2016       10460           6.74             6.74   \n",
       "3  1503960366    4/15/2016        9762           6.28             6.28   \n",
       "4  1503960366    4/16/2016       12669           8.16             8.16   \n",
       "\n",
       "   LoggedActivitiesDistance  VeryActiveDistance  ModeratelyActiveDistance  \\\n",
       "0                       0.0                1.88                      0.55   \n",
       "1                       0.0                1.57                      0.69   \n",
       "2                       0.0                2.44                      0.40   \n",
       "3                       0.0                2.14                      1.26   \n",
       "4                       0.0                2.71                      0.41   \n",
       "\n",
       "   LightActiveDistance  SedentaryActiveDistance  VeryActiveMinutes  \\\n",
       "0                 6.06                      0.0                 25   \n",
       "1                 4.71                      0.0                 21   \n",
       "2                 3.91                      0.0                 30   \n",
       "3                 2.83                      0.0                 29   \n",
       "4                 5.04                      0.0                 36   \n",
       "\n",
       "   FairlyActiveMinutes  LightlyActiveMinutes  SedentaryMinutes  Calories  \n",
       "0                   13                   328               728      1985  \n",
       "1                   19                   217               776      1797  \n",
       "2                   11                   181              1218      1776  \n",
       "3                   34                   209               726      1745  \n",
       "4                   10                   221               773      1863  "
      ]
     },
     "execution_count": 210,
     "metadata": {},
     "output_type": "execute_result"
    }
   ],
   "source": [
    "import pandas as pd\n",
    "import numpy as np\n",
    "import matplotlib.pyplot as plt\n",
    "import plotly.express as px\n",
    "import plotly.graph_objects as go\n",
    "\n",
    "data = pd.read_csv(\"data.csv\")\n",
    "data.head()"
   ]
  },
  {
   "cell_type": "markdown",
   "id": "72e5bb69",
   "metadata": {},
   "source": [
    "Before moving forward, let’s have a look at whether this dataset has any null values or not:"
   ]
  },
  {
   "cell_type": "code",
   "execution_count": 211,
   "id": "df821f00",
   "metadata": {},
   "outputs": [
    {
     "data": {
      "text/plain": [
       "Id                          0\n",
       "ActivityDate                0\n",
       "TotalSteps                  0\n",
       "TotalDistance               0\n",
       "TrackerDistance             0\n",
       "LoggedActivitiesDistance    0\n",
       "VeryActiveDistance          0\n",
       "ModeratelyActiveDistance    0\n",
       "LightActiveDistance         0\n",
       "SedentaryActiveDistance     0\n",
       "VeryActiveMinutes           0\n",
       "FairlyActiveMinutes         0\n",
       "LightlyActiveMinutes        0\n",
       "SedentaryMinutes            0\n",
       "Calories                    0\n",
       "dtype: int64"
      ]
     },
     "execution_count": 211,
     "metadata": {},
     "output_type": "execute_result"
    }
   ],
   "source": [
    "data.isnull().sum()"
   ]
  },
  {
   "cell_type": "code",
   "execution_count": 212,
   "id": "09e704f7",
   "metadata": {},
   "outputs": [
    {
     "data": {
      "text/html": [
       "<div>\n",
       "<style scoped>\n",
       "    .dataframe tbody tr th:only-of-type {\n",
       "        vertical-align: middle;\n",
       "    }\n",
       "\n",
       "    .dataframe tbody tr th {\n",
       "        vertical-align: top;\n",
       "    }\n",
       "\n",
       "    .dataframe thead th {\n",
       "        text-align: right;\n",
       "    }\n",
       "</style>\n",
       "<table border=\"1\" class=\"dataframe\">\n",
       "  <thead>\n",
       "    <tr style=\"text-align: right;\">\n",
       "      <th></th>\n",
       "      <th>Id</th>\n",
       "      <th>TotalSteps</th>\n",
       "      <th>TotalDistance</th>\n",
       "      <th>TrackerDistance</th>\n",
       "      <th>LoggedActivitiesDistance</th>\n",
       "      <th>VeryActiveDistance</th>\n",
       "      <th>ModeratelyActiveDistance</th>\n",
       "      <th>LightActiveDistance</th>\n",
       "      <th>SedentaryActiveDistance</th>\n",
       "      <th>VeryActiveMinutes</th>\n",
       "      <th>FairlyActiveMinutes</th>\n",
       "      <th>LightlyActiveMinutes</th>\n",
       "      <th>SedentaryMinutes</th>\n",
       "      <th>Calories</th>\n",
       "    </tr>\n",
       "  </thead>\n",
       "  <tbody>\n",
       "    <tr>\n",
       "      <th>count</th>\n",
       "      <td>9.400000e+02</td>\n",
       "      <td>940.000000</td>\n",
       "      <td>940.000000</td>\n",
       "      <td>940.000000</td>\n",
       "      <td>940.000000</td>\n",
       "      <td>940.000000</td>\n",
       "      <td>940.000000</td>\n",
       "      <td>940.000000</td>\n",
       "      <td>940.000000</td>\n",
       "      <td>940.000000</td>\n",
       "      <td>940.000000</td>\n",
       "      <td>940.000000</td>\n",
       "      <td>940.000000</td>\n",
       "      <td>940.000000</td>\n",
       "    </tr>\n",
       "    <tr>\n",
       "      <th>mean</th>\n",
       "      <td>4.855407e+09</td>\n",
       "      <td>7637.910638</td>\n",
       "      <td>5.489702</td>\n",
       "      <td>5.475351</td>\n",
       "      <td>0.108171</td>\n",
       "      <td>1.502681</td>\n",
       "      <td>0.567543</td>\n",
       "      <td>3.340819</td>\n",
       "      <td>0.001606</td>\n",
       "      <td>21.164894</td>\n",
       "      <td>13.564894</td>\n",
       "      <td>192.812766</td>\n",
       "      <td>991.210638</td>\n",
       "      <td>2303.609574</td>\n",
       "    </tr>\n",
       "    <tr>\n",
       "      <th>std</th>\n",
       "      <td>2.424805e+09</td>\n",
       "      <td>5087.150742</td>\n",
       "      <td>3.924606</td>\n",
       "      <td>3.907276</td>\n",
       "      <td>0.619897</td>\n",
       "      <td>2.658941</td>\n",
       "      <td>0.883580</td>\n",
       "      <td>2.040655</td>\n",
       "      <td>0.007346</td>\n",
       "      <td>32.844803</td>\n",
       "      <td>19.987404</td>\n",
       "      <td>109.174700</td>\n",
       "      <td>301.267437</td>\n",
       "      <td>718.166862</td>\n",
       "    </tr>\n",
       "    <tr>\n",
       "      <th>min</th>\n",
       "      <td>1.503960e+09</td>\n",
       "      <td>0.000000</td>\n",
       "      <td>0.000000</td>\n",
       "      <td>0.000000</td>\n",
       "      <td>0.000000</td>\n",
       "      <td>0.000000</td>\n",
       "      <td>0.000000</td>\n",
       "      <td>0.000000</td>\n",
       "      <td>0.000000</td>\n",
       "      <td>0.000000</td>\n",
       "      <td>0.000000</td>\n",
       "      <td>0.000000</td>\n",
       "      <td>0.000000</td>\n",
       "      <td>0.000000</td>\n",
       "    </tr>\n",
       "    <tr>\n",
       "      <th>25%</th>\n",
       "      <td>2.320127e+09</td>\n",
       "      <td>3789.750000</td>\n",
       "      <td>2.620000</td>\n",
       "      <td>2.620000</td>\n",
       "      <td>0.000000</td>\n",
       "      <td>0.000000</td>\n",
       "      <td>0.000000</td>\n",
       "      <td>1.945000</td>\n",
       "      <td>0.000000</td>\n",
       "      <td>0.000000</td>\n",
       "      <td>0.000000</td>\n",
       "      <td>127.000000</td>\n",
       "      <td>729.750000</td>\n",
       "      <td>1828.500000</td>\n",
       "    </tr>\n",
       "    <tr>\n",
       "      <th>50%</th>\n",
       "      <td>4.445115e+09</td>\n",
       "      <td>7405.500000</td>\n",
       "      <td>5.245000</td>\n",
       "      <td>5.245000</td>\n",
       "      <td>0.000000</td>\n",
       "      <td>0.210000</td>\n",
       "      <td>0.240000</td>\n",
       "      <td>3.365000</td>\n",
       "      <td>0.000000</td>\n",
       "      <td>4.000000</td>\n",
       "      <td>6.000000</td>\n",
       "      <td>199.000000</td>\n",
       "      <td>1057.500000</td>\n",
       "      <td>2134.000000</td>\n",
       "    </tr>\n",
       "    <tr>\n",
       "      <th>75%</th>\n",
       "      <td>6.962181e+09</td>\n",
       "      <td>10727.000000</td>\n",
       "      <td>7.712500</td>\n",
       "      <td>7.710000</td>\n",
       "      <td>0.000000</td>\n",
       "      <td>2.052500</td>\n",
       "      <td>0.800000</td>\n",
       "      <td>4.782500</td>\n",
       "      <td>0.000000</td>\n",
       "      <td>32.000000</td>\n",
       "      <td>19.000000</td>\n",
       "      <td>264.000000</td>\n",
       "      <td>1229.500000</td>\n",
       "      <td>2793.250000</td>\n",
       "    </tr>\n",
       "    <tr>\n",
       "      <th>max</th>\n",
       "      <td>8.877689e+09</td>\n",
       "      <td>36019.000000</td>\n",
       "      <td>28.030001</td>\n",
       "      <td>28.030001</td>\n",
       "      <td>4.942142</td>\n",
       "      <td>21.920000</td>\n",
       "      <td>6.480000</td>\n",
       "      <td>10.710000</td>\n",
       "      <td>0.110000</td>\n",
       "      <td>210.000000</td>\n",
       "      <td>143.000000</td>\n",
       "      <td>518.000000</td>\n",
       "      <td>1440.000000</td>\n",
       "      <td>4900.000000</td>\n",
       "    </tr>\n",
       "  </tbody>\n",
       "</table>\n",
       "</div>"
      ],
      "text/plain": [
       "                 Id    TotalSteps  TotalDistance  TrackerDistance  \\\n",
       "count  9.400000e+02    940.000000     940.000000       940.000000   \n",
       "mean   4.855407e+09   7637.910638       5.489702         5.475351   \n",
       "std    2.424805e+09   5087.150742       3.924606         3.907276   \n",
       "min    1.503960e+09      0.000000       0.000000         0.000000   \n",
       "25%    2.320127e+09   3789.750000       2.620000         2.620000   \n",
       "50%    4.445115e+09   7405.500000       5.245000         5.245000   \n",
       "75%    6.962181e+09  10727.000000       7.712500         7.710000   \n",
       "max    8.877689e+09  36019.000000      28.030001        28.030001   \n",
       "\n",
       "       LoggedActivitiesDistance  VeryActiveDistance  ModeratelyActiveDistance  \\\n",
       "count                940.000000          940.000000                940.000000   \n",
       "mean                   0.108171            1.502681                  0.567543   \n",
       "std                    0.619897            2.658941                  0.883580   \n",
       "min                    0.000000            0.000000                  0.000000   \n",
       "25%                    0.000000            0.000000                  0.000000   \n",
       "50%                    0.000000            0.210000                  0.240000   \n",
       "75%                    0.000000            2.052500                  0.800000   \n",
       "max                    4.942142           21.920000                  6.480000   \n",
       "\n",
       "       LightActiveDistance  SedentaryActiveDistance  VeryActiveMinutes  \\\n",
       "count           940.000000               940.000000         940.000000   \n",
       "mean              3.340819                 0.001606          21.164894   \n",
       "std               2.040655                 0.007346          32.844803   \n",
       "min               0.000000                 0.000000           0.000000   \n",
       "25%               1.945000                 0.000000           0.000000   \n",
       "50%               3.365000                 0.000000           4.000000   \n",
       "75%               4.782500                 0.000000          32.000000   \n",
       "max              10.710000                 0.110000         210.000000   \n",
       "\n",
       "       FairlyActiveMinutes  LightlyActiveMinutes  SedentaryMinutes  \\\n",
       "count           940.000000            940.000000        940.000000   \n",
       "mean             13.564894            192.812766        991.210638   \n",
       "std              19.987404            109.174700        301.267437   \n",
       "min               0.000000              0.000000          0.000000   \n",
       "25%               0.000000            127.000000        729.750000   \n",
       "50%               6.000000            199.000000       1057.500000   \n",
       "75%              19.000000            264.000000       1229.500000   \n",
       "max             143.000000            518.000000       1440.000000   \n",
       "\n",
       "          Calories  \n",
       "count   940.000000  \n",
       "mean   2303.609574  \n",
       "std     718.166862  \n",
       "min       0.000000  \n",
       "25%    1828.500000  \n",
       "50%    2134.000000  \n",
       "75%    2793.250000  \n",
       "max    4900.000000  "
      ]
     },
     "execution_count": 212,
     "metadata": {},
     "output_type": "execute_result"
    }
   ],
   "source": [
    "data.describe()"
   ]
  },
  {
   "cell_type": "code",
   "execution_count": 213,
   "id": "98e4ed7b",
   "metadata": {},
   "outputs": [
    {
     "name": "stdout",
     "output_type": "stream",
     "text": [
      "<class 'pandas.core.frame.DataFrame'>\n",
      "RangeIndex: 940 entries, 0 to 939\n",
      "Data columns (total 15 columns):\n",
      " #   Column                    Non-Null Count  Dtype  \n",
      "---  ------                    --------------  -----  \n",
      " 0   Id                        940 non-null    int64  \n",
      " 1   ActivityDate              940 non-null    object \n",
      " 2   TotalSteps                940 non-null    int64  \n",
      " 3   TotalDistance             940 non-null    float64\n",
      " 4   TrackerDistance           940 non-null    float64\n",
      " 5   LoggedActivitiesDistance  940 non-null    float64\n",
      " 6   VeryActiveDistance        940 non-null    float64\n",
      " 7   ModeratelyActiveDistance  940 non-null    float64\n",
      " 8   LightActiveDistance       940 non-null    float64\n",
      " 9   SedentaryActiveDistance   940 non-null    float64\n",
      " 10  VeryActiveMinutes         940 non-null    int64  \n",
      " 11  FairlyActiveMinutes       940 non-null    int64  \n",
      " 12  LightlyActiveMinutes      940 non-null    int64  \n",
      " 13  SedentaryMinutes          940 non-null    int64  \n",
      " 14  Calories                  940 non-null    int64  \n",
      "dtypes: float64(7), int64(7), object(1)\n",
      "memory usage: 110.3+ KB\n"
     ]
    }
   ],
   "source": [
    "data.info()"
   ]
  },
  {
   "cell_type": "code",
   "execution_count": 214,
   "id": "63b06d59",
   "metadata": {},
   "outputs": [
    {
     "name": "stdout",
     "output_type": "stream",
     "text": [
      "<class 'pandas.core.frame.DataFrame'>\n",
      "RangeIndex: 940 entries, 0 to 939\n",
      "Data columns (total 15 columns):\n",
      " #   Column                    Non-Null Count  Dtype         \n",
      "---  ------                    --------------  -----         \n",
      " 0   Id                        940 non-null    int64         \n",
      " 1   ActivityDate              940 non-null    datetime64[ns]\n",
      " 2   TotalSteps                940 non-null    int64         \n",
      " 3   TotalDistance             940 non-null    float64       \n",
      " 4   TrackerDistance           940 non-null    float64       \n",
      " 5   LoggedActivitiesDistance  940 non-null    float64       \n",
      " 6   VeryActiveDistance        940 non-null    float64       \n",
      " 7   ModeratelyActiveDistance  940 non-null    float64       \n",
      " 8   LightActiveDistance       940 non-null    float64       \n",
      " 9   SedentaryActiveDistance   940 non-null    float64       \n",
      " 10  VeryActiveMinutes         940 non-null    int64         \n",
      " 11  FairlyActiveMinutes       940 non-null    int64         \n",
      " 12  LightlyActiveMinutes      940 non-null    int64         \n",
      " 13  SedentaryMinutes          940 non-null    int64         \n",
      " 14  Calories                  940 non-null    int64         \n",
      "dtypes: datetime64[ns](1), float64(7), int64(7)\n",
      "memory usage: 110.3 KB\n"
     ]
    }
   ],
   "source": [
    "# Changing datatype of ActivityDate\n",
    "data[\"ActivityDate\"] = pd.to_datetime(data[\"ActivityDate\"], \n",
    "                                      format=\"%m/%d/%Y\")\n",
    "data.info()"
   ]
  },
  {
   "cell_type": "markdown",
   "id": "289fdf99",
   "metadata": {},
   "source": [
    "Look at all the columns; you will see information about very active, fairly active, lightly active, and sedentary minutes in the dataset. Let’s combine all these columns as total minutes before moving forward:"
   ]
  },
  {
   "cell_type": "code",
   "execution_count": 215,
   "id": "7b50e461",
   "metadata": {},
   "outputs": [
    {
     "data": {
      "text/plain": [
       "864    1440\n",
       "297    1440\n",
       "627    1440\n",
       "211     868\n",
       "832     862\n",
       "Name: TotalMinutes, dtype: int64"
      ]
     },
     "execution_count": 215,
     "metadata": {},
     "output_type": "execute_result"
    }
   ],
   "source": [
    "data[\"TotalMinutes\"] = data[\"VeryActiveMinutes\"] + data[\"FairlyActiveMinutes\"] + data[\"LightlyActiveMinutes\"] + data[\"SedentaryMinutes\"]\n",
    "data[\"TotalMinutes\"].sample(5)"
   ]
  },
  {
   "cell_type": "markdown",
   "id": "d1b5e5aa",
   "metadata": {},
   "source": [
    "Let’s Analyze the Smartwatch Data\n",
    "\n",
    "The dataset has a “Calories” column; it contains the data about the number of calories burned in a day. Let’s have a look at the relationship between calories burned and the total steps walked in a day:"
   ]
  },
  {
   "cell_type": "code",
   "execution_count": 216,
   "id": "a5c014c8",
   "metadata": {},
   "outputs": [
    {
     "data": {
      "application/vnd.plotly.v1+json": {
       "config": {
        "plotlyServerURL": "https://plot.ly"
       },
       "data": [
        {
         "hovertemplate": "Calories=%{x}<br>TotalSteps=%{y}<br>VeryActiveMinutes=%{marker.color}<extra></extra>",
         "legendgroup": "",
         "marker": {
          "color": {
           "bdata": "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",
           "dtype": "i2"
          },
          "coloraxis": "coloraxis",
          "symbol": "circle"
         },
         "mode": "markers",
         "name": "",
         "orientation": "v",
         "showlegend": false,
         "type": "scatter",
         "x": {
          "bdata": "wQcFB/AG0QZHB8AGgQfzB/oG7wYjB50H/AbdB7IHbwhqBy0HmwccB9QHxgcbB6cHaAcdB8wGGwdDB/cGAACYBYMFJAZABbcFEgZEBpsFpgW7Bb4FGgZRBtQFegWGBnkFfAV3BoIK2QU2BVgFWgU9BcIFkwUwBXEFTwXqA38MVguaDL4KpQ3DC/YK5Ax+CVwIKAl1Cm0JwQkzDLkJJAzCCQYPiAoUCvwMrgifCQANTA2rC8AL7wr8BO4HRAdSCL0GeQYBBxYHVgVFBQ4IIwdtBkMFQwVDBUQFyAdAB+MGBQZEBc4GDQY1BkcFQwVDBUMFQwVDBZkCrAhnCE8JrQgQCA8IPwgPCA8IEAgtCMMJFAk0CE4KDwgvCQ8IEAhrCckJkwgiCQ8ITwm1CA8IDwgPCA8IZwVWCSkKCAndCYEI3grSCrkJUQtWDE4KFQjhCaYJ6QqfCfgIMwqsCkwJqQnAClkKMQrCCcsHOAeVCu0K8Ak9B7MF8QWXBaQFXQW+BIsFTAWDBloFdwV8B3kFKAY7BjkGcQacBuIFpwWaBkQGegaGB8gG0wUTBk0HdQSiBlQFTAjTB6AGCQe8BjwHcQcTB4IHSgY7BwwHvQZ2BmAGyQXBBYIF8wZ7BU0GVgeSBfQGzga0Bx0HXgZrB28HZQQoCfYH2gdVCG4KWgeYByoJlggACJoHRQqLCC8IRQeSCD4HkwG+B9QHZQcPCGQI+QViB6QHLgiyB8EI5QdqB3MHWgeuBysH9AYmB8sGVgdyB98Hswd2B2kHMAhyB6oHIgeXBfwGLQgRCHQHdAesB94HwQdLB0wIhQbLB4EH2gcJCC8ItAf8B5oH1QSqBdcFmQW8BVkG+QUwBmYGEgZ1BckFZgZ3BiIGDwZhBX8FCQZyBt0F4AauBlwGUgY2BiYGYQaDBl4GNABGDr0H2weHC+sLxgfLB7wHvAe8B7wHvAe8B7wHvAe8B7wHvAe8B7wHnwgMCycPZQ2QCp8LEQzhCm4LVQpgBO4IAgnwBvcFQwhXCP4IwQdcB7gFYAaYCKwIAAdeB5kHWAcKCbwIFAk/CX8ILAg5Bt4IuwjqCOIJ2ghuCAAHKQnUCLgIAQGLCxQMtgv6CwEMDArKDMcLCwz9C9gN6gxFC9gMcQsCDJkLowvTDG4LSwzaDFoMUwthDbYPXg/FC/ULigtXBkEILwiSCMAJhAiNB8gIoge2B2YIgAllCMcIFgjzCDkJmwiUCDsJxgggCXUJFghICKMISwh3CekIhQjDCbwEdQe6BoIHSQjNB0UIRAhUB/wGtgkuCCUIfQixCK8IMgiJCH4HOQicBhIIoQcyB9YIuga1B2oKrwhhB1MIrAWDC1ILqAtQCwANQg3FC/wK9QupCsEIaw7SDfgL4ApcC9kLXQwrDOEHKwtJDLwLvgsrC2MO1wyuC2QM/QvYBOoHtgYUCc4IJwd1BZMG7AgiBhIIOQjwBuMF8QctCIIHzwd5CLcF0wbMB0QIogZsCHwH1gXiBuAIHwmdBuUCTQ33CbYPpQ+yEMgRKQ6tDXgMsg8BDVAMKBEuDRAM3gz8DdgNlRHCEcYL0w7DCrwLUwobBxsHuQkBD4EG2AXYBdgFMQsMC7EI4gcuCugJJBNpCVsKAQnZBZIJEApXBwAK4wg5CfwH2AVuB0wKLgelCcoI4AQAClkLiAtQC98KYwzOChcLjQoMCOwKaAqPCtMKDAi3Cn8KDAgbC/8MpQpvCp4Kegr2CjUKmAp/CAAAMQdgCcsJTwixCBMI7goxB48OMQeCBzEHBQi0CRgKMQfJBzEH6AgPCTEHMwcxBzEHwAkIBMoHtga6BdwGfQjrB/cH/gd+CIMIJggLCqkGkgjcB/IHhgjOCNIHzAZyCBgIJggSCDoHmwd7BjkIOQk/B6ADeQu2CmwKMggcCE8JEAv8ChgMywpJC+wIawrvC3sLDgsUC2wMAwixCFIKoAsVBnUL+Ql4ANQK1AmuClsJYwZdBrcKgAu1C58JHgutBwEIwArdCoUKLgs4CrMLqgrCCsIKXwpSCWwLswrmCZAL8AqvCq8EcgxEDFMNUg0zC40MPQwqDOMLHwxfCuIN+Q1LDR4LJAv2C+oKaAleB8QHzwtmC4YLKwsDDQUOzQpuC/kK4QX8B48HqQZgBlgHQAglB+MGiweqCHMGVAi4B3UHFQfYBywGPgcAADMO7w9DEFIOIw0MCj0Q/A/LDowQzA9cC7UKpQ+zDvULRAumC2QKKQ2jDcgOJgzHDjwO7wp9CokOAg7MDrgHWgpeCosJyQmFCocJ6AlsClcKQwuAC8QLSQvzCRUMRgzFCrkNXAwkCk4LjAzUCcIMewr6CnwLgwseC/QKAAD8B44HqwfZB7kGmAaYBpgGjAi4BnMJvAoHB5gGiAcTCNwKHQxQC6oH3wf5CBMImAaYBpgGmAaYBjkAUQ/uDdEOXg/DEdkNyQpcDl8OSw5jDTMPfw3aDiwL4A70C4oKLhHiCo0IAQuVDewLrw8uEB8Lfg4QC/gOOQc=",
          "dtype": "i2"
         },
         "xaxis": "x",
         "y": {
          "bdata": "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",
          "dtype": "i4"
         },
         "yaxis": "y"
        },
        {
         "hovertemplate": "<b>OLS trendline</b><br>TotalSteps = 4.19039 * Calories + -2015.1<br>R<sup>2</sup>=0.349953<br><br>Calories=%{x}<br>TotalSteps=%{y} <b>(trend)</b><extra></extra>",
         "legendgroup": "",
         "marker": {
          "symbol": "circle"
         },
         "mode": "lines",
         "name": "",
         "showlegend": false,
         "type": "scatter",
         "x": {
          "bdata": "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",
          "dtype": "i2"
         },
         "xaxis": "x",
         "y": {
          "bdata": "lORQCGh8n8CU5FAIaHyfwJTkUAhofJ/AlORQCGh8n8AGLDhizhScwKpBGJz/wJvA6+tSdQWhl8B2RjdOYVGNwCw5RQQFZnTA1LqHzAkciEBMYY925QeRQJjRBQJORp1AROK7VFQPoUBaoRunwAqiQCAWzqlC7KRATgveDCoWpUAWT0SwQZylQMYEl2BXgqdA2BtalUrvp0BS5MaJDQCoQMDlqYTPwKhAdBJN8/PZqEBYNADF/xypQPQq8yKpB6pAOof/9XW7q0Cm4EXTvu2rQEyewippKKxAAstlmY1BrEC49wgIslqsQLj3CAiyWqxAuPcICLJarEC49wgIslqsQLj3CAiyWqxAuPcICLJarEC49wgIslqsQLj3CAiyWqxA9Fs/ghNjrED0Wz+CE2OsQDDAdfx0a6xAqoji8Dd8rEDYffJTH6asQIyqlcJDv6xAup+lJSvprEA0aBIa7vmsQKwwfw6xCq1AJvnrAnQbrUAm+esCdButQNolj3GYNK1AzLZoWh5WrUA4EK83Z4itQJT6zv013K1Ahouo5rv9rUCGi6jmu/2tQP5TFdt+Dq5AdhyCz0EfrkB2HILPQR+uQLSAuEmjJ65A8OTuwwQwrkAsSSU+ZjiuQOJ1yKyKUa5AlqJrG69qrkDUBqKVEHOuQLYoVWcctq5AXubRvsbwrkCaSgg5KPmuQIzb4SGuGq9AjNvhIa4ar0DIPxicDyOvQASkThZxK69Afmy7CjQ8r0Ce8qRWoYevQBa7EUtkmK9AVB9IxcWgr0AITOsz6rmvQIIUWCityq9AFGnqv6sCsECNMVe0bhOwQI0xV7RuE7BAq2NycZ8XsEDox6jrACCwQAb6w6gxJLBAJCzfZWIosEBhkBXgwzCwQLsmZxdWPbBA2ViC1IZBsECtt0AA3F6wQK23QADcXrBA26xQY8OIsED53msg9IywQDZDoppVlbBAVHW9V4aZsEByp9gUt52wQHKn2BS3nbBAcqfYFLedsEByp9gUt52wQJDZ89HnobBAkNnz0eehsEAJomDGqrKwQIJqzbptw7BAoJzod57HsEC/zgM1z8uwQGaMgIx5BrFAG7kj+50fsUBXHVp1/yexQFcdWnX/J7FAwnagUkhasUA7Pw1HC2uxQLQHejvOe7FA8GuwtS+EsUBLAgLtwZCxQEsCAu3BkLFAaTQdqvKUsUCmmFMkVJ2xQD2T29VHsrFALiS1vs3TsUAuJLW+zdOxQGuI6zgv3LFAp+whs5DksUDkUFgt8uyxQF0ZxSG1/bFA1eExFngOskBt3LnHayOyQIsO1YScJ7JA5aQmvC40skDlpCa8LjSyQCIJXTaQPLJAMsxR3EZiskAyzFHcRmKyQOf49Epre7JAQo9Ggv2HskC7V7N2wJiyQNmJzjPxnLJAcIRW5eSxskCs6IxfRrqyQAd/3pbYxrJAJbH5UwnLskBE4xQROs+yQETjFBE6z7JAgEdLi5vXskCAR0uLm9eyQIBHS4ub17JAnnlmSMzbskDb3ZzCLeSyQDV07vm/8LJANXTu+b/wskAJ06wlFQ6zQIKbGRrYHrNAoM001wgjs0C+/0+UOSezQBmWocvLM7NAN8i8iPw3s0A3yLyI/DezQHMs8wJeQLNAkl4OwI5Es0CwkCl9v0izQGW9zOvjYbNAoiEDZkVqs0CiIQNmRWqzQN6FOeCmcrNA/LdUndd2s0CFQ7Y3Ua2zQBw+PulEwrNAHD4+6UTCs0AcPj7pRMKzQBw+PulEwrNAHD4+6UTCs0AcPj7pRMKzQBw+PulEwrNAHD4+6UTCs0AcPj7pRMKzQFmidGOmyrNAlQar3QfTs0CVBqvdB9OzQLM4xpo417NADs8X0srjs0BKM05MLOyzQEozTkws7LNAHpIMeIEJtEAekgx4gQm0QLWMlCl1HrRApx1uEvs/tECnHW4S+z+0QOOBpIxcSLRAAbS/SY1MtEAg5toGvlC0QCDm2ga+ULRAXEoRgR9ZtEB6fCw+UF20QHp8LD5QXbRA1RJ+deJptEDHo1deaIu0QCE6qZX6l7RAQGzEUiuctEBAbMRSK5y0QHzQ+syMpLRAfND6zIyktEDXZkwEH7G0QBPLgn6AubRAI453JDfftECcVuQY+u+0QNi6GpNb+LRA9+w1UIz8tED37DVQjPy0QGFGfC3VLrVAf3iX6gUztUB/eJfqBTO1QH94l+oFM7VA2g7pIZg/tUD4QATfyEO1QPhABN/IQ7VAU9dVFltQtUCubadN7Vy1QOrR3cdOZbVA6tHdx05ltUDq0d3HTmW1QGOaSrwRdrVAY5pKvBF2tUCBzGV5Qnq1QPqU0m0Fi7VAN/kI6GaTtUBzXT9iyJu1QM7zkJlaqLVAoVJPxa/FtUDetoU/Ec61QPzooPxB0rVAk+MorjXntUCT4yiuNee1QJPjKK4157VAk+MorjXntUCxFURrZuu1QM9HXyiX77VAz0dfKJfvtUBmQufZigS2QIV0Ape7CLZAhXQCl7sItkDB2DgRHRG2QN8KVM5NFbZA/jxvi34ZtkB2Bdx/QSq2QLNpEvqiMrZA0Zstt9M2tkAsMn/uZUO2QCwyf+5lQ7ZALDJ/7mVDtkAsMn/uZUO2QCwyf+5lQ7ZALDJ/7mVDtkAsMn/uZUO2QCwyf+5lQ7ZALDJ/7mVDtkBKZJqrlke2QGiWtWjHS7ZA/5A9GrtgtkAdw1jX62S2QDz1c5QcabZAWiePUU1ttkB4WaoOfnG2QJaLxcuudbZAtb3giN95tkC1veCI33m2QNPv+0UQfrZA8SEXA0GCtkBMuGg60462QGrqg/cDk7ZAiByftDSXtkDFgNUulp+2QD1JQiNZsLZAeq14nbq4tkBNDDfJD9a2QIpwbUNx3rZAinBtQ3HetkCooogAouK2QMbUo73S5rZAxtSjvdLmtkADOdo3NO+2QAM52jc077ZAP50QspX3tkB8AUcs9/+2QHwBRyz3/7ZA1peYY4kMt0D0ybMguhC3QE9gBVhMHbdAqvZWj94pt0DIKHJMDy63QOZajQlAMrdA5lqNCUAyt0AEjajGcDa3QF8j+v0CQ7dAfVUVuzNHt0C6uUs1lU+3QNjrZvLFU7dA2Otm8sVTt0D2HYKv9le3QBRQnWwnXLdAFFCdbCdct0AzgrgpWGC3QDOCuClYYLdAUbTT5ohkt0AG4XZVrX23QAbhdlWtfbdAQ0Wtzw6Gt0Cd2/4GoZK3QJ3b/gahkrdAuw0axNGWt0C7DRrE0Za3QLsNGsTRlrdAuw0axNGWt0A01oa4lKe3QHE6vTL2r7dAy9AOaoi8t0AINUXk6cS3QCZnYKEaybdARJl7XkvNt0BUXHAEAvO3QHKOi8Ey97dAkcCmfmP7t0CRwKZ+Y/u3QK/ywTuU/7dAr/LBO5T/t0DrVvi19Qe4QGQfZaq4GLhAglGAZ+kcuEC/tbbhSiW4QBlMCBndMbhAdeJZUG8+uEB14llQbz64QJMUdQ2gQrhAsUaQytBGuEDPeKuHAUu4QO2qxkQyT7hAZXMzOfVfuEBlczM59V+4QIWlTvYlZLhAo9dps1ZouECj12mzVmi4QMEJhXCHbLhA3zugLbhwuEAboNanGXm4QBug1qcZebhAlWhDnNyJuECVaEOc3Im4QJVoQ5zcibhAlWhDnNyJuECVaEOc3Im4QJVoQ5zcibhAlWhDnNyJuECVaEOc3Im4QJVoQ5zcibhAlWhDnNyJuECVaEOc3Im4QJVoQ5zcibhAlWhDnNyJuECzml5ZDY64QNHMeRY+krhAK2PLTdCeuEArY8tN0J64QCtjy03QnrhAhfkchWKruEDDXVP/w7O4QMNdU//Ds7hA/8GJeSW8uEAd9KQ2VsC4QDsmwPOGxLhAWVjbsLfIuEBZWNuwt8i4QFlY27C3yLhAd4r2bejMuECVvBErGdG4QNMgSKV62bhALbeZ3AzmuEBL6bSZPeq4QGkb0FZu7rhAaRvQVm7uuEDj4zxLMf+4QAEWWAhiA7lAH0hzxZIHuUAfSHPFkge5QD16joLDC7lAW6ypP/QPuUB53sT8JBS5QJcQ4LlVGLlAtUL7doYcuUC1Qvt2hhy5QPOmMfHnJLlAEdlMrhgpuUBrb57lqjW5QANqJpeeSrlAIZxBVM9OuUB7MpOLYVu5QNXI5MLzZ7lA8/r/fyRsuUATLRs9VXC5QG3DbHTnfLlAi/WHMRiBuUAj8A/jC5a5QCPwD+MLlrlAI/AP4wuWuUAj8A/jC5a5QF9URl1tnrlAm7h8186muUC56peU/6q5QPVOzg5hs7lAM7MEicK7uUCre3F9hcy5QAUSw7QX2blABRLDtBfZuUAFEsO0F9m5QEN2+S554blAYagU7KnluUBhqBTsqeW5QGGoFOyp5blAYagU7KnluUBhqBTsqeW5QGGoFOyp5blAYagU7KnluUBhqBTsqeW5QGGoFOyp5blAYagU7KnluUBhqBTsqeW5QH/aL6na6blAf9ovqdrpuUB/2i+p2um5QJ0MS2YL7rlAuz5mIzzyuUC7PmYjPPK5QLs+ZiM88rlA2XCB4Gz2uUDZcIHgbPa5QNlwgeBs9rlAFdW3Ws7+uUAzB9MX/wK6QDMH0xf/ArpAcWsJkmALukDpM3aGIxy6QPn2aizaQbpAFymG6QpGukAXKYbpCka6QM1VKVgvX7pA64dEFWBjukDrh0QVYGO6QOuHRBVgY7pACbpf0pBnukAJul/SkGe6QCfseo/Ba7pAJ+x6j8FrukAn7HqPwWu6QEUelkzyb7pAgYLMxlN4ukCBgszGU3i6QL/mAkG1gLpAVeGK8qiVukBV4YryqJW6QFXhivKolbpACw4uYc2uukApQEke/rK6QEdyZNsut7pAg9aaVZC/ukChCLYSwcO6QKEIthLBw7pAwTrRz/HHukAb0SIHhNS6QDkDPsS02LpAdWd0PhbhukCTmY/7RuW6QJOZj/tG5bpA7y/hMtnxukBJxjJqa/66QGf4TSecArtAhSpp5MwGu0CjXISh/Qq7QOHAuhtfE7tAd7tCzVIou0BpTBy22Em7QId+N3MJTrtApbBSMDpSu0DD4m3tala7QFvd9Z5ea7tAl0EsGcBzu0C1c0fW8He7QA8KmQ2DhLtA42hXOdihu0BdMcQtm7K7QF0xxC2bsrtAe2Pf6su2u0CZlfqn/Lq7QJmV+qf8urtA1fkwIl7Du0ARXmecv8u7QC+Qglnwz7tAT8KdFiHUu0Bt9LjTUdi7QMeKCgvk5LtAA+9AhUXtu0AhIVxCdvG7QD9Td/+m9btA103/sJoKvEDXTf+wmgq8QNdN/7CaCrxA9X8abssOvEATsjUr/BK8QE8WbKVdG7xAjXqiH78jvEDnEPRWUTC8QF/ZYEsUQbxA2aHNP9dRvECtAIxrLG+8QOlkwuWNd7xA6WTC5Y13vEAHl92ivnu8QCXJ+F/vf7xAQ/sTHSCEvEBD+xMdIIS8QH9fSpeBjLxAf19Kl4GMvEB/X0qXgYy8QH9fSpeBjLxA+Se3i0SdvEBTvgjD1qm8QK1UWvpotrxAzYZ1t5m6vEBjgf1ojc+8QGOB/WiNz7xA+3uFGoHkvEAZrqDXsei8QDfgu5Ti7LxAc0TyDkT1vEDtDF8DBwa9QO0MXwMHBr1AoTkCcisfvUDdnTjsjCe9QFdmpeBPOL1Azy4S1RJJvUALk0hPdFG9QGcpmoYGXr1A/SMiOPpyvUAbVj31Kne9QDuIWLJbe71Ad+yOLL2DvUB37I4svYO9QLNQxaYejL1AS0tNWBKhvUDhRdUJBra9QP938MY2ur1Al3J4eCrPvUDxCMqvvNu9QA875Wzt371AxWeI2xH5vUABzL5VcwG+QJnGRgdnFr5AL8HOuForvkAvwc64Wiu+QC/BzrhaK75Ae+j52HJZvkCbGhWWo12+QNd+SxAFZr5Ai6vufil/vkCLq+5+KX++QKndCTxag75AyQ8l+YqHvkBfCq2qfpy+QI3/vA1mxr5Ajf+8DWbGvkCN/7wNZsa+QMlj84fHzr5AQyxgfIrfvkDLt8EWBBa/QCdOE06WIr9AJ04TTpYiv0AnThNOliK/QIHkZIUoL79A+azRees/v0CRp1kr31S/QCei4dzSab9AGTO7xViLv0A3ZdaCiY+/QHXJDP3ql79AsS1Dd0ygv0BnWublcLm/QKO+HGDSwb9A3yJT2jPKv0CzgREGiee/QO/lR4Dq779AYiID1p8GwECehjlQAQ/AQAi2GOarHcBAzHtJs+g4wEDMe0mz6DjAQMx7SbPoOMBAJhKb6npFwEA2qyhJk0fAQGJ20WTcTcBACgrndOhkwEAoPAIyGWnAQFQHq01ib8BAVAerTWJvwEBUB6tNYm/AQL42iuMMfsBAvjaK4wx+wEDOzxdCJYDAQNxopaA9gsBA3GiloD2CwEDsATP/VYTAQOwBM/9VhMBARpiENuiQwEBGmIQ26JDAQGTKn/MYlcBA7CuaRvSnwEDsK5pG9KfAQHSNlJnPusBAsvHKEzHDwEDAilhyScXAQPzujuyqzcBAGiGqqdvRwEAaIaqp29HAQJTpFp6e4sBAwrS/uefowED+GPYzSfHAQBxLEfF59cBAhnrwhiQEwUCGevCGJATBQCwOBpcwG8FAOqeT9UgdwUA6p5P1SB3BQHgLym+qJcFAtG8A6gsuwUDw0zZkbTbBQKYA2tKRT8FA8P2dqwtawUA8+2GEhWTBQGrGCqDOasFAiPglXf9uwUCmKkEaMHPBQNT16TV5ecFAmLsaA7aUwUAC6/mYYKPBQCAdFVaRp8FAIB0VVpGnwUBcgUvQ8q/BQGwa2S4LssFAikz06zu2wUCofg+pbLrBQMawKmadvsFA1km4xLXAwUDk4kUjzsLBQBKu7j4XycFAIEd8nS/LwUAgR3ydL8vBQGxEQHap1cFAqKh28ArewUDI2pGtO+LBQNZzHwxU5MFA5gytamzmwUDmDK1qbObBQAQ/yCed6sFAEthVhrXswUBubqe9R/nBQLhra5bBA8JAyAT59NkFwkDmNhSyCgrCQARpL287DsJAMjTYioQUwkBg/4CmzRrCQGD/gKbNGsJAjMopwhYhwkCq/ER/RyXCQNjH7ZqQK8JA9vkIWMEvwkAGk5a22THCQFCQWo9TPMJAflsDq5xCwkDY8VTiLk/CQEIhNHjZXcJAfoVq8jpmwkCOHvhQU2jCQKxQEw6EbMJAyoIuy7RwwkDaG7wpzXLCQBaA8qMue8JANLINYV9/wkBES5u/d4HCQFLkKB6Qg8JAUuQoHpCDwkCe4ez2CY7CQLwTCLQ6ksJA2kUjcWuWwkDaRSNxa5bCQPh3Pi6cmsJA+Hc+LpyawkAIEcyMtJzCQCZD50nloMJAYqcdxEapwkCA2TiBd63CQJ4LVD6oscJArqThnMCzwkDqCBgXIrzCQPqhpXU6vsJACDsz1FLAwkCCA6DIFdHCQJCcLScu08JAoDW7hUbVwkCuzkjkXtfCQL5n1kJ32cJAzgBkoY/bwkDcmfH/p93CQEbJ0JVS7MJAVmJe9GruwkB0lHmxm/LCQIItBxC09MJAksaUbsz2wkCgXyLN5PjCQKBfIs3k+MJAsPivK/36wkDsXOalXgPDQAqPAWOPB8NACo8BY48Hw0A4Wqp+2A3DQEbzN93wD8NAZiVTmiEUw0BmJVOaIRTDQLAiF3ObHsNAVrYsg6c1w0BWtiyDpzXDQHboR0DYOcNAlBpj/Qg+w0CUGmP9CD7DQNB+mXdqRsNA/klCk7NMw0A6rngNFVXDQGZ5ISleW8NAZnkhKV5bw0BmeSEpXlvDQHYSr4d2XcNAwg9zYPBnw0AsP1L2mnbDQCw/UvaadsNALD9S9pp2w0A62N9Us3jDQFgK+xHkfMNAhtWjLS2Dw0CkB7/qXYfDQJaYmNPjqMNApDEmMvyqw0C0yrOQFK3DQPAu6gp2tcNA8C7qCna1w0A8LK7j77/DQFpeyaAgxMNAWl7JoCDEw0BaXsmgIMTDQGr3Vv84xsNAeJDkXVHIw0CIKXK8acrDQLT0Gtiy0MNA4r/D8/vWw0AQi2wPRd3DQBCLbA9F3cNApoX0wDjyw0ACHEb4yv7DQCBOYbX7AsRAIE5htfsCxEAgTmG1+wLEQEwZCtFECcRAin1AS6YRxEDG4XbFBxrEQOQTkoI4HsRA9Kwf4VAgxEAwEVZbsijEQDARVluyKMRAXNz+dvsuxEBc3P52+y7EQIqnp5JENcRAmkA18Vw3xECo2cJPdTnEQMYL3gymPcRA1qRra74/xEAioi9EOErEQKoDKpcTXcRABJp7zqVpxEAUMwktvmvEQED+sUgHcsRAbslaZFB4xECM+3UhgXzEQLrGHj3KgsRA5pHHWBOJxEAyj4sxjZPEQFDBpu69l8RAYFo0TdaZxEC68IWEaKbEQLrwhYRopsRA2CKhQZmqxED2VLz+ya7EQCQgZRoTtcRAMrnyeCu3xEBCUoDXQ7nEQEJSgNdDucRAUusNNly7xEBghJuUdL3EQNpMCIk3zsRAcEeQOivjxEAIQhjsHvjEQIAKheDhCMVAkKMSP/oKxUC8brtaQxHFQAhsfzO9G8VAGAUNktUdxUAYBQ2S1R3FQBgFDZLVHcVAJp6a8O0fxUBE0LWtHiTFQGIC0WpPKMVAkM15hpguxUCQzXmGmC7FQMwxsAD6NsVA3Mo9XxI5xUBkLDiy7UvFQLAp/IpnVsVAvsKJ6X9YxUDsjTIFyV7FQPomwGPhYMVAKPJofypnxUB07yxYpHHFQJIhSBXVdcVA3h4M7k6AxUD8UCerf4TFQDi1XSXhjMVASE7rg/mOxUDAFlh4vJ/FQFgR4CmwtMVAwEC/v1rDxUDgctp8i8fFQAw+g5jUzcVAKnCeVQXSxUB2bWIuf9zFQNADtGUR6cVADmjq33LxxUAsmgWdo/XFQDozk/u798VAlsnkMk4ExkCkYnKRZgbGQB4r34UpF8ZAeMEwvbsjxkDSV4L0TTDGQDyHYYr4PsZAAE2SVzVaxkAQ5h+2TVzGQNSrUIOKd8ZAMJZwSVnLxkCqXt09HNzGQDLA15D37sZAbiQOC1n3xkB+vZtpcfnGQJzvtiai/cZA2FPtoAMGx0Ay6j7YlRLHQI6AkA8oH8dAnkOFtd5Ex0DKDi7RJ0vHQNqnuy9ATcdA2qe7L0BNx0DoQEmOWE/HQAZzZEuJU8dA6pQXHZWWx0BEK2lUJ6PHQJAoLS2hrcdAvh09kIjXx0BGfzfjY+rHQFYYxUF87MdAZLFSoJTux0CwrhZ5DvnHQMBHpNcm+8dAlKZiA3wYyECy2H3ArBzIQNAKmX3dIMhAWJb6F1dXyECkvSU4b4XIQHgc5GPEoshAlk7/IPWmyEAQF2wVuLfIQMRDD4Tc0MhAPjbjvz0FyUCazDT3zxHJQJrMNPfPEclAqGXCVegTyUAwx7yowybJQObzXxfoP8lAjId1J/RWyUC6Uh5DPV3JQBTpb3rPaclAQrQYlhhwyUBgOgLihbvJQPg0ipN50MlAgJaE5lTjyUAYkQyYSPjJQGKO0HDCAspAzL2vBm0RykBkuDe4YCbKQJCD4NOpLMpAzucWTgs1ykBGsINCzkXKQGYMBkedbcpADKAbV6mEykBmNm2OO5HKQIa8Vtqo3MpAtLFmPZAGy0DESvSbqAjLQPAVnbfxDstAAK8qFgoRy0BMrO7ugxvLQGreCay0H8tA1A3pQV8uy0AupDp58TrLQJj9gFY6bctAIF97qRWAy0BsXD+Cj4rLQF4XgLKzz8tAFEQjIdjoy0DaM7s1syfMQJ756wLwQsxAnvnrAvBCzEDQbDE8stfMQNBsMTyy18xAZme57aXszECUMmIJ7/LMQNCWmINQ+8xA0JaYg1D7zEAcvsOjaCnNQC6rH5G9cs1A8nBQXvqNzUDmVfjVvPbNQMhNRGAqFs5AIuSVl7wizkByifaNr7vOQLBB+5ZNC89AU+cflkQB0ECBssixjQfQQAv9RLd0c9BA3/C2Bpmi0EBmvf01paPQQAy8XyLiqNBAUcSdZnIV0kA=",
          "dtype": "f8"
         },
         "yaxis": "y"
        }
       ],
       "layout": {
        "coloraxis": {
         "colorbar": {
          "title": {
           "text": "VeryActiveMinutes"
          }
         },
         "colorscale": [
          [
           0,
           "#0d0887"
          ],
          [
           0.1111111111111111,
           "#46039f"
          ],
          [
           0.2222222222222222,
           "#7201a8"
          ],
          [
           0.3333333333333333,
           "#9c179e"
          ],
          [
           0.4444444444444444,
           "#bd3786"
          ],
          [
           0.5555555555555556,
           "#d8576b"
          ],
          [
           0.6666666666666666,
           "#ed7953"
          ],
          [
           0.7777777777777778,
           "#fb9f3a"
          ],
          [
           0.8888888888888888,
           "#fdca26"
          ],
          [
           1,
           "#f0f921"
          ]
         ]
        },
        "legend": {
         "tracegroupgap": 0
        },
        "template": {
         "data": {
          "bar": [
           {
            "error_x": {
             "color": "#2a3f5f"
            },
            "error_y": {
             "color": "#2a3f5f"
            },
            "marker": {
             "line": {
              "color": "#E5ECF6",
              "width": 0.5
             },
             "pattern": {
              "fillmode": "overlay",
              "size": 10,
              "solidity": 0.2
             }
            },
            "type": "bar"
           }
          ],
          "barpolar": [
           {
            "marker": {
             "line": {
              "color": "#E5ECF6",
              "width": 0.5
             },
             "pattern": {
              "fillmode": "overlay",
              "size": 10,
              "solidity": 0.2
             }
            },
            "type": "barpolar"
           }
          ],
          "carpet": [
           {
            "aaxis": {
             "endlinecolor": "#2a3f5f",
             "gridcolor": "white",
             "linecolor": "white",
             "minorgridcolor": "white",
             "startlinecolor": "#2a3f5f"
            },
            "baxis": {
             "endlinecolor": "#2a3f5f",
             "gridcolor": "white",
             "linecolor": "white",
             "minorgridcolor": "white",
             "startlinecolor": "#2a3f5f"
            },
            "type": "carpet"
           }
          ],
          "choropleth": [
           {
            "colorbar": {
             "outlinewidth": 0,
             "ticks": ""
            },
            "type": "choropleth"
           }
          ],
          "contour": [
           {
            "colorbar": {
             "outlinewidth": 0,
             "ticks": ""
            },
            "colorscale": [
             [
              0,
              "#0d0887"
             ],
             [
              0.1111111111111111,
              "#46039f"
             ],
             [
              0.2222222222222222,
              "#7201a8"
             ],
             [
              0.3333333333333333,
              "#9c179e"
             ],
             [
              0.4444444444444444,
              "#bd3786"
             ],
             [
              0.5555555555555556,
              "#d8576b"
             ],
             [
              0.6666666666666666,
              "#ed7953"
             ],
             [
              0.7777777777777778,
              "#fb9f3a"
             ],
             [
              0.8888888888888888,
              "#fdca26"
             ],
             [
              1,
              "#f0f921"
             ]
            ],
            "type": "contour"
           }
          ],
          "contourcarpet": [
           {
            "colorbar": {
             "outlinewidth": 0,
             "ticks": ""
            },
            "type": "contourcarpet"
           }
          ],
          "heatmap": [
           {
            "colorbar": {
             "outlinewidth": 0,
             "ticks": ""
            },
            "colorscale": [
             [
              0,
              "#0d0887"
             ],
             [
              0.1111111111111111,
              "#46039f"
             ],
             [
              0.2222222222222222,
              "#7201a8"
             ],
             [
              0.3333333333333333,
              "#9c179e"
             ],
             [
              0.4444444444444444,
              "#bd3786"
             ],
             [
              0.5555555555555556,
              "#d8576b"
             ],
             [
              0.6666666666666666,
              "#ed7953"
             ],
             [
              0.7777777777777778,
              "#fb9f3a"
             ],
             [
              0.8888888888888888,
              "#fdca26"
             ],
             [
              1,
              "#f0f921"
             ]
            ],
            "type": "heatmap"
           }
          ],
          "histogram": [
           {
            "marker": {
             "pattern": {
              "fillmode": "overlay",
              "size": 10,
              "solidity": 0.2
             }
            },
            "type": "histogram"
           }
          ],
          "histogram2d": [
           {
            "colorbar": {
             "outlinewidth": 0,
             "ticks": ""
            },
            "colorscale": [
             [
              0,
              "#0d0887"
             ],
             [
              0.1111111111111111,
              "#46039f"
             ],
             [
              0.2222222222222222,
              "#7201a8"
             ],
             [
              0.3333333333333333,
              "#9c179e"
             ],
             [
              0.4444444444444444,
              "#bd3786"
             ],
             [
              0.5555555555555556,
              "#d8576b"
             ],
             [
              0.6666666666666666,
              "#ed7953"
             ],
             [
              0.7777777777777778,
              "#fb9f3a"
             ],
             [
              0.8888888888888888,
              "#fdca26"
             ],
             [
              1,
              "#f0f921"
             ]
            ],
            "type": "histogram2d"
           }
          ],
          "histogram2dcontour": [
           {
            "colorbar": {
             "outlinewidth": 0,
             "ticks": ""
            },
            "colorscale": [
             [
              0,
              "#0d0887"
             ],
             [
              0.1111111111111111,
              "#46039f"
             ],
             [
              0.2222222222222222,
              "#7201a8"
             ],
             [
              0.3333333333333333,
              "#9c179e"
             ],
             [
              0.4444444444444444,
              "#bd3786"
             ],
             [
              0.5555555555555556,
              "#d8576b"
             ],
             [
              0.6666666666666666,
              "#ed7953"
             ],
             [
              0.7777777777777778,
              "#fb9f3a"
             ],
             [
              0.8888888888888888,
              "#fdca26"
             ],
             [
              1,
              "#f0f921"
             ]
            ],
            "type": "histogram2dcontour"
           }
          ],
          "mesh3d": [
           {
            "colorbar": {
             "outlinewidth": 0,
             "ticks": ""
            },
            "type": "mesh3d"
           }
          ],
          "parcoords": [
           {
            "line": {
             "colorbar": {
              "outlinewidth": 0,
              "ticks": ""
             }
            },
            "type": "parcoords"
           }
          ],
          "pie": [
           {
            "automargin": true,
            "type": "pie"
           }
          ],
          "scatter": [
           {
            "fillpattern": {
             "fillmode": "overlay",
             "size": 10,
             "solidity": 0.2
            },
            "type": "scatter"
           }
          ],
          "scatter3d": [
           {
            "line": {
             "colorbar": {
              "outlinewidth": 0,
              "ticks": ""
             }
            },
            "marker": {
             "colorbar": {
              "outlinewidth": 0,
              "ticks": ""
             }
            },
            "type": "scatter3d"
           }
          ],
          "scattercarpet": [
           {
            "marker": {
             "colorbar": {
              "outlinewidth": 0,
              "ticks": ""
             }
            },
            "type": "scattercarpet"
           }
          ],
          "scattergeo": [
           {
            "marker": {
             "colorbar": {
              "outlinewidth": 0,
              "ticks": ""
             }
            },
            "type": "scattergeo"
           }
          ],
          "scattergl": [
           {
            "marker": {
             "colorbar": {
              "outlinewidth": 0,
              "ticks": ""
             }
            },
            "type": "scattergl"
           }
          ],
          "scattermap": [
           {
            "marker": {
             "colorbar": {
              "outlinewidth": 0,
              "ticks": ""
             }
            },
            "type": "scattermap"
           }
          ],
          "scattermapbox": [
           {
            "marker": {
             "colorbar": {
              "outlinewidth": 0,
              "ticks": ""
             }
            },
            "type": "scattermapbox"
           }
          ],
          "scatterpolar": [
           {
            "marker": {
             "colorbar": {
              "outlinewidth": 0,
              "ticks": ""
             }
            },
            "type": "scatterpolar"
           }
          ],
          "scatterpolargl": [
           {
            "marker": {
             "colorbar": {
              "outlinewidth": 0,
              "ticks": ""
             }
            },
            "type": "scatterpolargl"
           }
          ],
          "scatterternary": [
           {
            "marker": {
             "colorbar": {
              "outlinewidth": 0,
              "ticks": ""
             }
            },
            "type": "scatterternary"
           }
          ],
          "surface": [
           {
            "colorbar": {
             "outlinewidth": 0,
             "ticks": ""
            },
            "colorscale": [
             [
              0,
              "#0d0887"
             ],
             [
              0.1111111111111111,
              "#46039f"
             ],
             [
              0.2222222222222222,
              "#7201a8"
             ],
             [
              0.3333333333333333,
              "#9c179e"
             ],
             [
              0.4444444444444444,
              "#bd3786"
             ],
             [
              0.5555555555555556,
              "#d8576b"
             ],
             [
              0.6666666666666666,
              "#ed7953"
             ],
             [
              0.7777777777777778,
              "#fb9f3a"
             ],
             [
              0.8888888888888888,
              "#fdca26"
             ],
             [
              1,
              "#f0f921"
             ]
            ],
            "type": "surface"
           }
          ],
          "table": [
           {
            "cells": {
             "fill": {
              "color": "#EBF0F8"
             },
             "line": {
              "color": "white"
             }
            },
            "header": {
             "fill": {
              "color": "#C8D4E3"
             },
             "line": {
              "color": "white"
             }
            },
            "type": "table"
           }
          ]
         },
         "layout": {
          "annotationdefaults": {
           "arrowcolor": "#2a3f5f",
           "arrowhead": 0,
           "arrowwidth": 1
          },
          "autotypenumbers": "strict",
          "coloraxis": {
           "colorbar": {
            "outlinewidth": 0,
            "ticks": ""
           }
          },
          "colorscale": {
           "diverging": [
            [
             0,
             "#8e0152"
            ],
            [
             0.1,
             "#c51b7d"
            ],
            [
             0.2,
             "#de77ae"
            ],
            [
             0.3,
             "#f1b6da"
            ],
            [
             0.4,
             "#fde0ef"
            ],
            [
             0.5,
             "#f7f7f7"
            ],
            [
             0.6,
             "#e6f5d0"
            ],
            [
             0.7,
             "#b8e186"
            ],
            [
             0.8,
             "#7fbc41"
            ],
            [
             0.9,
             "#4d9221"
            ],
            [
             1,
             "#276419"
            ]
           ],
           "sequential": [
            [
             0,
             "#0d0887"
            ],
            [
             0.1111111111111111,
             "#46039f"
            ],
            [
             0.2222222222222222,
             "#7201a8"
            ],
            [
             0.3333333333333333,
             "#9c179e"
            ],
            [
             0.4444444444444444,
             "#bd3786"
            ],
            [
             0.5555555555555556,
             "#d8576b"
            ],
            [
             0.6666666666666666,
             "#ed7953"
            ],
            [
             0.7777777777777778,
             "#fb9f3a"
            ],
            [
             0.8888888888888888,
             "#fdca26"
            ],
            [
             1,
             "#f0f921"
            ]
           ],
           "sequentialminus": [
            [
             0,
             "#0d0887"
            ],
            [
             0.1111111111111111,
             "#46039f"
            ],
            [
             0.2222222222222222,
             "#7201a8"
            ],
            [
             0.3333333333333333,
             "#9c179e"
            ],
            [
             0.4444444444444444,
             "#bd3786"
            ],
            [
             0.5555555555555556,
             "#d8576b"
            ],
            [
             0.6666666666666666,
             "#ed7953"
            ],
            [
             0.7777777777777778,
             "#fb9f3a"
            ],
            [
             0.8888888888888888,
             "#fdca26"
            ],
            [
             1,
             "#f0f921"
            ]
           ]
          },
          "colorway": [
           "#636efa",
           "#EF553B",
           "#00cc96",
           "#ab63fa",
           "#FFA15A",
           "#19d3f3",
           "#FF6692",
           "#B6E880",
           "#FF97FF",
           "#FECB52"
          ],
          "font": {
           "color": "#2a3f5f"
          },
          "geo": {
           "bgcolor": "white",
           "lakecolor": "white",
           "landcolor": "#E5ECF6",
           "showlakes": true,
           "showland": true,
           "subunitcolor": "white"
          },
          "hoverlabel": {
           "align": "left"
          },
          "hovermode": "closest",
          "mapbox": {
           "style": "light"
          },
          "paper_bgcolor": "white",
          "plot_bgcolor": "#E5ECF6",
          "polar": {
           "angularaxis": {
            "gridcolor": "white",
            "linecolor": "white",
            "ticks": ""
           },
           "bgcolor": "#E5ECF6",
           "radialaxis": {
            "gridcolor": "white",
            "linecolor": "white",
            "ticks": ""
           }
          },
          "scene": {
           "xaxis": {
            "backgroundcolor": "#E5ECF6",
            "gridcolor": "white",
            "gridwidth": 2,
            "linecolor": "white",
            "showbackground": true,
            "ticks": "",
            "zerolinecolor": "white"
           },
           "yaxis": {
            "backgroundcolor": "#E5ECF6",
            "gridcolor": "white",
            "gridwidth": 2,
            "linecolor": "white",
            "showbackground": true,
            "ticks": "",
            "zerolinecolor": "white"
           },
           "zaxis": {
            "backgroundcolor": "#E5ECF6",
            "gridcolor": "white",
            "gridwidth": 2,
            "linecolor": "white",
            "showbackground": true,
            "ticks": "",
            "zerolinecolor": "white"
           }
          },
          "shapedefaults": {
           "line": {
            "color": "#2a3f5f"
           }
          },
          "ternary": {
           "aaxis": {
            "gridcolor": "white",
            "linecolor": "white",
            "ticks": ""
           },
           "baxis": {
            "gridcolor": "white",
            "linecolor": "white",
            "ticks": ""
           },
           "bgcolor": "#E5ECF6",
           "caxis": {
            "gridcolor": "white",
            "linecolor": "white",
            "ticks": ""
           }
          },
          "title": {
           "x": 0.05
          },
          "xaxis": {
           "automargin": true,
           "gridcolor": "white",
           "linecolor": "white",
           "ticks": "",
           "title": {
            "standoff": 15
           },
           "zerolinecolor": "white",
           "zerolinewidth": 2
          },
          "yaxis": {
           "automargin": true,
           "gridcolor": "white",
           "linecolor": "white",
           "ticks": "",
           "title": {
            "standoff": 15
           },
           "zerolinecolor": "white",
           "zerolinewidth": 2
          }
         }
        },
        "title": {
         "text": "Relationship between Calories & Total Steps"
        },
        "xaxis": {
         "anchor": "y",
         "domain": [
          0,
          1
         ],
         "title": {
          "text": "Calories"
         }
        },
        "yaxis": {
         "anchor": "x",
         "domain": [
          0,
          1
         ],
         "title": {
          "text": "TotalSteps"
         }
        }
       }
      }
     },
     "metadata": {},
     "output_type": "display_data"
    }
   ],
   "source": [
    "figure = px.scatter(data_frame = data, x=\"Calories\",\n",
    "                    y=\"TotalSteps\", color=\"VeryActiveMinutes\", \n",
    "                    trendline=\"ols\", \n",
    "                    title=\"Relationship between Calories & Total Steps\")\n",
    "figure.show()"
   ]
  },
  {
   "cell_type": "code",
   "execution_count": 217,
   "id": "f7ee6d99",
   "metadata": {},
   "outputs": [
    {
     "data": {
      "application/vnd.plotly.v1+json": {
       "config": {
        "plotlyServerURL": "https://plot.ly"
       },
       "data": [
        {
         "hoverinfo": "label+percent",
         "labels": [
          "Very Active Minutes",
          "Fairly Active Minutes",
          "Lightly Active Minutes",
          "Inactive Minutes"
         ],
         "marker": {
          "colors": [
           "forestgreen",
           "mediumseagreen",
           "dodgerblue",
           "blue"
          ]
         },
         "textfont": {
          "size": 15
         },
         "textinfo": "value",
         "type": "pie",
         "values": {
          "bdata": "8GzUdzYqNUCspnW8OSErQCjRwC0CGmhALcUhY6/5jkA=",
          "dtype": "f8"
         }
        }
       ],
       "layout": {
        "template": {
         "data": {
          "bar": [
           {
            "error_x": {
             "color": "#2a3f5f"
            },
            "error_y": {
             "color": "#2a3f5f"
            },
            "marker": {
             "line": {
              "color": "#E5ECF6",
              "width": 0.5
             },
             "pattern": {
              "fillmode": "overlay",
              "size": 10,
              "solidity": 0.2
             }
            },
            "type": "bar"
           }
          ],
          "barpolar": [
           {
            "marker": {
             "line": {
              "color": "#E5ECF6",
              "width": 0.5
             },
             "pattern": {
              "fillmode": "overlay",
              "size": 10,
              "solidity": 0.2
             }
            },
            "type": "barpolar"
           }
          ],
          "carpet": [
           {
            "aaxis": {
             "endlinecolor": "#2a3f5f",
             "gridcolor": "white",
             "linecolor": "white",
             "minorgridcolor": "white",
             "startlinecolor": "#2a3f5f"
            },
            "baxis": {
             "endlinecolor": "#2a3f5f",
             "gridcolor": "white",
             "linecolor": "white",
             "minorgridcolor": "white",
             "startlinecolor": "#2a3f5f"
            },
            "type": "carpet"
           }
          ],
          "choropleth": [
           {
            "colorbar": {
             "outlinewidth": 0,
             "ticks": ""
            },
            "type": "choropleth"
           }
          ],
          "contour": [
           {
            "colorbar": {
             "outlinewidth": 0,
             "ticks": ""
            },
            "colorscale": [
             [
              0,
              "#0d0887"
             ],
             [
              0.1111111111111111,
              "#46039f"
             ],
             [
              0.2222222222222222,
              "#7201a8"
             ],
             [
              0.3333333333333333,
              "#9c179e"
             ],
             [
              0.4444444444444444,
              "#bd3786"
             ],
             [
              0.5555555555555556,
              "#d8576b"
             ],
             [
              0.6666666666666666,
              "#ed7953"
             ],
             [
              0.7777777777777778,
              "#fb9f3a"
             ],
             [
              0.8888888888888888,
              "#fdca26"
             ],
             [
              1,
              "#f0f921"
             ]
            ],
            "type": "contour"
           }
          ],
          "contourcarpet": [
           {
            "colorbar": {
             "outlinewidth": 0,
             "ticks": ""
            },
            "type": "contourcarpet"
           }
          ],
          "heatmap": [
           {
            "colorbar": {
             "outlinewidth": 0,
             "ticks": ""
            },
            "colorscale": [
             [
              0,
              "#0d0887"
             ],
             [
              0.1111111111111111,
              "#46039f"
             ],
             [
              0.2222222222222222,
              "#7201a8"
             ],
             [
              0.3333333333333333,
              "#9c179e"
             ],
             [
              0.4444444444444444,
              "#bd3786"
             ],
             [
              0.5555555555555556,
              "#d8576b"
             ],
             [
              0.6666666666666666,
              "#ed7953"
             ],
             [
              0.7777777777777778,
              "#fb9f3a"
             ],
             [
              0.8888888888888888,
              "#fdca26"
             ],
             [
              1,
              "#f0f921"
             ]
            ],
            "type": "heatmap"
           }
          ],
          "histogram": [
           {
            "marker": {
             "pattern": {
              "fillmode": "overlay",
              "size": 10,
              "solidity": 0.2
             }
            },
            "type": "histogram"
           }
          ],
          "histogram2d": [
           {
            "colorbar": {
             "outlinewidth": 0,
             "ticks": ""
            },
            "colorscale": [
             [
              0,
              "#0d0887"
             ],
             [
              0.1111111111111111,
              "#46039f"
             ],
             [
              0.2222222222222222,
              "#7201a8"
             ],
             [
              0.3333333333333333,
              "#9c179e"
             ],
             [
              0.4444444444444444,
              "#bd3786"
             ],
             [
              0.5555555555555556,
              "#d8576b"
             ],
             [
              0.6666666666666666,
              "#ed7953"
             ],
             [
              0.7777777777777778,
              "#fb9f3a"
             ],
             [
              0.8888888888888888,
              "#fdca26"
             ],
             [
              1,
              "#f0f921"
             ]
            ],
            "type": "histogram2d"
           }
          ],
          "histogram2dcontour": [
           {
            "colorbar": {
             "outlinewidth": 0,
             "ticks": ""
            },
            "colorscale": [
             [
              0,
              "#0d0887"
             ],
             [
              0.1111111111111111,
              "#46039f"
             ],
             [
              0.2222222222222222,
              "#7201a8"
             ],
             [
              0.3333333333333333,
              "#9c179e"
             ],
             [
              0.4444444444444444,
              "#bd3786"
             ],
             [
              0.5555555555555556,
              "#d8576b"
             ],
             [
              0.6666666666666666,
              "#ed7953"
             ],
             [
              0.7777777777777778,
              "#fb9f3a"
             ],
             [
              0.8888888888888888,
              "#fdca26"
             ],
             [
              1,
              "#f0f921"
             ]
            ],
            "type": "histogram2dcontour"
           }
          ],
          "mesh3d": [
           {
            "colorbar": {
             "outlinewidth": 0,
             "ticks": ""
            },
            "type": "mesh3d"
           }
          ],
          "parcoords": [
           {
            "line": {
             "colorbar": {
              "outlinewidth": 0,
              "ticks": ""
             }
            },
            "type": "parcoords"
           }
          ],
          "pie": [
           {
            "automargin": true,
            "type": "pie"
           }
          ],
          "scatter": [
           {
            "fillpattern": {
             "fillmode": "overlay",
             "size": 10,
             "solidity": 0.2
            },
            "type": "scatter"
           }
          ],
          "scatter3d": [
           {
            "line": {
             "colorbar": {
              "outlinewidth": 0,
              "ticks": ""
             }
            },
            "marker": {
             "colorbar": {
              "outlinewidth": 0,
              "ticks": ""
             }
            },
            "type": "scatter3d"
           }
          ],
          "scattercarpet": [
           {
            "marker": {
             "colorbar": {
              "outlinewidth": 0,
              "ticks": ""
             }
            },
            "type": "scattercarpet"
           }
          ],
          "scattergeo": [
           {
            "marker": {
             "colorbar": {
              "outlinewidth": 0,
              "ticks": ""
             }
            },
            "type": "scattergeo"
           }
          ],
          "scattergl": [
           {
            "marker": {
             "colorbar": {
              "outlinewidth": 0,
              "ticks": ""
             }
            },
            "type": "scattergl"
           }
          ],
          "scattermap": [
           {
            "marker": {
             "colorbar": {
              "outlinewidth": 0,
              "ticks": ""
             }
            },
            "type": "scattermap"
           }
          ],
          "scattermapbox": [
           {
            "marker": {
             "colorbar": {
              "outlinewidth": 0,
              "ticks": ""
             }
            },
            "type": "scattermapbox"
           }
          ],
          "scatterpolar": [
           {
            "marker": {
             "colorbar": {
              "outlinewidth": 0,
              "ticks": ""
             }
            },
            "type": "scatterpolar"
           }
          ],
          "scatterpolargl": [
           {
            "marker": {
             "colorbar": {
              "outlinewidth": 0,
              "ticks": ""
             }
            },
            "type": "scatterpolargl"
           }
          ],
          "scatterternary": [
           {
            "marker": {
             "colorbar": {
              "outlinewidth": 0,
              "ticks": ""
             }
            },
            "type": "scatterternary"
           }
          ],
          "surface": [
           {
            "colorbar": {
             "outlinewidth": 0,
             "ticks": ""
            },
            "colorscale": [
             [
              0,
              "#0d0887"
             ],
             [
              0.1111111111111111,
              "#46039f"
             ],
             [
              0.2222222222222222,
              "#7201a8"
             ],
             [
              0.3333333333333333,
              "#9c179e"
             ],
             [
              0.4444444444444444,
              "#bd3786"
             ],
             [
              0.5555555555555556,
              "#d8576b"
             ],
             [
              0.6666666666666666,
              "#ed7953"
             ],
             [
              0.7777777777777778,
              "#fb9f3a"
             ],
             [
              0.8888888888888888,
              "#fdca26"
             ],
             [
              1,
              "#f0f921"
             ]
            ],
            "type": "surface"
           }
          ],
          "table": [
           {
            "cells": {
             "fill": {
              "color": "#EBF0F8"
             },
             "line": {
              "color": "white"
             }
            },
            "header": {
             "fill": {
              "color": "#C8D4E3"
             },
             "line": {
              "color": "white"
             }
            },
            "type": "table"
           }
          ]
         },
         "layout": {
          "annotationdefaults": {
           "arrowcolor": "#2a3f5f",
           "arrowhead": 0,
           "arrowwidth": 1
          },
          "autotypenumbers": "strict",
          "coloraxis": {
           "colorbar": {
            "outlinewidth": 0,
            "ticks": ""
           }
          },
          "colorscale": {
           "diverging": [
            [
             0,
             "#8e0152"
            ],
            [
             0.1,
             "#c51b7d"
            ],
            [
             0.2,
             "#de77ae"
            ],
            [
             0.3,
             "#f1b6da"
            ],
            [
             0.4,
             "#fde0ef"
            ],
            [
             0.5,
             "#f7f7f7"
            ],
            [
             0.6,
             "#e6f5d0"
            ],
            [
             0.7,
             "#b8e186"
            ],
            [
             0.8,
             "#7fbc41"
            ],
            [
             0.9,
             "#4d9221"
            ],
            [
             1,
             "#276419"
            ]
           ],
           "sequential": [
            [
             0,
             "#0d0887"
            ],
            [
             0.1111111111111111,
             "#46039f"
            ],
            [
             0.2222222222222222,
             "#7201a8"
            ],
            [
             0.3333333333333333,
             "#9c179e"
            ],
            [
             0.4444444444444444,
             "#bd3786"
            ],
            [
             0.5555555555555556,
             "#d8576b"
            ],
            [
             0.6666666666666666,
             "#ed7953"
            ],
            [
             0.7777777777777778,
             "#fb9f3a"
            ],
            [
             0.8888888888888888,
             "#fdca26"
            ],
            [
             1,
             "#f0f921"
            ]
           ],
           "sequentialminus": [
            [
             0,
             "#0d0887"
            ],
            [
             0.1111111111111111,
             "#46039f"
            ],
            [
             0.2222222222222222,
             "#7201a8"
            ],
            [
             0.3333333333333333,
             "#9c179e"
            ],
            [
             0.4444444444444444,
             "#bd3786"
            ],
            [
             0.5555555555555556,
             "#d8576b"
            ],
            [
             0.6666666666666666,
             "#ed7953"
            ],
            [
             0.7777777777777778,
             "#fb9f3a"
            ],
            [
             0.8888888888888888,
             "#fdca26"
            ],
            [
             1,
             "#f0f921"
            ]
           ]
          },
          "colorway": [
           "#636efa",
           "#EF553B",
           "#00cc96",
           "#ab63fa",
           "#FFA15A",
           "#19d3f3",
           "#FF6692",
           "#B6E880",
           "#FF97FF",
           "#FECB52"
          ],
          "font": {
           "color": "#2a3f5f"
          },
          "geo": {
           "bgcolor": "white",
           "lakecolor": "white",
           "landcolor": "#E5ECF6",
           "showlakes": true,
           "showland": true,
           "subunitcolor": "white"
          },
          "hoverlabel": {
           "align": "left"
          },
          "hovermode": "closest",
          "mapbox": {
           "style": "light"
          },
          "paper_bgcolor": "white",
          "plot_bgcolor": "#E5ECF6",
          "polar": {
           "angularaxis": {
            "gridcolor": "white",
            "linecolor": "white",
            "ticks": ""
           },
           "bgcolor": "#E5ECF6",
           "radialaxis": {
            "gridcolor": "white",
            "linecolor": "white",
            "ticks": ""
           }
          },
          "scene": {
           "xaxis": {
            "backgroundcolor": "#E5ECF6",
            "gridcolor": "white",
            "gridwidth": 2,
            "linecolor": "white",
            "showbackground": true,
            "ticks": "",
            "zerolinecolor": "white"
           },
           "yaxis": {
            "backgroundcolor": "#E5ECF6",
            "gridcolor": "white",
            "gridwidth": 2,
            "linecolor": "white",
            "showbackground": true,
            "ticks": "",
            "zerolinecolor": "white"
           },
           "zaxis": {
            "backgroundcolor": "#E5ECF6",
            "gridcolor": "white",
            "gridwidth": 2,
            "linecolor": "white",
            "showbackground": true,
            "ticks": "",
            "zerolinecolor": "white"
           }
          },
          "shapedefaults": {
           "line": {
            "color": "#2a3f5f"
           }
          },
          "ternary": {
           "aaxis": {
            "gridcolor": "white",
            "linecolor": "white",
            "ticks": ""
           },
           "baxis": {
            "gridcolor": "white",
            "linecolor": "white",
            "ticks": ""
           },
           "bgcolor": "#E5ECF6",
           "caxis": {
            "gridcolor": "white",
            "linecolor": "white",
            "ticks": ""
           }
          },
          "title": {
           "x": 0.05
          },
          "xaxis": {
           "automargin": true,
           "gridcolor": "white",
           "linecolor": "white",
           "ticks": "",
           "title": {
            "standoff": 15
           },
           "zerolinecolor": "white",
           "zerolinewidth": 2
          },
          "yaxis": {
           "automargin": true,
           "gridcolor": "white",
           "linecolor": "white",
           "ticks": "",
           "title": {
            "standoff": 15
           },
           "zerolinecolor": "white",
           "zerolinewidth": 2
          }
         }
        },
        "title": {
         "text": "Total Active Minutes"
        }
       }
      }
     },
     "metadata": {},
     "output_type": "display_data"
    }
   ],
   "source": [
    "label = [\"Very Active Minutes\", \"Fairly Active Minutes\", \n",
    "         \"Lightly Active Minutes\", \"Inactive Minutes\"]\n",
    "counts = data[[\"VeryActiveMinutes\", \"FairlyActiveMinutes\", \n",
    "               \"LightlyActiveMinutes\", \"SedentaryMinutes\"]].mean()\n",
    "colors = ['forestgreen','mediumseagreen', \"dodgerblue\", \"blue\"]\n",
    "\n",
    "fig = go.Figure(data=[go.Pie(labels=label, values=counts)])\n",
    "fig.update_layout(title_text='Total Active Minutes')\n",
    "fig.update_traces(hoverinfo='label+percent', textinfo='value', textfont_size=15,\n",
    "                  marker=dict(colors=colors))\n",
    "fig.show()"
   ]
  },
  {
   "cell_type": "markdown",
   "id": "096a5d9f",
   "metadata": {},
   "source": [
    "Observations:\n",
    "\n",
    "    81.3% of Total inactive minutes in a day\n",
    "    15.8% of Lightly active minutes in a day\n",
    "    On an average, only 21 minutes (1.74%) were very active\n",
    "    and 1.11% (13 minutes) of fairly active minutes in a day"
   ]
  },
  {
   "cell_type": "markdown",
   "id": "02f268bd",
   "metadata": {},
   "source": [
    "We transformed the data type of the ActivityDate column to the datetime column above. Let’s use it to find the weekdays of the records and add a new column to this dataset as “Day”:"
   ]
  },
  {
   "cell_type": "code",
   "execution_count": 218,
   "id": "e3ab5964",
   "metadata": {},
   "outputs": [
    {
     "data": {
      "text/plain": [
       "0      Tuesday\n",
       "1    Wednesday\n",
       "2     Thursday\n",
       "3       Friday\n",
       "4     Saturday\n",
       "Name: Day, dtype: object"
      ]
     },
     "execution_count": 218,
     "metadata": {},
     "output_type": "execute_result"
    }
   ],
   "source": [
    "data[\"Day\"] = data[\"ActivityDate\"].dt.day_name()\n",
    "data[\"Day\"].head()"
   ]
  },
  {
   "cell_type": "markdown",
   "id": "fbe50285",
   "metadata": {},
   "source": [
    "Now let’s have a look at the very active, fairly active, and lightly active minutes on each day of the week:"
   ]
  },
  {
   "cell_type": "code",
   "execution_count": 219,
   "id": "1d583833",
   "metadata": {},
   "outputs": [
    {
     "data": {
      "application/vnd.plotly.v1+json": {
       "config": {
        "plotlyServerURL": "https://plot.ly"
       },
       "data": [
        {
         "marker": {
          "color": "crimson"
         },
         "name": "Very Active",
         "type": "bar",
         "x": [
          "Tuesday",
          "Wednesday",
          "Thursday",
          "Friday",
          "Saturday",
          "Sunday",
          "Monday",
          "Tuesday",
          "Wednesday",
          "Thursday",
          "Friday",
          "Saturday",
          "Sunday",
          "Monday",
          "Tuesday",
          "Wednesday",
          "Thursday",
          "Friday",
          "Saturday",
          "Sunday",
          "Monday",
          "Tuesday",
          "Wednesday",
          "Thursday",
          "Friday",
          "Saturday",
          "Sunday",
          "Monday",
          "Tuesday",
          "Wednesday",
          "Thursday",
          "Tuesday",
          "Wednesday",
          "Thursday",
          "Friday",
          "Saturday",
          "Sunday",
          "Monday",
          "Tuesday",
          "Wednesday",
          "Thursday",
          "Friday",
          "Saturday",
          "Sunday",
          "Monday",
          "Tuesday",
          "Wednesday",
          "Thursday",
          "Friday",
          "Saturday",
          "Sunday",
          "Monday",
          "Tuesday",
          "Wednesday",
          "Thursday",
          "Friday",
          "Saturday",
          "Sunday",
          "Monday",
          "Tuesday",
          "Wednesday",
          "Thursday",
          "Tuesday",
          "Wednesday",
          "Thursday",
          "Friday",
          "Saturday",
          "Sunday",
          "Monday",
          "Tuesday",
          "Wednesday",
          "Thursday",
          "Friday",
          "Saturday",
          "Sunday",
          "Monday",
          "Tuesday",
          "Wednesday",
          "Thursday",
          "Friday",
          "Saturday",
          "Sunday",
          "Monday",
          "Tuesday",
          "Wednesday",
          "Thursday",
          "Friday",
          "Saturday",
          "Sunday",
          "Monday",
          "Tuesday",
          "Wednesday",
          "Tuesday",
          "Wednesday",
          "Thursday",
          "Friday",
          "Saturday",
          "Sunday",
          "Monday",
          "Tuesday",
          "Wednesday",
          "Thursday",
          "Friday",
          "Saturday",
          "Sunday",
          "Monday",
          "Tuesday",
          "Wednesday",
          "Thursday",
          "Friday",
          "Saturday",
          "Sunday",
          "Monday",
          "Tuesday",
          "Wednesday",
          "Thursday",
          "Friday",
          "Saturday",
          "Sunday",
          "Monday",
          "Tuesday",
          "Wednesday",
          "Thursday",
          "Tuesday",
          "Wednesday",
          "Thursday",
          "Friday",
          "Saturday",
          "Sunday",
          "Monday",
          "Tuesday",
          "Wednesday",
          "Thursday",
          "Friday",
          "Saturday",
          "Sunday",
          "Monday",
          "Tuesday",
          "Wednesday",
          "Thursday",
          "Friday",
          "Saturday",
          "Sunday",
          "Monday",
          "Tuesday",
          "Wednesday",
          "Thursday",
          "Friday",
          "Saturday",
          "Sunday",
          "Monday",
          "Tuesday",
          "Wednesday",
          "Thursday",
          "Tuesday",
          "Wednesday",
          "Thursday",
          "Friday",
          "Saturday",
          "Sunday",
          "Monday",
          "Tuesday",
          "Wednesday",
          "Thursday",
          "Friday",
          "Saturday",
          "Sunday",
          "Monday",
          "Tuesday",
          "Wednesday",
          "Thursday",
          "Friday",
          "Saturday",
          "Sunday",
          "Monday",
          "Tuesday",
          "Wednesday",
          "Thursday",
          "Friday",
          "Saturday",
          "Sunday",
          "Monday",
          "Tuesday",
          "Wednesday",
          "Thursday",
          "Tuesday",
          "Wednesday",
          "Thursday",
          "Friday",
          "Saturday",
          "Sunday",
          "Monday",
          "Tuesday",
          "Wednesday",
          "Thursday",
          "Friday",
          "Saturday",
          "Sunday",
          "Monday",
          "Tuesday",
          "Wednesday",
          "Thursday",
          "Friday",
          "Saturday",
          "Sunday",
          "Monday",
          "Tuesday",
          "Wednesday",
          "Thursday",
          "Friday",
          "Saturday",
          "Sunday",
          "Monday",
          "Tuesday",
          "Wednesday",
          "Thursday",
          "Tuesday",
          "Wednesday",
          "Thursday",
          "Friday",
          "Saturday",
          "Sunday",
          "Monday",
          "Tuesday",
          "Wednesday",
          "Thursday",
          "Friday",
          "Saturday",
          "Sunday",
          "Monday",
          "Tuesday",
          "Wednesday",
          "Thursday",
          "Friday",
          "Saturday",
          "Sunday",
          "Monday",
          "Tuesday",
          "Wednesday",
          "Thursday",
          "Friday",
          "Saturday",
          "Sunday",
          "Monday",
          "Tuesday",
          "Wednesday",
          "Thursday",
          "Tuesday",
          "Wednesday",
          "Thursday",
          "Friday",
          "Saturday",
          "Sunday",
          "Monday",
          "Tuesday",
          "Wednesday",
          "Thursday",
          "Friday",
          "Saturday",
          "Sunday",
          "Monday",
          "Tuesday",
          "Wednesday",
          "Thursday",
          "Friday",
          "Tuesday",
          "Wednesday",
          "Thursday",
          "Friday",
          "Saturday",
          "Sunday",
          "Monday",
          "Tuesday",
          "Wednesday",
          "Thursday",
          "Friday",
          "Saturday",
          "Sunday",
          "Monday",
          "Tuesday",
          "Wednesday",
          "Thursday",
          "Friday",
          "Saturday",
          "Sunday",
          "Monday",
          "Tuesday",
          "Wednesday",
          "Thursday",
          "Friday",
          "Saturday",
          "Sunday",
          "Monday",
          "Tuesday",
          "Wednesday",
          "Thursday",
          "Tuesday",
          "Wednesday",
          "Thursday",
          "Friday",
          "Saturday",
          "Sunday",
          "Monday",
          "Tuesday",
          "Wednesday",
          "Thursday",
          "Friday",
          "Saturday",
          "Sunday",
          "Monday",
          "Tuesday",
          "Wednesday",
          "Thursday",
          "Friday",
          "Saturday",
          "Sunday",
          "Tuesday",
          "Wednesday",
          "Thursday",
          "Friday",
          "Saturday",
          "Sunday",
          "Monday",
          "Tuesday",
          "Wednesday",
          "Thursday",
          "Friday",
          "Saturday",
          "Sunday",
          "Monday",
          "Tuesday",
          "Wednesday",
          "Thursday",
          "Friday",
          "Saturday",
          "Sunday",
          "Monday",
          "Tuesday",
          "Wednesday",
          "Thursday",
          "Friday",
          "Saturday",
          "Sunday",
          "Monday",
          "Tuesday",
          "Wednesday",
          "Tuesday",
          "Wednesday",
          "Thursday",
          "Friday",
          "Saturday",
          "Sunday",
          "Monday",
          "Tuesday",
          "Wednesday",
          "Thursday",
          "Friday",
          "Saturday",
          "Sunday",
          "Monday",
          "Tuesday",
          "Wednesday",
          "Thursday",
          "Friday",
          "Saturday",
          "Sunday",
          "Monday",
          "Tuesday",
          "Wednesday",
          "Thursday",
          "Friday",
          "Saturday",
          "Sunday",
          "Monday",
          "Tuesday",
          "Wednesday",
          "Thursday",
          "Tuesday",
          "Wednesday",
          "Thursday",
          "Friday",
          "Tuesday",
          "Wednesday",
          "Thursday",
          "Friday",
          "Saturday",
          "Sunday",
          "Monday",
          "Tuesday",
          "Wednesday",
          "Thursday",
          "Friday",
          "Saturday",
          "Sunday",
          "Monday",
          "Tuesday",
          "Wednesday",
          "Thursday",
          "Friday",
          "Saturday",
          "Sunday",
          "Monday",
          "Tuesday",
          "Wednesday",
          "Thursday",
          "Friday",
          "Saturday",
          "Sunday",
          "Monday",
          "Tuesday",
          "Wednesday",
          "Thursday",
          "Tuesday",
          "Wednesday",
          "Thursday",
          "Friday",
          "Saturday",
          "Sunday",
          "Monday",
          "Tuesday",
          "Wednesday",
          "Thursday",
          "Friday",
          "Saturday",
          "Sunday",
          "Monday",
          "Tuesday",
          "Wednesday",
          "Thursday",
          "Friday",
          "Saturday",
          "Sunday",
          "Monday",
          "Tuesday",
          "Wednesday",
          "Thursday",
          "Friday",
          "Saturday",
          "Sunday",
          "Monday",
          "Tuesday",
          "Wednesday",
          "Thursday",
          "Tuesday",
          "Wednesday",
          "Thursday",
          "Friday",
          "Saturday",
          "Sunday",
          "Monday",
          "Tuesday",
          "Wednesday",
          "Thursday",
          "Friday",
          "Saturday",
          "Sunday",
          "Monday",
          "Tuesday",
          "Wednesday",
          "Thursday",
          "Friday",
          "Saturday",
          "Sunday",
          "Monday",
          "Tuesday",
          "Wednesday",
          "Thursday",
          "Friday",
          "Saturday",
          "Sunday",
          "Monday",
          "Tuesday",
          "Wednesday",
          "Thursday",
          "Tuesday",
          "Wednesday",
          "Thursday",
          "Friday",
          "Saturday",
          "Sunday",
          "Monday",
          "Tuesday",
          "Wednesday",
          "Thursday",
          "Friday",
          "Saturday",
          "Sunday",
          "Monday",
          "Tuesday",
          "Wednesday",
          "Thursday",
          "Friday",
          "Saturday",
          "Sunday",
          "Monday",
          "Tuesday",
          "Wednesday",
          "Thursday",
          "Friday",
          "Saturday",
          "Sunday",
          "Monday",
          "Tuesday",
          "Wednesday",
          "Thursday",
          "Tuesday",
          "Wednesday",
          "Thursday",
          "Friday",
          "Saturday",
          "Sunday",
          "Monday",
          "Tuesday",
          "Wednesday",
          "Thursday",
          "Friday",
          "Saturday",
          "Sunday",
          "Monday",
          "Tuesday",
          "Wednesday",
          "Thursday",
          "Friday",
          "Saturday",
          "Sunday",
          "Monday",
          "Tuesday",
          "Wednesday",
          "Thursday",
          "Friday",
          "Saturday",
          "Sunday",
          "Monday",
          "Tuesday",
          "Wednesday",
          "Thursday",
          "Tuesday",
          "Wednesday",
          "Thursday",
          "Friday",
          "Saturday",
          "Sunday",
          "Monday",
          "Tuesday",
          "Wednesday",
          "Thursday",
          "Friday",
          "Saturday",
          "Sunday",
          "Monday",
          "Tuesday",
          "Wednesday",
          "Thursday",
          "Friday",
          "Saturday",
          "Sunday",
          "Monday",
          "Tuesday",
          "Wednesday",
          "Thursday",
          "Friday",
          "Saturday",
          "Sunday",
          "Monday",
          "Tuesday",
          "Wednesday",
          "Thursday",
          "Tuesday",
          "Wednesday",
          "Thursday",
          "Friday",
          "Saturday",
          "Sunday",
          "Monday",
          "Tuesday",
          "Wednesday",
          "Thursday",
          "Friday",
          "Saturday",
          "Sunday",
          "Monday",
          "Tuesday",
          "Wednesday",
          "Thursday",
          "Friday",
          "Saturday",
          "Sunday",
          "Monday",
          "Tuesday",
          "Wednesday",
          "Thursday",
          "Friday",
          "Saturday",
          "Sunday",
          "Monday",
          "Tuesday",
          "Wednesday",
          "Tuesday",
          "Wednesday",
          "Thursday",
          "Friday",
          "Saturday",
          "Sunday",
          "Monday",
          "Tuesday",
          "Wednesday",
          "Thursday",
          "Friday",
          "Saturday",
          "Sunday",
          "Monday",
          "Tuesday",
          "Wednesday",
          "Thursday",
          "Friday",
          "Saturday",
          "Sunday",
          "Monday",
          "Tuesday",
          "Wednesday",
          "Thursday",
          "Friday",
          "Saturday",
          "Sunday",
          "Monday",
          "Tuesday",
          "Wednesday",
          "Thursday",
          "Friday",
          "Saturday",
          "Sunday",
          "Monday",
          "Tuesday",
          "Wednesday",
          "Thursday",
          "Friday",
          "Saturday",
          "Sunday",
          "Monday",
          "Tuesday",
          "Wednesday",
          "Thursday",
          "Friday",
          "Saturday",
          "Sunday",
          "Monday",
          "Tuesday",
          "Wednesday",
          "Thursday",
          "Friday",
          "Saturday",
          "Sunday",
          "Monday",
          "Tuesday",
          "Tuesday",
          "Wednesday",
          "Thursday",
          "Friday",
          "Saturday",
          "Sunday",
          "Monday",
          "Tuesday",
          "Wednesday",
          "Thursday",
          "Friday",
          "Saturday",
          "Sunday",
          "Monday",
          "Tuesday",
          "Wednesday",
          "Thursday",
          "Friday",
          "Saturday",
          "Sunday",
          "Monday",
          "Tuesday",
          "Wednesday",
          "Thursday",
          "Friday",
          "Saturday",
          "Tuesday",
          "Wednesday",
          "Thursday",
          "Friday",
          "Saturday",
          "Sunday",
          "Monday",
          "Tuesday",
          "Wednesday",
          "Thursday",
          "Friday",
          "Saturday",
          "Sunday",
          "Monday",
          "Tuesday",
          "Wednesday",
          "Thursday",
          "Friday",
          "Saturday",
          "Sunday",
          "Monday",
          "Tuesday",
          "Wednesday",
          "Thursday",
          "Friday",
          "Saturday",
          "Sunday",
          "Monday",
          "Tuesday",
          "Wednesday",
          "Thursday",
          "Tuesday",
          "Wednesday",
          "Thursday",
          "Friday",
          "Saturday",
          "Sunday",
          "Monday",
          "Tuesday",
          "Wednesday",
          "Thursday",
          "Friday",
          "Saturday",
          "Sunday",
          "Monday",
          "Tuesday",
          "Wednesday",
          "Thursday",
          "Friday",
          "Saturday",
          "Sunday",
          "Monday",
          "Tuesday",
          "Wednesday",
          "Thursday",
          "Friday",
          "Saturday",
          "Tuesday",
          "Wednesday",
          "Thursday",
          "Friday",
          "Saturday",
          "Sunday",
          "Monday",
          "Tuesday",
          "Wednesday",
          "Thursday",
          "Friday",
          "Saturday",
          "Sunday",
          "Monday",
          "Tuesday",
          "Wednesday",
          "Thursday",
          "Friday",
          "Saturday",
          "Sunday",
          "Monday",
          "Tuesday",
          "Wednesday",
          "Thursday",
          "Friday",
          "Saturday",
          "Sunday",
          "Monday",
          "Tuesday",
          "Wednesday",
          "Thursday",
          "Tuesday",
          "Wednesday",
          "Thursday",
          "Friday",
          "Saturday",
          "Sunday",
          "Monday",
          "Tuesday",
          "Wednesday",
          "Thursday",
          "Friday",
          "Saturday",
          "Sunday",
          "Monday",
          "Tuesday",
          "Wednesday",
          "Thursday",
          "Friday",
          "Saturday",
          "Sunday",
          "Monday",
          "Tuesday",
          "Wednesday",
          "Thursday",
          "Friday",
          "Saturday",
          "Sunday",
          "Monday",
          "Tuesday",
          "Wednesday",
          "Thursday",
          "Tuesday",
          "Wednesday",
          "Thursday",
          "Friday",
          "Saturday",
          "Sunday",
          "Monday",
          "Tuesday",
          "Wednesday",
          "Thursday",
          "Friday",
          "Saturday",
          "Sunday",
          "Monday",
          "Tuesday",
          "Wednesday",
          "Thursday",
          "Friday",
          "Saturday",
          "Tuesday",
          "Wednesday",
          "Thursday",
          "Friday",
          "Saturday",
          "Sunday",
          "Monday",
          "Tuesday",
          "Wednesday",
          "Thursday",
          "Friday",
          "Saturday",
          "Sunday",
          "Monday",
          "Tuesday",
          "Wednesday",
          "Thursday",
          "Friday",
          "Saturday",
          "Sunday",
          "Monday",
          "Tuesday",
          "Wednesday",
          "Thursday",
          "Friday",
          "Saturday",
          "Sunday",
          "Monday",
          "Tuesday",
          "Wednesday",
          "Thursday",
          "Tuesday",
          "Wednesday",
          "Thursday",
          "Friday",
          "Saturday",
          "Sunday",
          "Monday",
          "Tuesday",
          "Wednesday",
          "Thursday",
          "Friday",
          "Saturday",
          "Sunday",
          "Monday",
          "Tuesday",
          "Wednesday",
          "Thursday",
          "Friday",
          "Saturday",
          "Sunday",
          "Monday",
          "Tuesday",
          "Wednesday",
          "Thursday",
          "Friday",
          "Saturday",
          "Sunday",
          "Monday",
          "Tuesday",
          "Wednesday",
          "Thursday",
          "Tuesday",
          "Wednesday",
          "Thursday",
          "Friday",
          "Saturday",
          "Sunday",
          "Monday",
          "Tuesday",
          "Wednesday",
          "Thursday",
          "Friday",
          "Saturday",
          "Sunday",
          "Monday",
          "Tuesday",
          "Wednesday",
          "Thursday",
          "Friday",
          "Saturday",
          "Sunday",
          "Monday",
          "Tuesday",
          "Wednesday",
          "Thursday",
          "Friday",
          "Saturday",
          "Sunday",
          "Monday",
          "Tuesday",
          "Tuesday",
          "Wednesday",
          "Thursday",
          "Friday",
          "Saturday",
          "Sunday",
          "Monday",
          "Tuesday",
          "Wednesday",
          "Thursday",
          "Friday",
          "Saturday",
          "Sunday",
          "Monday",
          "Tuesday",
          "Wednesday",
          "Thursday",
          "Friday",
          "Saturday",
          "Sunday",
          "Monday",
          "Tuesday",
          "Wednesday",
          "Thursday",
          "Friday",
          "Saturday",
          "Sunday",
          "Monday",
          "Tuesday",
          "Wednesday",
          "Thursday"
         ],
         "y": {
          "bdata": "GQAVAB4AHQAkACYAKgAyABwAEwBCACkAJwBJAB8ATgAwABAANAAhACkAMgAkAC0AGAAlACwALgAuACQAAAAAAAAAAAAAAAAADwARAAAAAAAAAAAAAAAQAAAAAAARAAAAAAALALoABwAAAAAAAAAAAAAAAAAAAAAAAAAAAAIAHgAFAAMAMwAdAA8ABQAAAAAAAAAAAAAACAALAAAAAwAAAAkAAwABAAoAAAAGAAsAKQAAACAADAAAAAAAAAAAAAAAAAACAAAAAAAAAAIAAAAAAAAAAAAAAAAAAAAAAAAAAAAAAAAAAAAAAAAAAAAAAAAAAAAAAAAAAAAAAAAAAAAAAAAAAAAAAAAAAAAAAAAAAQAAAAAAAAAAAAAAAAAOABAACgAAAAAAAAAAAAAAAAAAAAAAAAAqACsAIAAbACkAHAAwAB8AMABoADQAAAAlACwANwATAAYAFQANABkAJABIACQANwAYABQAAAAjADkAOgAQAAMAAAAAAAAAAAAAAAAAAAAAAAAAAAAAAAAAAAAAAAAAAAAAAAAAAAAAAAAAAAAAAAAAAAAAAAAAAAAAAAAADQAAAAAAAAAAAAAAAAAAAAAAAQAAAAAAAAADAAAAAAAAAAAAAAAAAAUAFAAAAAAAAAAAAAAAAAAAAAAAAAAcABMAAQABAEIAAQALAAAACwAXAAkAIAAAAA8AAAAaAAAAAAACAAAAAAAAAC8AAAABAAAAFgACAC4AHAAuAAAAAgAuABwAFAAFAAcAAAABAAAADQAAAEsALgAAAAAAAAAAAAAAEAAGAAAAAAALABQAAAAPABIAAAAUAA4AAAAWABgAAAAAABEAAAAsAB8ABQAPAB8ACwAEABMAAgAAACEAAAAeADIABwAAAA8AJAArACkAGAAvAA4ADgAdAAAACQAIAAEABAAEAAAAAAAkAEEAAAAAAAAAAAAAAAAAAAAAAAAAAAAAAAAAAAAAAAAAAAAAAA0AJgAAAAAAAAADAAAAAgAAAAAAAAAAAAMAAAAIAAEAAAAAAAAAAQAAAAAAAAABAAAAAQAAAAgABgANAAYABgAAAAAACAAIABsABgADAAAAAgADAAMAAAAAAAEACgAAAAYAAAAbABQAEwAHAE0AOgAOAAsADgALABMADQAOAAwAIQASACMADAAhAHgAawAGAA0ACAAAAAAAAAAAAAAAAAAAABkAAAAAAAAAAAAAAAAAAAAdACAAAAAAAAAAAAAbAB4AAAACAAAAGgAAAAAAAAAiAAAAAAATAAAAEQAIAAcADgABAAAABgAUAAUAAAASAAwAGwABAA8ABwAAAAAAFQAAAA4AAAAXAEIABgALAAQAAAAAAAAAAAABAAMADAAWAAoAAgAEAAAACQAPAAYAAQABAA4ADAAEAAAABQAAAAQACAABAAUACQAAAAEACgAAABMAAAA9ADoAAAAAAAAARQAAAC8AGQAAAAAAMwAoABAAMQAuAAAAAAAXABoAAAAsABUAAAADADsAPQAAAAgAVgAPAHYAcwC4AMgAcgBsAFcAbgA+ABgA0gA9ACYAPwBjAGEAzwDCACUAYQAZAC0AKQAAAAAAIgBoAC0AAAAAAAAAAAAHAAAAAAAAABoACwAAAAAAAAAAAAAAAAAAAAAAAAAAAAAAAAAAAAAAAAAAAAAAAAAAAAAAAAAAAAAAHwAAAAAAAAAAAAAAIQAAAAgAAAAAAAAAAAAAAAgAAAAAAAAAAAAAAAAAAAAAAAAAAAARAA4AAAAkAAUAHgAAAEYAAAAAAAAACwAhACoAAAACAAAAAwAJAAAAAAAAAAAADAACADIACAAAAAAAMgAFAA0AIwAwADUAHgA6AAAAIwAkAAcAJgAMACAAAAASABUADwAOAAAAAAAAACsAPgAYAAAANQA4ACIAAAAAAAAAMAA1ADwAHgBAAAIAAAAzABAAMgAQADcAAAAAAEAAOgAAADUALAAAADsAHwAjAB4AAAAAAD0AQwBXABMAOgAAAAAARQBGADcANgAYACoAHgBCADkALQAYAFQAFAAgAEMASAA5AAUAdABfAHcAhABgAG8AZgBaAFkAZAA8AH0AgQB2AEQAPABaADoAGwAAAAAAVwBZAF0AWgB5AH0AQgBgADwAHAAoACMAHQAAAAYAKQAQAAAABQAxAAAAHgApAAcAEwAtAAsAEAAAAEEAdAB7ADwAQAAAAHUAeABSAIkAcQATAAAAdQBaAAQACwADAAAARwA/AEcAEwBCAEoAAAAAAEcAPwBIAAgAAAACAAAAAAAAAAAABAAHAAAAIwAEAAcAAgASAAEATQAAAC4AAgAKAAAAAAAAAAAAAgAAAAMAQgAJAAUAAAAAAAAAAAAAAAAAAAAAAAAAAAAAAAEACAADAAAAAAAAAAAABgAKAAAAAAAAAAAAAAAAAAAAAAAAAAAAVQBsAEQAagBeADoAHQBSAEkAUgA9AGYAQABxABYAXQA6ABIAfAAkAAAAEwBCAEMAYABpABEASQASAFgAFwA=",
          "dtype": "i2"
         }
        },
        {
         "marker": {
          "color": "mediumorchid"
         },
         "name": "Fairly Active",
         "type": "bar",
         "x": [
          "Tuesday",
          "Wednesday",
          "Thursday",
          "Friday",
          "Saturday",
          "Sunday",
          "Monday",
          "Tuesday",
          "Wednesday",
          "Thursday",
          "Friday",
          "Saturday",
          "Sunday",
          "Monday",
          "Tuesday",
          "Wednesday",
          "Thursday",
          "Friday",
          "Saturday",
          "Sunday",
          "Monday",
          "Tuesday",
          "Wednesday",
          "Thursday",
          "Friday",
          "Saturday",
          "Sunday",
          "Monday",
          "Tuesday",
          "Wednesday",
          "Thursday",
          "Tuesday",
          "Wednesday",
          "Thursday",
          "Friday",
          "Saturday",
          "Sunday",
          "Monday",
          "Tuesday",
          "Wednesday",
          "Thursday",
          "Friday",
          "Saturday",
          "Sunday",
          "Monday",
          "Tuesday",
          "Wednesday",
          "Thursday",
          "Friday",
          "Saturday",
          "Sunday",
          "Monday",
          "Tuesday",
          "Wednesday",
          "Thursday",
          "Friday",
          "Saturday",
          "Sunday",
          "Monday",
          "Tuesday",
          "Wednesday",
          "Thursday",
          "Tuesday",
          "Wednesday",
          "Thursday",
          "Friday",
          "Saturday",
          "Sunday",
          "Monday",
          "Tuesday",
          "Wednesday",
          "Thursday",
          "Friday",
          "Saturday",
          "Sunday",
          "Monday",
          "Tuesday",
          "Wednesday",
          "Thursday",
          "Friday",
          "Saturday",
          "Sunday",
          "Monday",
          "Tuesday",
          "Wednesday",
          "Thursday",
          "Friday",
          "Saturday",
          "Sunday",
          "Monday",
          "Tuesday",
          "Wednesday",
          "Tuesday",
          "Wednesday",
          "Thursday",
          "Friday",
          "Saturday",
          "Sunday",
          "Monday",
          "Tuesday",
          "Wednesday",
          "Thursday",
          "Friday",
          "Saturday",
          "Sunday",
          "Monday",
          "Tuesday",
          "Wednesday",
          "Thursday",
          "Friday",
          "Saturday",
          "Sunday",
          "Monday",
          "Tuesday",
          "Wednesday",
          "Thursday",
          "Friday",
          "Saturday",
          "Sunday",
          "Monday",
          "Tuesday",
          "Wednesday",
          "Thursday",
          "Tuesday",
          "Wednesday",
          "Thursday",
          "Friday",
          "Saturday",
          "Sunday",
          "Monday",
          "Tuesday",
          "Wednesday",
          "Thursday",
          "Friday",
          "Saturday",
          "Sunday",
          "Monday",
          "Tuesday",
          "Wednesday",
          "Thursday",
          "Friday",
          "Saturday",
          "Sunday",
          "Monday",
          "Tuesday",
          "Wednesday",
          "Thursday",
          "Friday",
          "Saturday",
          "Sunday",
          "Monday",
          "Tuesday",
          "Wednesday",
          "Thursday",
          "Tuesday",
          "Wednesday",
          "Thursday",
          "Friday",
          "Saturday",
          "Sunday",
          "Monday",
          "Tuesday",
          "Wednesday",
          "Thursday",
          "Friday",
          "Saturday",
          "Sunday",
          "Monday",
          "Tuesday",
          "Wednesday",
          "Thursday",
          "Friday",
          "Saturday",
          "Sunday",
          "Monday",
          "Tuesday",
          "Wednesday",
          "Thursday",
          "Friday",
          "Saturday",
          "Sunday",
          "Monday",
          "Tuesday",
          "Wednesday",
          "Thursday",
          "Tuesday",
          "Wednesday",
          "Thursday",
          "Friday",
          "Saturday",
          "Sunday",
          "Monday",
          "Tuesday",
          "Wednesday",
          "Thursday",
          "Friday",
          "Saturday",
          "Sunday",
          "Monday",
          "Tuesday",
          "Wednesday",
          "Thursday",
          "Friday",
          "Saturday",
          "Sunday",
          "Monday",
          "Tuesday",
          "Wednesday",
          "Thursday",
          "Friday",
          "Saturday",
          "Sunday",
          "Monday",
          "Tuesday",
          "Wednesday",
          "Thursday",
          "Tuesday",
          "Wednesday",
          "Thursday",
          "Friday",
          "Saturday",
          "Sunday",
          "Monday",
          "Tuesday",
          "Wednesday",
          "Thursday",
          "Friday",
          "Saturday",
          "Sunday",
          "Monday",
          "Tuesday",
          "Wednesday",
          "Thursday",
          "Friday",
          "Saturday",
          "Sunday",
          "Monday",
          "Tuesday",
          "Wednesday",
          "Thursday",
          "Friday",
          "Saturday",
          "Sunday",
          "Monday",
          "Tuesday",
          "Wednesday",
          "Thursday",
          "Tuesday",
          "Wednesday",
          "Thursday",
          "Friday",
          "Saturday",
          "Sunday",
          "Monday",
          "Tuesday",
          "Wednesday",
          "Thursday",
          "Friday",
          "Saturday",
          "Sunday",
          "Monday",
          "Tuesday",
          "Wednesday",
          "Thursday",
          "Friday",
          "Tuesday",
          "Wednesday",
          "Thursday",
          "Friday",
          "Saturday",
          "Sunday",
          "Monday",
          "Tuesday",
          "Wednesday",
          "Thursday",
          "Friday",
          "Saturday",
          "Sunday",
          "Monday",
          "Tuesday",
          "Wednesday",
          "Thursday",
          "Friday",
          "Saturday",
          "Sunday",
          "Monday",
          "Tuesday",
          "Wednesday",
          "Thursday",
          "Friday",
          "Saturday",
          "Sunday",
          "Monday",
          "Tuesday",
          "Wednesday",
          "Thursday",
          "Tuesday",
          "Wednesday",
          "Thursday",
          "Friday",
          "Saturday",
          "Sunday",
          "Monday",
          "Tuesday",
          "Wednesday",
          "Thursday",
          "Friday",
          "Saturday",
          "Sunday",
          "Monday",
          "Tuesday",
          "Wednesday",
          "Thursday",
          "Friday",
          "Saturday",
          "Sunday",
          "Tuesday",
          "Wednesday",
          "Thursday",
          "Friday",
          "Saturday",
          "Sunday",
          "Monday",
          "Tuesday",
          "Wednesday",
          "Thursday",
          "Friday",
          "Saturday",
          "Sunday",
          "Monday",
          "Tuesday",
          "Wednesday",
          "Thursday",
          "Friday",
          "Saturday",
          "Sunday",
          "Monday",
          "Tuesday",
          "Wednesday",
          "Thursday",
          "Friday",
          "Saturday",
          "Sunday",
          "Monday",
          "Tuesday",
          "Wednesday",
          "Tuesday",
          "Wednesday",
          "Thursday",
          "Friday",
          "Saturday",
          "Sunday",
          "Monday",
          "Tuesday",
          "Wednesday",
          "Thursday",
          "Friday",
          "Saturday",
          "Sunday",
          "Monday",
          "Tuesday",
          "Wednesday",
          "Thursday",
          "Friday",
          "Saturday",
          "Sunday",
          "Monday",
          "Tuesday",
          "Wednesday",
          "Thursday",
          "Friday",
          "Saturday",
          "Sunday",
          "Monday",
          "Tuesday",
          "Wednesday",
          "Thursday",
          "Tuesday",
          "Wednesday",
          "Thursday",
          "Friday",
          "Tuesday",
          "Wednesday",
          "Thursday",
          "Friday",
          "Saturday",
          "Sunday",
          "Monday",
          "Tuesday",
          "Wednesday",
          "Thursday",
          "Friday",
          "Saturday",
          "Sunday",
          "Monday",
          "Tuesday",
          "Wednesday",
          "Thursday",
          "Friday",
          "Saturday",
          "Sunday",
          "Monday",
          "Tuesday",
          "Wednesday",
          "Thursday",
          "Friday",
          "Saturday",
          "Sunday",
          "Monday",
          "Tuesday",
          "Wednesday",
          "Thursday",
          "Tuesday",
          "Wednesday",
          "Thursday",
          "Friday",
          "Saturday",
          "Sunday",
          "Monday",
          "Tuesday",
          "Wednesday",
          "Thursday",
          "Friday",
          "Saturday",
          "Sunday",
          "Monday",
          "Tuesday",
          "Wednesday",
          "Thursday",
          "Friday",
          "Saturday",
          "Sunday",
          "Monday",
          "Tuesday",
          "Wednesday",
          "Thursday",
          "Friday",
          "Saturday",
          "Sunday",
          "Monday",
          "Tuesday",
          "Wednesday",
          "Thursday",
          "Tuesday",
          "Wednesday",
          "Thursday",
          "Friday",
          "Saturday",
          "Sunday",
          "Monday",
          "Tuesday",
          "Wednesday",
          "Thursday",
          "Friday",
          "Saturday",
          "Sunday",
          "Monday",
          "Tuesday",
          "Wednesday",
          "Thursday",
          "Friday",
          "Saturday",
          "Sunday",
          "Monday",
          "Tuesday",
          "Wednesday",
          "Thursday",
          "Friday",
          "Saturday",
          "Sunday",
          "Monday",
          "Tuesday",
          "Wednesday",
          "Thursday",
          "Tuesday",
          "Wednesday",
          "Thursday",
          "Friday",
          "Saturday",
          "Sunday",
          "Monday",
          "Tuesday",
          "Wednesday",
          "Thursday",
          "Friday",
          "Saturday",
          "Sunday",
          "Monday",
          "Tuesday",
          "Wednesday",
          "Thursday",
          "Friday",
          "Saturday",
          "Sunday",
          "Monday",
          "Tuesday",
          "Wednesday",
          "Thursday",
          "Friday",
          "Saturday",
          "Sunday",
          "Monday",
          "Tuesday",
          "Wednesday",
          "Thursday",
          "Tuesday",
          "Wednesday",
          "Thursday",
          "Friday",
          "Saturday",
          "Sunday",
          "Monday",
          "Tuesday",
          "Wednesday",
          "Thursday",
          "Friday",
          "Saturday",
          "Sunday",
          "Monday",
          "Tuesday",
          "Wednesday",
          "Thursday",
          "Friday",
          "Saturday",
          "Sunday",
          "Monday",
          "Tuesday",
          "Wednesday",
          "Thursday",
          "Friday",
          "Saturday",
          "Sunday",
          "Monday",
          "Tuesday",
          "Wednesday",
          "Thursday",
          "Tuesday",
          "Wednesday",
          "Thursday",
          "Friday",
          "Saturday",
          "Sunday",
          "Monday",
          "Tuesday",
          "Wednesday",
          "Thursday",
          "Friday",
          "Saturday",
          "Sunday",
          "Monday",
          "Tuesday",
          "Wednesday",
          "Thursday",
          "Friday",
          "Saturday",
          "Sunday",
          "Monday",
          "Tuesday",
          "Wednesday",
          "Thursday",
          "Friday",
          "Saturday",
          "Sunday",
          "Monday",
          "Tuesday",
          "Wednesday",
          "Thursday",
          "Tuesday",
          "Wednesday",
          "Thursday",
          "Friday",
          "Saturday",
          "Sunday",
          "Monday",
          "Tuesday",
          "Wednesday",
          "Thursday",
          "Friday",
          "Saturday",
          "Sunday",
          "Monday",
          "Tuesday",
          "Wednesday",
          "Thursday",
          "Friday",
          "Saturday",
          "Sunday",
          "Monday",
          "Tuesday",
          "Wednesday",
          "Thursday",
          "Friday",
          "Saturday",
          "Sunday",
          "Monday",
          "Tuesday",
          "Wednesday",
          "Tuesday",
          "Wednesday",
          "Thursday",
          "Friday",
          "Saturday",
          "Sunday",
          "Monday",
          "Tuesday",
          "Wednesday",
          "Thursday",
          "Friday",
          "Saturday",
          "Sunday",
          "Monday",
          "Tuesday",
          "Wednesday",
          "Thursday",
          "Friday",
          "Saturday",
          "Sunday",
          "Monday",
          "Tuesday",
          "Wednesday",
          "Thursday",
          "Friday",
          "Saturday",
          "Sunday",
          "Monday",
          "Tuesday",
          "Wednesday",
          "Thursday",
          "Friday",
          "Saturday",
          "Sunday",
          "Monday",
          "Tuesday",
          "Wednesday",
          "Thursday",
          "Friday",
          "Saturday",
          "Sunday",
          "Monday",
          "Tuesday",
          "Wednesday",
          "Thursday",
          "Friday",
          "Saturday",
          "Sunday",
          "Monday",
          "Tuesday",
          "Wednesday",
          "Thursday",
          "Friday",
          "Saturday",
          "Sunday",
          "Monday",
          "Tuesday",
          "Tuesday",
          "Wednesday",
          "Thursday",
          "Friday",
          "Saturday",
          "Sunday",
          "Monday",
          "Tuesday",
          "Wednesday",
          "Thursday",
          "Friday",
          "Saturday",
          "Sunday",
          "Monday",
          "Tuesday",
          "Wednesday",
          "Thursday",
          "Friday",
          "Saturday",
          "Sunday",
          "Monday",
          "Tuesday",
          "Wednesday",
          "Thursday",
          "Friday",
          "Saturday",
          "Tuesday",
          "Wednesday",
          "Thursday",
          "Friday",
          "Saturday",
          "Sunday",
          "Monday",
          "Tuesday",
          "Wednesday",
          "Thursday",
          "Friday",
          "Saturday",
          "Sunday",
          "Monday",
          "Tuesday",
          "Wednesday",
          "Thursday",
          "Friday",
          "Saturday",
          "Sunday",
          "Monday",
          "Tuesday",
          "Wednesday",
          "Thursday",
          "Friday",
          "Saturday",
          "Sunday",
          "Monday",
          "Tuesday",
          "Wednesday",
          "Thursday",
          "Tuesday",
          "Wednesday",
          "Thursday",
          "Friday",
          "Saturday",
          "Sunday",
          "Monday",
          "Tuesday",
          "Wednesday",
          "Thursday",
          "Friday",
          "Saturday",
          "Sunday",
          "Monday",
          "Tuesday",
          "Wednesday",
          "Thursday",
          "Friday",
          "Saturday",
          "Sunday",
          "Monday",
          "Tuesday",
          "Wednesday",
          "Thursday",
          "Friday",
          "Saturday",
          "Tuesday",
          "Wednesday",
          "Thursday",
          "Friday",
          "Saturday",
          "Sunday",
          "Monday",
          "Tuesday",
          "Wednesday",
          "Thursday",
          "Friday",
          "Saturday",
          "Sunday",
          "Monday",
          "Tuesday",
          "Wednesday",
          "Thursday",
          "Friday",
          "Saturday",
          "Sunday",
          "Monday",
          "Tuesday",
          "Wednesday",
          "Thursday",
          "Friday",
          "Saturday",
          "Sunday",
          "Monday",
          "Tuesday",
          "Wednesday",
          "Thursday",
          "Tuesday",
          "Wednesday",
          "Thursday",
          "Friday",
          "Saturday",
          "Sunday",
          "Monday",
          "Tuesday",
          "Wednesday",
          "Thursday",
          "Friday",
          "Saturday",
          "Sunday",
          "Monday",
          "Tuesday",
          "Wednesday",
          "Thursday",
          "Friday",
          "Saturday",
          "Sunday",
          "Monday",
          "Tuesday",
          "Wednesday",
          "Thursday",
          "Friday",
          "Saturday",
          "Sunday",
          "Monday",
          "Tuesday",
          "Wednesday",
          "Thursday",
          "Tuesday",
          "Wednesday",
          "Thursday",
          "Friday",
          "Saturday",
          "Sunday",
          "Monday",
          "Tuesday",
          "Wednesday",
          "Thursday",
          "Friday",
          "Saturday",
          "Sunday",
          "Monday",
          "Tuesday",
          "Wednesday",
          "Thursday",
          "Friday",
          "Saturday",
          "Tuesday",
          "Wednesday",
          "Thursday",
          "Friday",
          "Saturday",
          "Sunday",
          "Monday",
          "Tuesday",
          "Wednesday",
          "Thursday",
          "Friday",
          "Saturday",
          "Sunday",
          "Monday",
          "Tuesday",
          "Wednesday",
          "Thursday",
          "Friday",
          "Saturday",
          "Sunday",
          "Monday",
          "Tuesday",
          "Wednesday",
          "Thursday",
          "Friday",
          "Saturday",
          "Sunday",
          "Monday",
          "Tuesday",
          "Wednesday",
          "Thursday",
          "Tuesday",
          "Wednesday",
          "Thursday",
          "Friday",
          "Saturday",
          "Sunday",
          "Monday",
          "Tuesday",
          "Wednesday",
          "Thursday",
          "Friday",
          "Saturday",
          "Sunday",
          "Monday",
          "Tuesday",
          "Wednesday",
          "Thursday",
          "Friday",
          "Saturday",
          "Sunday",
          "Monday",
          "Tuesday",
          "Wednesday",
          "Thursday",
          "Friday",
          "Saturday",
          "Sunday",
          "Monday",
          "Tuesday",
          "Wednesday",
          "Thursday",
          "Tuesday",
          "Wednesday",
          "Thursday",
          "Friday",
          "Saturday",
          "Sunday",
          "Monday",
          "Tuesday",
          "Wednesday",
          "Thursday",
          "Friday",
          "Saturday",
          "Sunday",
          "Monday",
          "Tuesday",
          "Wednesday",
          "Thursday",
          "Friday",
          "Saturday",
          "Sunday",
          "Monday",
          "Tuesday",
          "Wednesday",
          "Thursday",
          "Friday",
          "Saturday",
          "Sunday",
          "Monday",
          "Tuesday",
          "Tuesday",
          "Wednesday",
          "Thursday",
          "Friday",
          "Saturday",
          "Sunday",
          "Monday",
          "Tuesday",
          "Wednesday",
          "Thursday",
          "Friday",
          "Saturday",
          "Sunday",
          "Monday",
          "Tuesday",
          "Wednesday",
          "Thursday",
          "Friday",
          "Saturday",
          "Sunday",
          "Monday",
          "Tuesday",
          "Wednesday",
          "Thursday",
          "Friday",
          "Saturday",
          "Sunday",
          "Monday",
          "Tuesday",
          "Wednesday",
          "Thursday"
         ],
         "y": {
          "bdata": "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",
          "dtype": "i2"
         }
        },
        {
         "marker": {
          "color": "royalblue"
         },
         "name": "Lightly Active",
         "type": "bar",
         "x": [
          "Tuesday",
          "Wednesday",
          "Thursday",
          "Friday",
          "Saturday",
          "Sunday",
          "Monday",
          "Tuesday",
          "Wednesday",
          "Thursday",
          "Friday",
          "Saturday",
          "Sunday",
          "Monday",
          "Tuesday",
          "Wednesday",
          "Thursday",
          "Friday",
          "Saturday",
          "Sunday",
          "Monday",
          "Tuesday",
          "Wednesday",
          "Thursday",
          "Friday",
          "Saturday",
          "Sunday",
          "Monday",
          "Tuesday",
          "Wednesday",
          "Thursday",
          "Tuesday",
          "Wednesday",
          "Thursday",
          "Friday",
          "Saturday",
          "Sunday",
          "Monday",
          "Tuesday",
          "Wednesday",
          "Thursday",
          "Friday",
          "Saturday",
          "Sunday",
          "Monday",
          "Tuesday",
          "Wednesday",
          "Thursday",
          "Friday",
          "Saturday",
          "Sunday",
          "Monday",
          "Tuesday",
          "Wednesday",
          "Thursday",
          "Friday",
          "Saturday",
          "Sunday",
          "Monday",
          "Tuesday",
          "Wednesday",
          "Thursday",
          "Tuesday",
          "Wednesday",
          "Thursday",
          "Friday",
          "Saturday",
          "Sunday",
          "Monday",
          "Tuesday",
          "Wednesday",
          "Thursday",
          "Friday",
          "Saturday",
          "Sunday",
          "Monday",
          "Tuesday",
          "Wednesday",
          "Thursday",
          "Friday",
          "Saturday",
          "Sunday",
          "Monday",
          "Tuesday",
          "Wednesday",
          "Thursday",
          "Friday",
          "Saturday",
          "Sunday",
          "Monday",
          "Tuesday",
          "Wednesday",
          "Tuesday",
          "Wednesday",
          "Thursday",
          "Friday",
          "Saturday",
          "Sunday",
          "Monday",
          "Tuesday",
          "Wednesday",
          "Thursday",
          "Friday",
          "Saturday",
          "Sunday",
          "Monday",
          "Tuesday",
          "Wednesday",
          "Thursday",
          "Friday",
          "Saturday",
          "Sunday",
          "Monday",
          "Tuesday",
          "Wednesday",
          "Thursday",
          "Friday",
          "Saturday",
          "Sunday",
          "Monday",
          "Tuesday",
          "Wednesday",
          "Thursday",
          "Tuesday",
          "Wednesday",
          "Thursday",
          "Friday",
          "Saturday",
          "Sunday",
          "Monday",
          "Tuesday",
          "Wednesday",
          "Thursday",
          "Friday",
          "Saturday",
          "Sunday",
          "Monday",
          "Tuesday",
          "Wednesday",
          "Thursday",
          "Friday",
          "Saturday",
          "Sunday",
          "Monday",
          "Tuesday",
          "Wednesday",
          "Thursday",
          "Friday",
          "Saturday",
          "Sunday",
          "Monday",
          "Tuesday",
          "Wednesday",
          "Thursday",
          "Tuesday",
          "Wednesday",
          "Thursday",
          "Friday",
          "Saturday",
          "Sunday",
          "Monday",
          "Tuesday",
          "Wednesday",
          "Thursday",
          "Friday",
          "Saturday",
          "Sunday",
          "Monday",
          "Tuesday",
          "Wednesday",
          "Thursday",
          "Friday",
          "Saturday",
          "Sunday",
          "Monday",
          "Tuesday",
          "Wednesday",
          "Thursday",
          "Friday",
          "Saturday",
          "Sunday",
          "Monday",
          "Tuesday",
          "Wednesday",
          "Thursday",
          "Tuesday",
          "Wednesday",
          "Thursday",
          "Friday",
          "Saturday",
          "Sunday",
          "Monday",
          "Tuesday",
          "Wednesday",
          "Thursday",
          "Friday",
          "Saturday",
          "Sunday",
          "Monday",
          "Tuesday",
          "Wednesday",
          "Thursday",
          "Friday",
          "Saturday",
          "Sunday",
          "Monday",
          "Tuesday",
          "Wednesday",
          "Thursday",
          "Friday",
          "Saturday",
          "Sunday",
          "Monday",
          "Tuesday",
          "Wednesday",
          "Thursday",
          "Tuesday",
          "Wednesday",
          "Thursday",
          "Friday",
          "Saturday",
          "Sunday",
          "Monday",
          "Tuesday",
          "Wednesday",
          "Thursday",
          "Friday",
          "Saturday",
          "Sunday",
          "Monday",
          "Tuesday",
          "Wednesday",
          "Thursday",
          "Friday",
          "Saturday",
          "Sunday",
          "Monday",
          "Tuesday",
          "Wednesday",
          "Thursday",
          "Friday",
          "Saturday",
          "Sunday",
          "Monday",
          "Tuesday",
          "Wednesday",
          "Thursday",
          "Tuesday",
          "Wednesday",
          "Thursday",
          "Friday",
          "Saturday",
          "Sunday",
          "Monday",
          "Tuesday",
          "Wednesday",
          "Thursday",
          "Friday",
          "Saturday",
          "Sunday",
          "Monday",
          "Tuesday",
          "Wednesday",
          "Thursday",
          "Friday",
          "Tuesday",
          "Wednesday",
          "Thursday",
          "Friday",
          "Saturday",
          "Sunday",
          "Monday",
          "Tuesday",
          "Wednesday",
          "Thursday",
          "Friday",
          "Saturday",
          "Sunday",
          "Monday",
          "Tuesday",
          "Wednesday",
          "Thursday",
          "Friday",
          "Saturday",
          "Sunday",
          "Monday",
          "Tuesday",
          "Wednesday",
          "Thursday",
          "Friday",
          "Saturday",
          "Sunday",
          "Monday",
          "Tuesday",
          "Wednesday",
          "Thursday",
          "Tuesday",
          "Wednesday",
          "Thursday",
          "Friday",
          "Saturday",
          "Sunday",
          "Monday",
          "Tuesday",
          "Wednesday",
          "Thursday",
          "Friday",
          "Saturday",
          "Sunday",
          "Monday",
          "Tuesday",
          "Wednesday",
          "Thursday",
          "Friday",
          "Saturday",
          "Sunday",
          "Tuesday",
          "Wednesday",
          "Thursday",
          "Friday",
          "Saturday",
          "Sunday",
          "Monday",
          "Tuesday",
          "Wednesday",
          "Thursday",
          "Friday",
          "Saturday",
          "Sunday",
          "Monday",
          "Tuesday",
          "Wednesday",
          "Thursday",
          "Friday",
          "Saturday",
          "Sunday",
          "Monday",
          "Tuesday",
          "Wednesday",
          "Thursday",
          "Friday",
          "Saturday",
          "Sunday",
          "Monday",
          "Tuesday",
          "Wednesday",
          "Tuesday",
          "Wednesday",
          "Thursday",
          "Friday",
          "Saturday",
          "Sunday",
          "Monday",
          "Tuesday",
          "Wednesday",
          "Thursday",
          "Friday",
          "Saturday",
          "Sunday",
          "Monday",
          "Tuesday",
          "Wednesday",
          "Thursday",
          "Friday",
          "Saturday",
          "Sunday",
          "Monday",
          "Tuesday",
          "Wednesday",
          "Thursday",
          "Friday",
          "Saturday",
          "Sunday",
          "Monday",
          "Tuesday",
          "Wednesday",
          "Thursday",
          "Tuesday",
          "Wednesday",
          "Thursday",
          "Friday",
          "Tuesday",
          "Wednesday",
          "Thursday",
          "Friday",
          "Saturday",
          "Sunday",
          "Monday",
          "Tuesday",
          "Wednesday",
          "Thursday",
          "Friday",
          "Saturday",
          "Sunday",
          "Monday",
          "Tuesday",
          "Wednesday",
          "Thursday",
          "Friday",
          "Saturday",
          "Sunday",
          "Monday",
          "Tuesday",
          "Wednesday",
          "Thursday",
          "Friday",
          "Saturday",
          "Sunday",
          "Monday",
          "Tuesday",
          "Wednesday",
          "Thursday",
          "Tuesday",
          "Wednesday",
          "Thursday",
          "Friday",
          "Saturday",
          "Sunday",
          "Monday",
          "Tuesday",
          "Wednesday",
          "Thursday",
          "Friday",
          "Saturday",
          "Sunday",
          "Monday",
          "Tuesday",
          "Wednesday",
          "Thursday",
          "Friday",
          "Saturday",
          "Sunday",
          "Monday",
          "Tuesday",
          "Wednesday",
          "Thursday",
          "Friday",
          "Saturday",
          "Sunday",
          "Monday",
          "Tuesday",
          "Wednesday",
          "Thursday",
          "Tuesday",
          "Wednesday",
          "Thursday",
          "Friday",
          "Saturday",
          "Sunday",
          "Monday",
          "Tuesday",
          "Wednesday",
          "Thursday",
          "Friday",
          "Saturday",
          "Sunday",
          "Monday",
          "Tuesday",
          "Wednesday",
          "Thursday",
          "Friday",
          "Saturday",
          "Sunday",
          "Monday",
          "Tuesday",
          "Wednesday",
          "Thursday",
          "Friday",
          "Saturday",
          "Sunday",
          "Monday",
          "Tuesday",
          "Wednesday",
          "Thursday",
          "Tuesday",
          "Wednesday",
          "Thursday",
          "Friday",
          "Saturday",
          "Sunday",
          "Monday",
          "Tuesday",
          "Wednesday",
          "Thursday",
          "Friday",
          "Saturday",
          "Sunday",
          "Monday",
          "Tuesday",
          "Wednesday",
          "Thursday",
          "Friday",
          "Saturday",
          "Sunday",
          "Monday",
          "Tuesday",
          "Wednesday",
          "Thursday",
          "Friday",
          "Saturday",
          "Sunday",
          "Monday",
          "Tuesday",
          "Wednesday",
          "Thursday",
          "Tuesday",
          "Wednesday",
          "Thursday",
          "Friday",
          "Saturday",
          "Sunday",
          "Monday",
          "Tuesday",
          "Wednesday",
          "Thursday",
          "Friday",
          "Saturday",
          "Sunday",
          "Monday",
          "Tuesday",
          "Wednesday",
          "Thursday",
          "Friday",
          "Saturday",
          "Sunday",
          "Monday",
          "Tuesday",
          "Wednesday",
          "Thursday",
          "Friday",
          "Saturday",
          "Sunday",
          "Monday",
          "Tuesday",
          "Wednesday",
          "Thursday",
          "Tuesday",
          "Wednesday",
          "Thursday",
          "Friday",
          "Saturday",
          "Sunday",
          "Monday",
          "Tuesday",
          "Wednesday",
          "Thursday",
          "Friday",
          "Saturday",
          "Sunday",
          "Monday",
          "Tuesday",
          "Wednesday",
          "Thursday",
          "Friday",
          "Saturday",
          "Sunday",
          "Monday",
          "Tuesday",
          "Wednesday",
          "Thursday",
          "Friday",
          "Saturday",
          "Sunday",
          "Monday",
          "Tuesday",
          "Wednesday",
          "Thursday",
          "Tuesday",
          "Wednesday",
          "Thursday",
          "Friday",
          "Saturday",
          "Sunday",
          "Monday",
          "Tuesday",
          "Wednesday",
          "Thursday",
          "Friday",
          "Saturday",
          "Sunday",
          "Monday",
          "Tuesday",
          "Wednesday",
          "Thursday",
          "Friday",
          "Saturday",
          "Sunday",
          "Monday",
          "Tuesday",
          "Wednesday",
          "Thursday",
          "Friday",
          "Saturday",
          "Sunday",
          "Monday",
          "Tuesday",
          "Wednesday",
          "Tuesday",
          "Wednesday",
          "Thursday",
          "Friday",
          "Saturday",
          "Sunday",
          "Monday",
          "Tuesday",
          "Wednesday",
          "Thursday",
          "Friday",
          "Saturday",
          "Sunday",
          "Monday",
          "Tuesday",
          "Wednesday",
          "Thursday",
          "Friday",
          "Saturday",
          "Sunday",
          "Monday",
          "Tuesday",
          "Wednesday",
          "Thursday",
          "Friday",
          "Saturday",
          "Sunday",
          "Monday",
          "Tuesday",
          "Wednesday",
          "Thursday",
          "Friday",
          "Saturday",
          "Sunday",
          "Monday",
          "Tuesday",
          "Wednesday",
          "Thursday",
          "Friday",
          "Saturday",
          "Sunday",
          "Monday",
          "Tuesday",
          "Wednesday",
          "Thursday",
          "Friday",
          "Saturday",
          "Sunday",
          "Monday",
          "Tuesday",
          "Wednesday",
          "Thursday",
          "Friday",
          "Saturday",
          "Sunday",
          "Monday",
          "Tuesday",
          "Tuesday",
          "Wednesday",
          "Thursday",
          "Friday",
          "Saturday",
          "Sunday",
          "Monday",
          "Tuesday",
          "Wednesday",
          "Thursday",
          "Friday",
          "Saturday",
          "Sunday",
          "Monday",
          "Tuesday",
          "Wednesday",
          "Thursday",
          "Friday",
          "Saturday",
          "Sunday",
          "Monday",
          "Tuesday",
          "Wednesday",
          "Thursday",
          "Friday",
          "Saturday",
          "Tuesday",
          "Wednesday",
          "Thursday",
          "Friday",
          "Saturday",
          "Sunday",
          "Monday",
          "Tuesday",
          "Wednesday",
          "Thursday",
          "Friday",
          "Saturday",
          "Sunday",
          "Monday",
          "Tuesday",
          "Wednesday",
          "Thursday",
          "Friday",
          "Saturday",
          "Sunday",
          "Monday",
          "Tuesday",
          "Wednesday",
          "Thursday",
          "Friday",
          "Saturday",
          "Sunday",
          "Monday",
          "Tuesday",
          "Wednesday",
          "Thursday",
          "Tuesday",
          "Wednesday",
          "Thursday",
          "Friday",
          "Saturday",
          "Sunday",
          "Monday",
          "Tuesday",
          "Wednesday",
          "Thursday",
          "Friday",
          "Saturday",
          "Sunday",
          "Monday",
          "Tuesday",
          "Wednesday",
          "Thursday",
          "Friday",
          "Saturday",
          "Sunday",
          "Monday",
          "Tuesday",
          "Wednesday",
          "Thursday",
          "Friday",
          "Saturday",
          "Tuesday",
          "Wednesday",
          "Thursday",
          "Friday",
          "Saturday",
          "Sunday",
          "Monday",
          "Tuesday",
          "Wednesday",
          "Thursday",
          "Friday",
          "Saturday",
          "Sunday",
          "Monday",
          "Tuesday",
          "Wednesday",
          "Thursday",
          "Friday",
          "Saturday",
          "Sunday",
          "Monday",
          "Tuesday",
          "Wednesday",
          "Thursday",
          "Friday",
          "Saturday",
          "Sunday",
          "Monday",
          "Tuesday",
          "Wednesday",
          "Thursday",
          "Tuesday",
          "Wednesday",
          "Thursday",
          "Friday",
          "Saturday",
          "Sunday",
          "Monday",
          "Tuesday",
          "Wednesday",
          "Thursday",
          "Friday",
          "Saturday",
          "Sunday",
          "Monday",
          "Tuesday",
          "Wednesday",
          "Thursday",
          "Friday",
          "Saturday",
          "Sunday",
          "Monday",
          "Tuesday",
          "Wednesday",
          "Thursday",
          "Friday",
          "Saturday",
          "Sunday",
          "Monday",
          "Tuesday",
          "Wednesday",
          "Thursday",
          "Tuesday",
          "Wednesday",
          "Thursday",
          "Friday",
          "Saturday",
          "Sunday",
          "Monday",
          "Tuesday",
          "Wednesday",
          "Thursday",
          "Friday",
          "Saturday",
          "Sunday",
          "Monday",
          "Tuesday",
          "Wednesday",
          "Thursday",
          "Friday",
          "Saturday",
          "Tuesday",
          "Wednesday",
          "Thursday",
          "Friday",
          "Saturday",
          "Sunday",
          "Monday",
          "Tuesday",
          "Wednesday",
          "Thursday",
          "Friday",
          "Saturday",
          "Sunday",
          "Monday",
          "Tuesday",
          "Wednesday",
          "Thursday",
          "Friday",
          "Saturday",
          "Sunday",
          "Monday",
          "Tuesday",
          "Wednesday",
          "Thursday",
          "Friday",
          "Saturday",
          "Sunday",
          "Monday",
          "Tuesday",
          "Wednesday",
          "Thursday",
          "Tuesday",
          "Wednesday",
          "Thursday",
          "Friday",
          "Saturday",
          "Sunday",
          "Monday",
          "Tuesday",
          "Wednesday",
          "Thursday",
          "Friday",
          "Saturday",
          "Sunday",
          "Monday",
          "Tuesday",
          "Wednesday",
          "Thursday",
          "Friday",
          "Saturday",
          "Sunday",
          "Monday",
          "Tuesday",
          "Wednesday",
          "Thursday",
          "Friday",
          "Saturday",
          "Sunday",
          "Monday",
          "Tuesday",
          "Wednesday",
          "Thursday",
          "Tuesday",
          "Wednesday",
          "Thursday",
          "Friday",
          "Saturday",
          "Sunday",
          "Monday",
          "Tuesday",
          "Wednesday",
          "Thursday",
          "Friday",
          "Saturday",
          "Sunday",
          "Monday",
          "Tuesday",
          "Wednesday",
          "Thursday",
          "Friday",
          "Saturday",
          "Sunday",
          "Monday",
          "Tuesday",
          "Wednesday",
          "Thursday",
          "Friday",
          "Saturday",
          "Sunday",
          "Monday",
          "Tuesday",
          "Tuesday",
          "Wednesday",
          "Thursday",
          "Friday",
          "Saturday",
          "Sunday",
          "Monday",
          "Tuesday",
          "Wednesday",
          "Thursday",
          "Friday",
          "Saturday",
          "Sunday",
          "Monday",
          "Tuesday",
          "Wednesday",
          "Thursday",
          "Friday",
          "Saturday",
          "Sunday",
          "Monday",
          "Tuesday",
          "Wednesday",
          "Thursday",
          "Friday",
          "Saturday",
          "Sunday",
          "Monday",
          "Tuesday",
          "Wednesday",
          "Thursday"
         ],
         "y": {
          "bdata": "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",
          "dtype": "i2"
         }
        }
       ],
       "layout": {
        "barmode": "group",
        "template": {
         "data": {
          "bar": [
           {
            "error_x": {
             "color": "#2a3f5f"
            },
            "error_y": {
             "color": "#2a3f5f"
            },
            "marker": {
             "line": {
              "color": "#E5ECF6",
              "width": 0.5
             },
             "pattern": {
              "fillmode": "overlay",
              "size": 10,
              "solidity": 0.2
             }
            },
            "type": "bar"
           }
          ],
          "barpolar": [
           {
            "marker": {
             "line": {
              "color": "#E5ECF6",
              "width": 0.5
             },
             "pattern": {
              "fillmode": "overlay",
              "size": 10,
              "solidity": 0.2
             }
            },
            "type": "barpolar"
           }
          ],
          "carpet": [
           {
            "aaxis": {
             "endlinecolor": "#2a3f5f",
             "gridcolor": "white",
             "linecolor": "white",
             "minorgridcolor": "white",
             "startlinecolor": "#2a3f5f"
            },
            "baxis": {
             "endlinecolor": "#2a3f5f",
             "gridcolor": "white",
             "linecolor": "white",
             "minorgridcolor": "white",
             "startlinecolor": "#2a3f5f"
            },
            "type": "carpet"
           }
          ],
          "choropleth": [
           {
            "colorbar": {
             "outlinewidth": 0,
             "ticks": ""
            },
            "type": "choropleth"
           }
          ],
          "contour": [
           {
            "colorbar": {
             "outlinewidth": 0,
             "ticks": ""
            },
            "colorscale": [
             [
              0,
              "#0d0887"
             ],
             [
              0.1111111111111111,
              "#46039f"
             ],
             [
              0.2222222222222222,
              "#7201a8"
             ],
             [
              0.3333333333333333,
              "#9c179e"
             ],
             [
              0.4444444444444444,
              "#bd3786"
             ],
             [
              0.5555555555555556,
              "#d8576b"
             ],
             [
              0.6666666666666666,
              "#ed7953"
             ],
             [
              0.7777777777777778,
              "#fb9f3a"
             ],
             [
              0.8888888888888888,
              "#fdca26"
             ],
             [
              1,
              "#f0f921"
             ]
            ],
            "type": "contour"
           }
          ],
          "contourcarpet": [
           {
            "colorbar": {
             "outlinewidth": 0,
             "ticks": ""
            },
            "type": "contourcarpet"
           }
          ],
          "heatmap": [
           {
            "colorbar": {
             "outlinewidth": 0,
             "ticks": ""
            },
            "colorscale": [
             [
              0,
              "#0d0887"
             ],
             [
              0.1111111111111111,
              "#46039f"
             ],
             [
              0.2222222222222222,
              "#7201a8"
             ],
             [
              0.3333333333333333,
              "#9c179e"
             ],
             [
              0.4444444444444444,
              "#bd3786"
             ],
             [
              0.5555555555555556,
              "#d8576b"
             ],
             [
              0.6666666666666666,
              "#ed7953"
             ],
             [
              0.7777777777777778,
              "#fb9f3a"
             ],
             [
              0.8888888888888888,
              "#fdca26"
             ],
             [
              1,
              "#f0f921"
             ]
            ],
            "type": "heatmap"
           }
          ],
          "histogram": [
           {
            "marker": {
             "pattern": {
              "fillmode": "overlay",
              "size": 10,
              "solidity": 0.2
             }
            },
            "type": "histogram"
           }
          ],
          "histogram2d": [
           {
            "colorbar": {
             "outlinewidth": 0,
             "ticks": ""
            },
            "colorscale": [
             [
              0,
              "#0d0887"
             ],
             [
              0.1111111111111111,
              "#46039f"
             ],
             [
              0.2222222222222222,
              "#7201a8"
             ],
             [
              0.3333333333333333,
              "#9c179e"
             ],
             [
              0.4444444444444444,
              "#bd3786"
             ],
             [
              0.5555555555555556,
              "#d8576b"
             ],
             [
              0.6666666666666666,
              "#ed7953"
             ],
             [
              0.7777777777777778,
              "#fb9f3a"
             ],
             [
              0.8888888888888888,
              "#fdca26"
             ],
             [
              1,
              "#f0f921"
             ]
            ],
            "type": "histogram2d"
           }
          ],
          "histogram2dcontour": [
           {
            "colorbar": {
             "outlinewidth": 0,
             "ticks": ""
            },
            "colorscale": [
             [
              0,
              "#0d0887"
             ],
             [
              0.1111111111111111,
              "#46039f"
             ],
             [
              0.2222222222222222,
              "#7201a8"
             ],
             [
              0.3333333333333333,
              "#9c179e"
             ],
             [
              0.4444444444444444,
              "#bd3786"
             ],
             [
              0.5555555555555556,
              "#d8576b"
             ],
             [
              0.6666666666666666,
              "#ed7953"
             ],
             [
              0.7777777777777778,
              "#fb9f3a"
             ],
             [
              0.8888888888888888,
              "#fdca26"
             ],
             [
              1,
              "#f0f921"
             ]
            ],
            "type": "histogram2dcontour"
           }
          ],
          "mesh3d": [
           {
            "colorbar": {
             "outlinewidth": 0,
             "ticks": ""
            },
            "type": "mesh3d"
           }
          ],
          "parcoords": [
           {
            "line": {
             "colorbar": {
              "outlinewidth": 0,
              "ticks": ""
             }
            },
            "type": "parcoords"
           }
          ],
          "pie": [
           {
            "automargin": true,
            "type": "pie"
           }
          ],
          "scatter": [
           {
            "fillpattern": {
             "fillmode": "overlay",
             "size": 10,
             "solidity": 0.2
            },
            "type": "scatter"
           }
          ],
          "scatter3d": [
           {
            "line": {
             "colorbar": {
              "outlinewidth": 0,
              "ticks": ""
             }
            },
            "marker": {
             "colorbar": {
              "outlinewidth": 0,
              "ticks": ""
             }
            },
            "type": "scatter3d"
           }
          ],
          "scattercarpet": [
           {
            "marker": {
             "colorbar": {
              "outlinewidth": 0,
              "ticks": ""
             }
            },
            "type": "scattercarpet"
           }
          ],
          "scattergeo": [
           {
            "marker": {
             "colorbar": {
              "outlinewidth": 0,
              "ticks": ""
             }
            },
            "type": "scattergeo"
           }
          ],
          "scattergl": [
           {
            "marker": {
             "colorbar": {
              "outlinewidth": 0,
              "ticks": ""
             }
            },
            "type": "scattergl"
           }
          ],
          "scattermap": [
           {
            "marker": {
             "colorbar": {
              "outlinewidth": 0,
              "ticks": ""
             }
            },
            "type": "scattermap"
           }
          ],
          "scattermapbox": [
           {
            "marker": {
             "colorbar": {
              "outlinewidth": 0,
              "ticks": ""
             }
            },
            "type": "scattermapbox"
           }
          ],
          "scatterpolar": [
           {
            "marker": {
             "colorbar": {
              "outlinewidth": 0,
              "ticks": ""
             }
            },
            "type": "scatterpolar"
           }
          ],
          "scatterpolargl": [
           {
            "marker": {
             "colorbar": {
              "outlinewidth": 0,
              "ticks": ""
             }
            },
            "type": "scatterpolargl"
           }
          ],
          "scatterternary": [
           {
            "marker": {
             "colorbar": {
              "outlinewidth": 0,
              "ticks": ""
             }
            },
            "type": "scatterternary"
           }
          ],
          "surface": [
           {
            "colorbar": {
             "outlinewidth": 0,
             "ticks": ""
            },
            "colorscale": [
             [
              0,
              "#0d0887"
             ],
             [
              0.1111111111111111,
              "#46039f"
             ],
             [
              0.2222222222222222,
              "#7201a8"
             ],
             [
              0.3333333333333333,
              "#9c179e"
             ],
             [
              0.4444444444444444,
              "#bd3786"
             ],
             [
              0.5555555555555556,
              "#d8576b"
             ],
             [
              0.6666666666666666,
              "#ed7953"
             ],
             [
              0.7777777777777778,
              "#fb9f3a"
             ],
             [
              0.8888888888888888,
              "#fdca26"
             ],
             [
              1,
              "#f0f921"
             ]
            ],
            "type": "surface"
           }
          ],
          "table": [
           {
            "cells": {
             "fill": {
              "color": "#EBF0F8"
             },
             "line": {
              "color": "white"
             }
            },
            "header": {
             "fill": {
              "color": "#C8D4E3"
             },
             "line": {
              "color": "white"
             }
            },
            "type": "table"
           }
          ]
         },
         "layout": {
          "annotationdefaults": {
           "arrowcolor": "#2a3f5f",
           "arrowhead": 0,
           "arrowwidth": 1
          },
          "autotypenumbers": "strict",
          "coloraxis": {
           "colorbar": {
            "outlinewidth": 0,
            "ticks": ""
           }
          },
          "colorscale": {
           "diverging": [
            [
             0,
             "#8e0152"
            ],
            [
             0.1,
             "#c51b7d"
            ],
            [
             0.2,
             "#de77ae"
            ],
            [
             0.3,
             "#f1b6da"
            ],
            [
             0.4,
             "#fde0ef"
            ],
            [
             0.5,
             "#f7f7f7"
            ],
            [
             0.6,
             "#e6f5d0"
            ],
            [
             0.7,
             "#b8e186"
            ],
            [
             0.8,
             "#7fbc41"
            ],
            [
             0.9,
             "#4d9221"
            ],
            [
             1,
             "#276419"
            ]
           ],
           "sequential": [
            [
             0,
             "#0d0887"
            ],
            [
             0.1111111111111111,
             "#46039f"
            ],
            [
             0.2222222222222222,
             "#7201a8"
            ],
            [
             0.3333333333333333,
             "#9c179e"
            ],
            [
             0.4444444444444444,
             "#bd3786"
            ],
            [
             0.5555555555555556,
             "#d8576b"
            ],
            [
             0.6666666666666666,
             "#ed7953"
            ],
            [
             0.7777777777777778,
             "#fb9f3a"
            ],
            [
             0.8888888888888888,
             "#fdca26"
            ],
            [
             1,
             "#f0f921"
            ]
           ],
           "sequentialminus": [
            [
             0,
             "#0d0887"
            ],
            [
             0.1111111111111111,
             "#46039f"
            ],
            [
             0.2222222222222222,
             "#7201a8"
            ],
            [
             0.3333333333333333,
             "#9c179e"
            ],
            [
             0.4444444444444444,
             "#bd3786"
            ],
            [
             0.5555555555555556,
             "#d8576b"
            ],
            [
             0.6666666666666666,
             "#ed7953"
            ],
            [
             0.7777777777777778,
             "#fb9f3a"
            ],
            [
             0.8888888888888888,
             "#fdca26"
            ],
            [
             1,
             "#f0f921"
            ]
           ]
          },
          "colorway": [
           "#636efa",
           "#EF553B",
           "#00cc96",
           "#ab63fa",
           "#FFA15A",
           "#19d3f3",
           "#FF6692",
           "#B6E880",
           "#FF97FF",
           "#FECB52"
          ],
          "font": {
           "color": "#2a3f5f"
          },
          "geo": {
           "bgcolor": "white",
           "lakecolor": "white",
           "landcolor": "#E5ECF6",
           "showlakes": true,
           "showland": true,
           "subunitcolor": "white"
          },
          "hoverlabel": {
           "align": "left"
          },
          "hovermode": "closest",
          "mapbox": {
           "style": "light"
          },
          "paper_bgcolor": "white",
          "plot_bgcolor": "#E5ECF6",
          "polar": {
           "angularaxis": {
            "gridcolor": "white",
            "linecolor": "white",
            "ticks": ""
           },
           "bgcolor": "#E5ECF6",
           "radialaxis": {
            "gridcolor": "white",
            "linecolor": "white",
            "ticks": ""
           }
          },
          "scene": {
           "xaxis": {
            "backgroundcolor": "#E5ECF6",
            "gridcolor": "white",
            "gridwidth": 2,
            "linecolor": "white",
            "showbackground": true,
            "ticks": "",
            "zerolinecolor": "white"
           },
           "yaxis": {
            "backgroundcolor": "#E5ECF6",
            "gridcolor": "white",
            "gridwidth": 2,
            "linecolor": "white",
            "showbackground": true,
            "ticks": "",
            "zerolinecolor": "white"
           },
           "zaxis": {
            "backgroundcolor": "#E5ECF6",
            "gridcolor": "white",
            "gridwidth": 2,
            "linecolor": "white",
            "showbackground": true,
            "ticks": "",
            "zerolinecolor": "white"
           }
          },
          "shapedefaults": {
           "line": {
            "color": "#2a3f5f"
           }
          },
          "ternary": {
           "aaxis": {
            "gridcolor": "white",
            "linecolor": "white",
            "ticks": ""
           },
           "baxis": {
            "gridcolor": "white",
            "linecolor": "white",
            "ticks": ""
           },
           "bgcolor": "#E5ECF6",
           "caxis": {
            "gridcolor": "white",
            "linecolor": "white",
            "ticks": ""
           }
          },
          "title": {
           "x": 0.05
          },
          "xaxis": {
           "automargin": true,
           "gridcolor": "white",
           "linecolor": "white",
           "ticks": "",
           "title": {
            "standoff": 15
           },
           "zerolinecolor": "white",
           "zerolinewidth": 2
          },
          "yaxis": {
           "automargin": true,
           "gridcolor": "white",
           "linecolor": "white",
           "ticks": "",
           "title": {
            "standoff": 15
           },
           "zerolinecolor": "white",
           "zerolinewidth": 2
          }
         }
        }
       }
      }
     },
     "metadata": {},
     "output_type": "display_data"
    }
   ],
   "source": [
    "fig = go.Figure()\n",
    "fig.add_trace(go.Bar(\n",
    "    x=data[\"Day\"],\n",
    "    y=data[\"VeryActiveMinutes\"],\n",
    "    name='Very Active',\n",
    "    marker_color='crimson'\n",
    "))\n",
    "fig.add_trace(go.Bar(\n",
    "    x=data[\"Day\"],\n",
    "    y=data[\"FairlyActiveMinutes\"],\n",
    "    name='Fairly Active',\n",
    "    marker_color='mediumorchid'\n",
    "))\n",
    "fig.add_trace(go.Bar(\n",
    "    x=data[\"Day\"],\n",
    "    y=data[\"LightlyActiveMinutes\"],\n",
    "    name='Lightly Active',\n",
    "    marker_color='royalblue'\n",
    "))\n",
    "fig.update_layout(barmode='group')\n",
    "fig.show()\n",
    "\n",
    "colors = ['forestgreen','mediumseagreen', \"dodgerblue\", \"blue\"]"
   ]
  },
  {
   "cell_type": "markdown",
   "id": "1b99cfe6",
   "metadata": {},
   "source": [
    "Now let’s have a look at the number of inactive minutes on each day of the week:"
   ]
  },
  {
   "cell_type": "code",
   "execution_count": 220,
   "id": "191cf9b3",
   "metadata": {},
   "outputs": [
    {
     "data": {
      "application/vnd.plotly.v1+json": {
       "config": {
        "plotlyServerURL": "https://plot.ly"
       },
       "data": [
        {
         "hoverinfo": "label+percent",
         "labels": [
          "Tuesday",
          "Wednesday",
          "Thursday",
          "Friday",
          "Saturday",
          "Sunday",
          "Monday"
         ],
         "marker": {
          "colors": [
           "gold",
           "salmon",
           "pink",
           "tomato",
           "orange",
           "coral",
           "firebrick"
          ]
         },
         "textfont": {
          "size": 15
         },
         "textinfo": "value",
         "type": "pie",
         "values": {
          "bdata": "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",
          "dtype": "i2"
         }
        }
       ],
       "layout": {
        "template": {
         "data": {
          "bar": [
           {
            "error_x": {
             "color": "#2a3f5f"
            },
            "error_y": {
             "color": "#2a3f5f"
            },
            "marker": {
             "line": {
              "color": "#E5ECF6",
              "width": 0.5
             },
             "pattern": {
              "fillmode": "overlay",
              "size": 10,
              "solidity": 0.2
             }
            },
            "type": "bar"
           }
          ],
          "barpolar": [
           {
            "marker": {
             "line": {
              "color": "#E5ECF6",
              "width": 0.5
             },
             "pattern": {
              "fillmode": "overlay",
              "size": 10,
              "solidity": 0.2
             }
            },
            "type": "barpolar"
           }
          ],
          "carpet": [
           {
            "aaxis": {
             "endlinecolor": "#2a3f5f",
             "gridcolor": "white",
             "linecolor": "white",
             "minorgridcolor": "white",
             "startlinecolor": "#2a3f5f"
            },
            "baxis": {
             "endlinecolor": "#2a3f5f",
             "gridcolor": "white",
             "linecolor": "white",
             "minorgridcolor": "white",
             "startlinecolor": "#2a3f5f"
            },
            "type": "carpet"
           }
          ],
          "choropleth": [
           {
            "colorbar": {
             "outlinewidth": 0,
             "ticks": ""
            },
            "type": "choropleth"
           }
          ],
          "contour": [
           {
            "colorbar": {
             "outlinewidth": 0,
             "ticks": ""
            },
            "colorscale": [
             [
              0,
              "#0d0887"
             ],
             [
              0.1111111111111111,
              "#46039f"
             ],
             [
              0.2222222222222222,
              "#7201a8"
             ],
             [
              0.3333333333333333,
              "#9c179e"
             ],
             [
              0.4444444444444444,
              "#bd3786"
             ],
             [
              0.5555555555555556,
              "#d8576b"
             ],
             [
              0.6666666666666666,
              "#ed7953"
             ],
             [
              0.7777777777777778,
              "#fb9f3a"
             ],
             [
              0.8888888888888888,
              "#fdca26"
             ],
             [
              1,
              "#f0f921"
             ]
            ],
            "type": "contour"
           }
          ],
          "contourcarpet": [
           {
            "colorbar": {
             "outlinewidth": 0,
             "ticks": ""
            },
            "type": "contourcarpet"
           }
          ],
          "heatmap": [
           {
            "colorbar": {
             "outlinewidth": 0,
             "ticks": ""
            },
            "colorscale": [
             [
              0,
              "#0d0887"
             ],
             [
              0.1111111111111111,
              "#46039f"
             ],
             [
              0.2222222222222222,
              "#7201a8"
             ],
             [
              0.3333333333333333,
              "#9c179e"
             ],
             [
              0.4444444444444444,
              "#bd3786"
             ],
             [
              0.5555555555555556,
              "#d8576b"
             ],
             [
              0.6666666666666666,
              "#ed7953"
             ],
             [
              0.7777777777777778,
              "#fb9f3a"
             ],
             [
              0.8888888888888888,
              "#fdca26"
             ],
             [
              1,
              "#f0f921"
             ]
            ],
            "type": "heatmap"
           }
          ],
          "histogram": [
           {
            "marker": {
             "pattern": {
              "fillmode": "overlay",
              "size": 10,
              "solidity": 0.2
             }
            },
            "type": "histogram"
           }
          ],
          "histogram2d": [
           {
            "colorbar": {
             "outlinewidth": 0,
             "ticks": ""
            },
            "colorscale": [
             [
              0,
              "#0d0887"
             ],
             [
              0.1111111111111111,
              "#46039f"
             ],
             [
              0.2222222222222222,
              "#7201a8"
             ],
             [
              0.3333333333333333,
              "#9c179e"
             ],
             [
              0.4444444444444444,
              "#bd3786"
             ],
             [
              0.5555555555555556,
              "#d8576b"
             ],
             [
              0.6666666666666666,
              "#ed7953"
             ],
             [
              0.7777777777777778,
              "#fb9f3a"
             ],
             [
              0.8888888888888888,
              "#fdca26"
             ],
             [
              1,
              "#f0f921"
             ]
            ],
            "type": "histogram2d"
           }
          ],
          "histogram2dcontour": [
           {
            "colorbar": {
             "outlinewidth": 0,
             "ticks": ""
            },
            "colorscale": [
             [
              0,
              "#0d0887"
             ],
             [
              0.1111111111111111,
              "#46039f"
             ],
             [
              0.2222222222222222,
              "#7201a8"
             ],
             [
              0.3333333333333333,
              "#9c179e"
             ],
             [
              0.4444444444444444,
              "#bd3786"
             ],
             [
              0.5555555555555556,
              "#d8576b"
             ],
             [
              0.6666666666666666,
              "#ed7953"
             ],
             [
              0.7777777777777778,
              "#fb9f3a"
             ],
             [
              0.8888888888888888,
              "#fdca26"
             ],
             [
              1,
              "#f0f921"
             ]
            ],
            "type": "histogram2dcontour"
           }
          ],
          "mesh3d": [
           {
            "colorbar": {
             "outlinewidth": 0,
             "ticks": ""
            },
            "type": "mesh3d"
           }
          ],
          "parcoords": [
           {
            "line": {
             "colorbar": {
              "outlinewidth": 0,
              "ticks": ""
             }
            },
            "type": "parcoords"
           }
          ],
          "pie": [
           {
            "automargin": true,
            "type": "pie"
           }
          ],
          "scatter": [
           {
            "fillpattern": {
             "fillmode": "overlay",
             "size": 10,
             "solidity": 0.2
            },
            "type": "scatter"
           }
          ],
          "scatter3d": [
           {
            "line": {
             "colorbar": {
              "outlinewidth": 0,
              "ticks": ""
             }
            },
            "marker": {
             "colorbar": {
              "outlinewidth": 0,
              "ticks": ""
             }
            },
            "type": "scatter3d"
           }
          ],
          "scattercarpet": [
           {
            "marker": {
             "colorbar": {
              "outlinewidth": 0,
              "ticks": ""
             }
            },
            "type": "scattercarpet"
           }
          ],
          "scattergeo": [
           {
            "marker": {
             "colorbar": {
              "outlinewidth": 0,
              "ticks": ""
             }
            },
            "type": "scattergeo"
           }
          ],
          "scattergl": [
           {
            "marker": {
             "colorbar": {
              "outlinewidth": 0,
              "ticks": ""
             }
            },
            "type": "scattergl"
           }
          ],
          "scattermap": [
           {
            "marker": {
             "colorbar": {
              "outlinewidth": 0,
              "ticks": ""
             }
            },
            "type": "scattermap"
           }
          ],
          "scattermapbox": [
           {
            "marker": {
             "colorbar": {
              "outlinewidth": 0,
              "ticks": ""
             }
            },
            "type": "scattermapbox"
           }
          ],
          "scatterpolar": [
           {
            "marker": {
             "colorbar": {
              "outlinewidth": 0,
              "ticks": ""
             }
            },
            "type": "scatterpolar"
           }
          ],
          "scatterpolargl": [
           {
            "marker": {
             "colorbar": {
              "outlinewidth": 0,
              "ticks": ""
             }
            },
            "type": "scatterpolargl"
           }
          ],
          "scatterternary": [
           {
            "marker": {
             "colorbar": {
              "outlinewidth": 0,
              "ticks": ""
             }
            },
            "type": "scatterternary"
           }
          ],
          "surface": [
           {
            "colorbar": {
             "outlinewidth": 0,
             "ticks": ""
            },
            "colorscale": [
             [
              0,
              "#0d0887"
             ],
             [
              0.1111111111111111,
              "#46039f"
             ],
             [
              0.2222222222222222,
              "#7201a8"
             ],
             [
              0.3333333333333333,
              "#9c179e"
             ],
             [
              0.4444444444444444,
              "#bd3786"
             ],
             [
              0.5555555555555556,
              "#d8576b"
             ],
             [
              0.6666666666666666,
              "#ed7953"
             ],
             [
              0.7777777777777778,
              "#fb9f3a"
             ],
             [
              0.8888888888888888,
              "#fdca26"
             ],
             [
              1,
              "#f0f921"
             ]
            ],
            "type": "surface"
           }
          ],
          "table": [
           {
            "cells": {
             "fill": {
              "color": "#EBF0F8"
             },
             "line": {
              "color": "white"
             }
            },
            "header": {
             "fill": {
              "color": "#C8D4E3"
             },
             "line": {
              "color": "white"
             }
            },
            "type": "table"
           }
          ]
         },
         "layout": {
          "annotationdefaults": {
           "arrowcolor": "#2a3f5f",
           "arrowhead": 0,
           "arrowwidth": 1
          },
          "autotypenumbers": "strict",
          "coloraxis": {
           "colorbar": {
            "outlinewidth": 0,
            "ticks": ""
           }
          },
          "colorscale": {
           "diverging": [
            [
             0,
             "#8e0152"
            ],
            [
             0.1,
             "#c51b7d"
            ],
            [
             0.2,
             "#de77ae"
            ],
            [
             0.3,
             "#f1b6da"
            ],
            [
             0.4,
             "#fde0ef"
            ],
            [
             0.5,
             "#f7f7f7"
            ],
            [
             0.6,
             "#e6f5d0"
            ],
            [
             0.7,
             "#b8e186"
            ],
            [
             0.8,
             "#7fbc41"
            ],
            [
             0.9,
             "#4d9221"
            ],
            [
             1,
             "#276419"
            ]
           ],
           "sequential": [
            [
             0,
             "#0d0887"
            ],
            [
             0.1111111111111111,
             "#46039f"
            ],
            [
             0.2222222222222222,
             "#7201a8"
            ],
            [
             0.3333333333333333,
             "#9c179e"
            ],
            [
             0.4444444444444444,
             "#bd3786"
            ],
            [
             0.5555555555555556,
             "#d8576b"
            ],
            [
             0.6666666666666666,
             "#ed7953"
            ],
            [
             0.7777777777777778,
             "#fb9f3a"
            ],
            [
             0.8888888888888888,
             "#fdca26"
            ],
            [
             1,
             "#f0f921"
            ]
           ],
           "sequentialminus": [
            [
             0,
             "#0d0887"
            ],
            [
             0.1111111111111111,
             "#46039f"
            ],
            [
             0.2222222222222222,
             "#7201a8"
            ],
            [
             0.3333333333333333,
             "#9c179e"
            ],
            [
             0.4444444444444444,
             "#bd3786"
            ],
            [
             0.5555555555555556,
             "#d8576b"
            ],
            [
             0.6666666666666666,
             "#ed7953"
            ],
            [
             0.7777777777777778,
             "#fb9f3a"
            ],
            [
             0.8888888888888888,
             "#fdca26"
            ],
            [
             1,
             "#f0f921"
            ]
           ]
          },
          "colorway": [
           "#636efa",
           "#EF553B",
           "#00cc96",
           "#ab63fa",
           "#FFA15A",
           "#19d3f3",
           "#FF6692",
           "#B6E880",
           "#FF97FF",
           "#FECB52"
          ],
          "font": {
           "color": "#2a3f5f"
          },
          "geo": {
           "bgcolor": "white",
           "lakecolor": "white",
           "landcolor": "#E5ECF6",
           "showlakes": true,
           "showland": true,
           "subunitcolor": "white"
          },
          "hoverlabel": {
           "align": "left"
          },
          "hovermode": "closest",
          "mapbox": {
           "style": "light"
          },
          "paper_bgcolor": "white",
          "plot_bgcolor": "#E5ECF6",
          "polar": {
           "angularaxis": {
            "gridcolor": "white",
            "linecolor": "white",
            "ticks": ""
           },
           "bgcolor": "#E5ECF6",
           "radialaxis": {
            "gridcolor": "white",
            "linecolor": "white",
            "ticks": ""
           }
          },
          "scene": {
           "xaxis": {
            "backgroundcolor": "#E5ECF6",
            "gridcolor": "white",
            "gridwidth": 2,
            "linecolor": "white",
            "showbackground": true,
            "ticks": "",
            "zerolinecolor": "white"
           },
           "yaxis": {
            "backgroundcolor": "#E5ECF6",
            "gridcolor": "white",
            "gridwidth": 2,
            "linecolor": "white",
            "showbackground": true,
            "ticks": "",
            "zerolinecolor": "white"
           },
           "zaxis": {
            "backgroundcolor": "#E5ECF6",
            "gridcolor": "white",
            "gridwidth": 2,
            "linecolor": "white",
            "showbackground": true,
            "ticks": "",
            "zerolinecolor": "white"
           }
          },
          "shapedefaults": {
           "line": {
            "color": "#2a3f5f"
           }
          },
          "ternary": {
           "aaxis": {
            "gridcolor": "white",
            "linecolor": "white",
            "ticks": ""
           },
           "baxis": {
            "gridcolor": "white",
            "linecolor": "white",
            "ticks": ""
           },
           "bgcolor": "#E5ECF6",
           "caxis": {
            "gridcolor": "white",
            "linecolor": "white",
            "ticks": ""
           }
          },
          "title": {
           "x": 0.05
          },
          "xaxis": {
           "automargin": true,
           "gridcolor": "white",
           "linecolor": "white",
           "ticks": "",
           "title": {
            "standoff": 15
           },
           "zerolinecolor": "white",
           "zerolinewidth": 2
          },
          "yaxis": {
           "automargin": true,
           "gridcolor": "white",
           "linecolor": "white",
           "ticks": "",
           "title": {
            "standoff": 15
           },
           "zerolinecolor": "white",
           "zerolinewidth": 2
          }
         }
        },
        "title": {
         "text": "Inactive Minutes Daily"
        }
       }
      }
     },
     "metadata": {},
     "output_type": "display_data"
    }
   ],
   "source": [
    "day = data[\"Day\"].value_counts()\n",
    "label = day.index\n",
    "counts = data[\"SedentaryMinutes\"]\n",
    "colors = ['gold','salmon', \"pink\", \"tomato\", \"orange\", \"coral\", \"firebrick\"]\n",
    "\n",
    "\n",
    "fig = go.Figure(data=[go.Pie(labels=label, values=counts)])\n",
    "fig.update_layout(title_text='Inactive Minutes Daily')\n",
    "fig.update_traces(hoverinfo='label+percent', textinfo='value', textfont_size=15,\n",
    "                  marker=dict(colors=colors))\n",
    "fig.show()"
   ]
  },
  {
   "cell_type": "markdown",
   "id": "49252b5c",
   "metadata": {},
   "source": [
    "So Thursday is the most inactive day according to the lifestyle of all the individuals in the dataset. Now let’s have a look at the number of calories burned on each day of the week:"
   ]
  },
  {
   "cell_type": "code",
   "execution_count": 221,
   "id": "8944ee94",
   "metadata": {},
   "outputs": [
    {
     "data": {
      "application/vnd.plotly.v1+json": {
       "config": {
        "plotlyServerURL": "https://plot.ly"
       },
       "data": [
        {
         "hoverinfo": "label+percent",
         "labels": [
          "Tuesday",
          "Wednesday",
          "Thursday",
          "Friday",
          "Saturday",
          "Sunday",
          "Monday"
         ],
         "marker": {
          "colors": [
           "gold",
           "salmon",
           "pink",
           "tomato",
           "orange",
           "coral",
           "firebrick"
          ]
         },
         "textfont": {
          "size": 15
         },
         "textinfo": "value",
         "type": "pie",
         "values": {
          "bdata": "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",
          "dtype": "i2"
         }
        }
       ],
       "layout": {
        "template": {
         "data": {
          "bar": [
           {
            "error_x": {
             "color": "#2a3f5f"
            },
            "error_y": {
             "color": "#2a3f5f"
            },
            "marker": {
             "line": {
              "color": "#E5ECF6",
              "width": 0.5
             },
             "pattern": {
              "fillmode": "overlay",
              "size": 10,
              "solidity": 0.2
             }
            },
            "type": "bar"
           }
          ],
          "barpolar": [
           {
            "marker": {
             "line": {
              "color": "#E5ECF6",
              "width": 0.5
             },
             "pattern": {
              "fillmode": "overlay",
              "size": 10,
              "solidity": 0.2
             }
            },
            "type": "barpolar"
           }
          ],
          "carpet": [
           {
            "aaxis": {
             "endlinecolor": "#2a3f5f",
             "gridcolor": "white",
             "linecolor": "white",
             "minorgridcolor": "white",
             "startlinecolor": "#2a3f5f"
            },
            "baxis": {
             "endlinecolor": "#2a3f5f",
             "gridcolor": "white",
             "linecolor": "white",
             "minorgridcolor": "white",
             "startlinecolor": "#2a3f5f"
            },
            "type": "carpet"
           }
          ],
          "choropleth": [
           {
            "colorbar": {
             "outlinewidth": 0,
             "ticks": ""
            },
            "type": "choropleth"
           }
          ],
          "contour": [
           {
            "colorbar": {
             "outlinewidth": 0,
             "ticks": ""
            },
            "colorscale": [
             [
              0,
              "#0d0887"
             ],
             [
              0.1111111111111111,
              "#46039f"
             ],
             [
              0.2222222222222222,
              "#7201a8"
             ],
             [
              0.3333333333333333,
              "#9c179e"
             ],
             [
              0.4444444444444444,
              "#bd3786"
             ],
             [
              0.5555555555555556,
              "#d8576b"
             ],
             [
              0.6666666666666666,
              "#ed7953"
             ],
             [
              0.7777777777777778,
              "#fb9f3a"
             ],
             [
              0.8888888888888888,
              "#fdca26"
             ],
             [
              1,
              "#f0f921"
             ]
            ],
            "type": "contour"
           }
          ],
          "contourcarpet": [
           {
            "colorbar": {
             "outlinewidth": 0,
             "ticks": ""
            },
            "type": "contourcarpet"
           }
          ],
          "heatmap": [
           {
            "colorbar": {
             "outlinewidth": 0,
             "ticks": ""
            },
            "colorscale": [
             [
              0,
              "#0d0887"
             ],
             [
              0.1111111111111111,
              "#46039f"
             ],
             [
              0.2222222222222222,
              "#7201a8"
             ],
             [
              0.3333333333333333,
              "#9c179e"
             ],
             [
              0.4444444444444444,
              "#bd3786"
             ],
             [
              0.5555555555555556,
              "#d8576b"
             ],
             [
              0.6666666666666666,
              "#ed7953"
             ],
             [
              0.7777777777777778,
              "#fb9f3a"
             ],
             [
              0.8888888888888888,
              "#fdca26"
             ],
             [
              1,
              "#f0f921"
             ]
            ],
            "type": "heatmap"
           }
          ],
          "histogram": [
           {
            "marker": {
             "pattern": {
              "fillmode": "overlay",
              "size": 10,
              "solidity": 0.2
             }
            },
            "type": "histogram"
           }
          ],
          "histogram2d": [
           {
            "colorbar": {
             "outlinewidth": 0,
             "ticks": ""
            },
            "colorscale": [
             [
              0,
              "#0d0887"
             ],
             [
              0.1111111111111111,
              "#46039f"
             ],
             [
              0.2222222222222222,
              "#7201a8"
             ],
             [
              0.3333333333333333,
              "#9c179e"
             ],
             [
              0.4444444444444444,
              "#bd3786"
             ],
             [
              0.5555555555555556,
              "#d8576b"
             ],
             [
              0.6666666666666666,
              "#ed7953"
             ],
             [
              0.7777777777777778,
              "#fb9f3a"
             ],
             [
              0.8888888888888888,
              "#fdca26"
             ],
             [
              1,
              "#f0f921"
             ]
            ],
            "type": "histogram2d"
           }
          ],
          "histogram2dcontour": [
           {
            "colorbar": {
             "outlinewidth": 0,
             "ticks": ""
            },
            "colorscale": [
             [
              0,
              "#0d0887"
             ],
             [
              0.1111111111111111,
              "#46039f"
             ],
             [
              0.2222222222222222,
              "#7201a8"
             ],
             [
              0.3333333333333333,
              "#9c179e"
             ],
             [
              0.4444444444444444,
              "#bd3786"
             ],
             [
              0.5555555555555556,
              "#d8576b"
             ],
             [
              0.6666666666666666,
              "#ed7953"
             ],
             [
              0.7777777777777778,
              "#fb9f3a"
             ],
             [
              0.8888888888888888,
              "#fdca26"
             ],
             [
              1,
              "#f0f921"
             ]
            ],
            "type": "histogram2dcontour"
           }
          ],
          "mesh3d": [
           {
            "colorbar": {
             "outlinewidth": 0,
             "ticks": ""
            },
            "type": "mesh3d"
           }
          ],
          "parcoords": [
           {
            "line": {
             "colorbar": {
              "outlinewidth": 0,
              "ticks": ""
             }
            },
            "type": "parcoords"
           }
          ],
          "pie": [
           {
            "automargin": true,
            "type": "pie"
           }
          ],
          "scatter": [
           {
            "fillpattern": {
             "fillmode": "overlay",
             "size": 10,
             "solidity": 0.2
            },
            "type": "scatter"
           }
          ],
          "scatter3d": [
           {
            "line": {
             "colorbar": {
              "outlinewidth": 0,
              "ticks": ""
             }
            },
            "marker": {
             "colorbar": {
              "outlinewidth": 0,
              "ticks": ""
             }
            },
            "type": "scatter3d"
           }
          ],
          "scattercarpet": [
           {
            "marker": {
             "colorbar": {
              "outlinewidth": 0,
              "ticks": ""
             }
            },
            "type": "scattercarpet"
           }
          ],
          "scattergeo": [
           {
            "marker": {
             "colorbar": {
              "outlinewidth": 0,
              "ticks": ""
             }
            },
            "type": "scattergeo"
           }
          ],
          "scattergl": [
           {
            "marker": {
             "colorbar": {
              "outlinewidth": 0,
              "ticks": ""
             }
            },
            "type": "scattergl"
           }
          ],
          "scattermap": [
           {
            "marker": {
             "colorbar": {
              "outlinewidth": 0,
              "ticks": ""
             }
            },
            "type": "scattermap"
           }
          ],
          "scattermapbox": [
           {
            "marker": {
             "colorbar": {
              "outlinewidth": 0,
              "ticks": ""
             }
            },
            "type": "scattermapbox"
           }
          ],
          "scatterpolar": [
           {
            "marker": {
             "colorbar": {
              "outlinewidth": 0,
              "ticks": ""
             }
            },
            "type": "scatterpolar"
           }
          ],
          "scatterpolargl": [
           {
            "marker": {
             "colorbar": {
              "outlinewidth": 0,
              "ticks": ""
             }
            },
            "type": "scatterpolargl"
           }
          ],
          "scatterternary": [
           {
            "marker": {
             "colorbar": {
              "outlinewidth": 0,
              "ticks": ""
             }
            },
            "type": "scatterternary"
           }
          ],
          "surface": [
           {
            "colorbar": {
             "outlinewidth": 0,
             "ticks": ""
            },
            "colorscale": [
             [
              0,
              "#0d0887"
             ],
             [
              0.1111111111111111,
              "#46039f"
             ],
             [
              0.2222222222222222,
              "#7201a8"
             ],
             [
              0.3333333333333333,
              "#9c179e"
             ],
             [
              0.4444444444444444,
              "#bd3786"
             ],
             [
              0.5555555555555556,
              "#d8576b"
             ],
             [
              0.6666666666666666,
              "#ed7953"
             ],
             [
              0.7777777777777778,
              "#fb9f3a"
             ],
             [
              0.8888888888888888,
              "#fdca26"
             ],
             [
              1,
              "#f0f921"
             ]
            ],
            "type": "surface"
           }
          ],
          "table": [
           {
            "cells": {
             "fill": {
              "color": "#EBF0F8"
             },
             "line": {
              "color": "white"
             }
            },
            "header": {
             "fill": {
              "color": "#C8D4E3"
             },
             "line": {
              "color": "white"
             }
            },
            "type": "table"
           }
          ]
         },
         "layout": {
          "annotationdefaults": {
           "arrowcolor": "#2a3f5f",
           "arrowhead": 0,
           "arrowwidth": 1
          },
          "autotypenumbers": "strict",
          "coloraxis": {
           "colorbar": {
            "outlinewidth": 0,
            "ticks": ""
           }
          },
          "colorscale": {
           "diverging": [
            [
             0,
             "#8e0152"
            ],
            [
             0.1,
             "#c51b7d"
            ],
            [
             0.2,
             "#de77ae"
            ],
            [
             0.3,
             "#f1b6da"
            ],
            [
             0.4,
             "#fde0ef"
            ],
            [
             0.5,
             "#f7f7f7"
            ],
            [
             0.6,
             "#e6f5d0"
            ],
            [
             0.7,
             "#b8e186"
            ],
            [
             0.8,
             "#7fbc41"
            ],
            [
             0.9,
             "#4d9221"
            ],
            [
             1,
             "#276419"
            ]
           ],
           "sequential": [
            [
             0,
             "#0d0887"
            ],
            [
             0.1111111111111111,
             "#46039f"
            ],
            [
             0.2222222222222222,
             "#7201a8"
            ],
            [
             0.3333333333333333,
             "#9c179e"
            ],
            [
             0.4444444444444444,
             "#bd3786"
            ],
            [
             0.5555555555555556,
             "#d8576b"
            ],
            [
             0.6666666666666666,
             "#ed7953"
            ],
            [
             0.7777777777777778,
             "#fb9f3a"
            ],
            [
             0.8888888888888888,
             "#fdca26"
            ],
            [
             1,
             "#f0f921"
            ]
           ],
           "sequentialminus": [
            [
             0,
             "#0d0887"
            ],
            [
             0.1111111111111111,
             "#46039f"
            ],
            [
             0.2222222222222222,
             "#7201a8"
            ],
            [
             0.3333333333333333,
             "#9c179e"
            ],
            [
             0.4444444444444444,
             "#bd3786"
            ],
            [
             0.5555555555555556,
             "#d8576b"
            ],
            [
             0.6666666666666666,
             "#ed7953"
            ],
            [
             0.7777777777777778,
             "#fb9f3a"
            ],
            [
             0.8888888888888888,
             "#fdca26"
            ],
            [
             1,
             "#f0f921"
            ]
           ]
          },
          "colorway": [
           "#636efa",
           "#EF553B",
           "#00cc96",
           "#ab63fa",
           "#FFA15A",
           "#19d3f3",
           "#FF6692",
           "#B6E880",
           "#FF97FF",
           "#FECB52"
          ],
          "font": {
           "color": "#2a3f5f"
          },
          "geo": {
           "bgcolor": "white",
           "lakecolor": "white",
           "landcolor": "#E5ECF6",
           "showlakes": true,
           "showland": true,
           "subunitcolor": "white"
          },
          "hoverlabel": {
           "align": "left"
          },
          "hovermode": "closest",
          "mapbox": {
           "style": "light"
          },
          "paper_bgcolor": "white",
          "plot_bgcolor": "#E5ECF6",
          "polar": {
           "angularaxis": {
            "gridcolor": "white",
            "linecolor": "white",
            "ticks": ""
           },
           "bgcolor": "#E5ECF6",
           "radialaxis": {
            "gridcolor": "white",
            "linecolor": "white",
            "ticks": ""
           }
          },
          "scene": {
           "xaxis": {
            "backgroundcolor": "#E5ECF6",
            "gridcolor": "white",
            "gridwidth": 2,
            "linecolor": "white",
            "showbackground": true,
            "ticks": "",
            "zerolinecolor": "white"
           },
           "yaxis": {
            "backgroundcolor": "#E5ECF6",
            "gridcolor": "white",
            "gridwidth": 2,
            "linecolor": "white",
            "showbackground": true,
            "ticks": "",
            "zerolinecolor": "white"
           },
           "zaxis": {
            "backgroundcolor": "#E5ECF6",
            "gridcolor": "white",
            "gridwidth": 2,
            "linecolor": "white",
            "showbackground": true,
            "ticks": "",
            "zerolinecolor": "white"
           }
          },
          "shapedefaults": {
           "line": {
            "color": "#2a3f5f"
           }
          },
          "ternary": {
           "aaxis": {
            "gridcolor": "white",
            "linecolor": "white",
            "ticks": ""
           },
           "baxis": {
            "gridcolor": "white",
            "linecolor": "white",
            "ticks": ""
           },
           "bgcolor": "#E5ECF6",
           "caxis": {
            "gridcolor": "white",
            "linecolor": "white",
            "ticks": ""
           }
          },
          "title": {
           "x": 0.05
          },
          "xaxis": {
           "automargin": true,
           "gridcolor": "white",
           "linecolor": "white",
           "ticks": "",
           "title": {
            "standoff": 15
           },
           "zerolinecolor": "white",
           "zerolinewidth": 2
          },
          "yaxis": {
           "automargin": true,
           "gridcolor": "white",
           "linecolor": "white",
           "ticks": "",
           "title": {
            "standoff": 15
           },
           "zerolinecolor": "white",
           "zerolinewidth": 2
          }
         }
        },
        "title": {
         "text": "Calories Burned Daily"
        }
       }
      }
     },
     "metadata": {},
     "output_type": "display_data"
    }
   ],
   "source": [
    "calories = data[\"Day\"].value_counts()\n",
    "label = calories.index\n",
    "counts = data[\"Calories\"]\n",
    "\n",
    "fig = go.Figure(data=[go.Pie(labels=label, values=counts)])\n",
    "fig.update_layout(title_text='Calories Burned Daily')\n",
    "fig.update_traces(hoverinfo='label+percent', textinfo='value', textfont_size=15,\n",
    "                  marker=dict(colors=colors))\n",
    "fig.show()"
   ]
  },
  {
   "cell_type": "markdown",
   "id": "73a09434",
   "metadata": {},
   "source": [
    "Tuesday is, therefore, one of the most active days for all individuals in the dataset, as the highest number of calories were burned on Tuesdays."
   ]
  },
  {
   "cell_type": "markdown",
   "id": "187f9a9e",
   "metadata": {},
   "source": [
    "Now, let's analyze the correlations between distances and minutes of activity:"
   ]
  },
  {
   "cell_type": "code",
   "execution_count": 222,
   "id": "869febfc",
   "metadata": {},
   "outputs": [
    {
     "name": "stdout",
     "output_type": "stream",
     "text": [
      "                          VeryActiveMinutes  FairlyActiveMinutes  \\\n",
      "TotalDistance                      0.681297             0.462899   \n",
      "VeryActiveDistance                 0.826681             0.211730   \n",
      "ModeratelyActiveDistance           0.225464             0.946934   \n",
      "LightActiveDistance                0.154966             0.220129   \n",
      "\n",
      "                          LightlyActiveMinutes  SedentaryMinutes  \n",
      "TotalDistance                         0.516300         -0.288094  \n",
      "VeryActiveDistance                    0.059845         -0.061754  \n",
      "ModeratelyActiveDistance              0.162092         -0.221436  \n",
      "LightActiveDistance                   0.885697         -0.413552  \n"
     ]
    },
    {
     "data": {
      "image/png": "[encoded data removed]",
      "text/plain": [
       "<Figure size 800x600 with 2 Axes>"
      ]
     },
     "metadata": {},
     "output_type": "display_data"
    }
   ],
   "source": [
    "import seaborn as sns\n",
    "\n",
    "distance_cols = ['TotalDistance', 'VeryActiveDistance', 'ModeratelyActiveDistance', 'LightActiveDistance']\n",
    "minutes_cols = ['VeryActiveMinutes', 'FairlyActiveMinutes', 'LightlyActiveMinutes', 'SedentaryMinutes']\n",
    "\n",
    "correlation_matrix = data[distance_cols + minutes_cols].corr()\n",
    "\n",
    "print(correlation_matrix.loc[distance_cols, minutes_cols])\n",
    "\n",
    "import matplotlib.pyplot as plt\n",
    "\n",
    "plt.figure(figsize=(8,6))\n",
    "sns.heatmap(correlation_matrix.loc[distance_cols, minutes_cols], annot=True, cmap='coolwarm', fmt=\".2f\")\n",
    "plt.title(\"Correlation between distances and active minutes\")\n",
    "plt.show()\n"
   ]
  },
  {
   "cell_type": "markdown",
   "id": "99e48a26",
   "metadata": {},
   "source": [
    "Correlation Analysis: Distances vs Active Minutes\n",
    "\n",
    "As expected, there are strong and logically consistent correlations between the types of distances and their corresponding activity durations:\n",
    "\n",
    "    VeryActiveDistance ↔ VeryActiveMinutes\n",
    "\n",
    "    ModeratelyActiveDistance ↔ FairlyActiveMinutes\n",
    "\n",
    "    LightActiveDistance ↔ LightlyActiveMinutes\n",
    "\n",
    "These results confirm that the more distance covered at a certain intensity level, the more time is spent in that level of activity — which aligns well with intuition and validates the consistency of the data.\n",
    "\n",
    "In addition, there is a moderately strong but still meaningful correlation between:\n",
    "\n",
    "    TotalDistance ↔ VeryActiveMinutes\n",
    "\n",
    "This suggests that very active minutes contribute significantly to the total distance covered throughout the day.\n",
    "\n",
    "Some other correlations are weaker yet still noticeable, such as:\n",
    "\n",
    "    TotalDistance ↔ FairlyActiveMinutes\n",
    "\n",
    "    TotalDistance ↔ LightlyActiveMinutes\n",
    "\n",
    "Finally, we observe negative correlations between all types of active distances and SedentaryMinutes, especially with LightActiveDistance. This indicates that more physical activity — even light — generally corresponds to less time spent being sedentary."
   ]
  },
  {
   "cell_type": "markdown",
   "id": "660919d7",
   "metadata": {},
   "source": [
    "Now I will do a k means on users based on their activity:"
   ]
  },
  {
   "cell_type": "code",
   "execution_count": 223,
   "id": "8f6a2a2e",
   "metadata": {},
   "outputs": [
    {
     "data": {
      "text/html": [
       "<div>\n",
       "<style scoped>\n",
       "    .dataframe tbody tr th:only-of-type {\n",
       "        vertical-align: middle;\n",
       "    }\n",
       "\n",
       "    .dataframe tbody tr th {\n",
       "        vertical-align: top;\n",
       "    }\n",
       "\n",
       "    .dataframe thead th {\n",
       "        text-align: right;\n",
       "    }\n",
       "</style>\n",
       "<table border=\"1\" class=\"dataframe\">\n",
       "  <thead>\n",
       "    <tr style=\"text-align: right;\">\n",
       "      <th></th>\n",
       "      <th>Id</th>\n",
       "      <th>TotalDistance</th>\n",
       "      <th>VeryActiveDistance</th>\n",
       "      <th>ModeratelyActiveDistance</th>\n",
       "      <th>LightActiveDistance</th>\n",
       "      <th>VeryActiveMinutes</th>\n",
       "      <th>FairlyActiveMinutes</th>\n",
       "      <th>LightlyActiveMinutes</th>\n",
       "      <th>Calories</th>\n",
       "    </tr>\n",
       "    <tr>\n",
       "      <th>Cluster</th>\n",
       "      <th></th>\n",
       "      <th></th>\n",
       "      <th></th>\n",
       "      <th></th>\n",
       "      <th></th>\n",
       "      <th></th>\n",
       "      <th></th>\n",
       "      <th></th>\n",
       "      <th></th>\n",
       "    </tr>\n",
       "  </thead>\n",
       "  <tbody>\n",
       "    <tr>\n",
       "      <th>0</th>\n",
       "      <td>5.095878e+09</td>\n",
       "      <td>2.070951</td>\n",
       "      <td>0.463889</td>\n",
       "      <td>0.201899</td>\n",
       "      <td>1.388590</td>\n",
       "      <td>5.698142</td>\n",
       "      <td>6.011046</td>\n",
       "      <td>83.258490</td>\n",
       "      <td>1998.275193</td>\n",
       "    </tr>\n",
       "    <tr>\n",
       "      <th>1</th>\n",
       "      <td>4.937098e+09</td>\n",
       "      <td>6.933982</td>\n",
       "      <td>1.849942</td>\n",
       "      <td>1.012872</td>\n",
       "      <td>3.946056</td>\n",
       "      <td>30.566978</td>\n",
       "      <td>23.885943</td>\n",
       "      <td>204.819654</td>\n",
       "      <td>2567.296223</td>\n",
       "    </tr>\n",
       "    <tr>\n",
       "      <th>2</th>\n",
       "      <td>3.954822e+09</td>\n",
       "      <td>4.439907</td>\n",
       "      <td>0.489678</td>\n",
       "      <td>0.276368</td>\n",
       "      <td>3.612220</td>\n",
       "      <td>7.427805</td>\n",
       "      <td>5.952473</td>\n",
       "      <td>244.460023</td>\n",
       "      <td>1962.890821</td>\n",
       "    </tr>\n",
       "    <tr>\n",
       "      <th>3</th>\n",
       "      <td>8.465582e+09</td>\n",
       "      <td>12.344032</td>\n",
       "      <td>7.576129</td>\n",
       "      <td>0.380806</td>\n",
       "      <td>4.361290</td>\n",
       "      <td>75.612903</td>\n",
       "      <td>9.758065</td>\n",
       "      <td>192.838710</td>\n",
       "      <td>3183.032258</td>\n",
       "    </tr>\n",
       "  </tbody>\n",
       "</table>\n",
       "</div>"
      ],
      "text/plain": [
       "                   Id  TotalDistance  VeryActiveDistance  \\\n",
       "Cluster                                                    \n",
       "0        5.095878e+09       2.070951            0.463889   \n",
       "1        4.937098e+09       6.933982            1.849942   \n",
       "2        3.954822e+09       4.439907            0.489678   \n",
       "3        8.465582e+09      12.344032            7.576129   \n",
       "\n",
       "         ModeratelyActiveDistance  LightActiveDistance  VeryActiveMinutes  \\\n",
       "Cluster                                                                     \n",
       "0                        0.201899             1.388590           5.698142   \n",
       "1                        1.012872             3.946056          30.566978   \n",
       "2                        0.276368             3.612220           7.427805   \n",
       "3                        0.380806             4.361290          75.612903   \n",
       "\n",
       "         FairlyActiveMinutes  LightlyActiveMinutes     Calories  \n",
       "Cluster                                                          \n",
       "0                   6.011046             83.258490  1998.275193  \n",
       "1                  23.885943            204.819654  2567.296223  \n",
       "2                   5.952473            244.460023  1962.890821  \n",
       "3                   9.758065            192.838710  3183.032258  "
      ]
     },
     "execution_count": 223,
     "metadata": {},
     "output_type": "execute_result"
    }
   ],
   "source": [
    "from sklearn.preprocessing import StandardScaler\n",
    "from sklearn.cluster import KMeans\n",
    "\n",
    "user_features = data.groupby(\"Id\")[[\n",
    "    \"TotalDistance\",\n",
    "    \"VeryActiveDistance\",\n",
    "    \"ModeratelyActiveDistance\",\n",
    "    \"LightActiveDistance\",\n",
    "    \"VeryActiveMinutes\",\n",
    "    \"FairlyActiveMinutes\",\n",
    "    \"LightlyActiveMinutes\",\n",
    "    \"Calories\"\n",
    "]].mean().reset_index()\n",
    "\n",
    "\n",
    "scaler = StandardScaler()\n",
    "X_scaled = scaler.fit_transform(user_features.drop(\"Id\", axis=1))\n",
    "\n",
    "\n",
    "kmeans = KMeans(n_clusters=4, random_state=42)\n",
    "user_features['Cluster'] = kmeans.fit_predict(X_scaled)\n",
    "\n",
    "user_features.groupby('Cluster').mean()"
   ]
  },
  {
   "cell_type": "markdown",
   "id": "c1aeeb4b",
   "metadata": {},
   "source": [
    "Interpretation:\n",
    "\n",
    "    Cluster 3:\n",
    "\n",
    "        Highest average total distance (12.34 km)\n",
    "        Highest very active distance (7.58 km)\n",
    "        Highest very active minutes (75.6 minutes)\n",
    "        Highest calories burned (3183 kcal)\n",
    "        → This cluster clearly represents the most active users.\n",
    "\n",
    "    Cluster 1:\n",
    "\n",
    "        Relatively high total distance (6.93 km)\n",
    "        Moderate to high very active minutes (30.57 minutes)\n",
    "        High calories burned (2567 kcal)\n",
    "        → Represents users with moderate to high activity levels.\n",
    "\n",
    "    Cluster 2:\n",
    "\n",
    "        Moderate total distance (4.44 km) but lower very active distance and minutes\n",
    "        High lightly active minutes (244.46 minutes)\n",
    "        → Users with mostly light to moderate activity.\n",
    "\n",
    "    Cluster 0:\n",
    "\n",
    "        Lowest distances and very active minutes\n",
    "        Lowest calories burned (1998 kcal)\n",
    "        → Represents the least active or mostly sedentary users."
   ]
  },
  {
   "cell_type": "markdown",
   "id": "ce0ac936",
   "metadata": {},
   "source": [
    "Let's see clusters:"
   ]
  },
  {
   "cell_type": "code",
   "execution_count": 224,
   "id": "e6a49ee1",
   "metadata": {},
   "outputs": [
    {
     "data": {
      "application/vnd.plotly.v1+json": {
       "config": {
        "plotlyServerURL": "https://plot.ly"
       },
       "data": [
        {
         "hovertemplate": "<b>%{hovertext}</b><br><br>Cluster=Moderately Active<br>PCA 1=%{x}<br>PCA 2=%{y}<extra></extra>",
         "hovertext": [
          "1503960366",
          "1644430081",
          "2022484408",
          "2347167796",
          "3977333714",
          "4388161847",
          "4702921684",
          "5577150313",
          "6962181067",
          "7007744171",
          "7086361926",
          "8378563200",
          "8583815059"
         ],
         "legendgroup": "Moderately Active",
         "marker": {
          "color": "#636efa",
          "symbol": "circle"
         },
         "mode": "markers",
         "name": "Moderately Active",
         "orientation": "v",
         "showlegend": true,
         "type": "scatter",
         "x": {
          "bdata": "s27P86+O9T94lPBhkfnYP/fdddch6/4/siQ3iPxZ5T9mhngMNWQBQJLPZ/NC3QBAWF1GTuj69z9FKfrbpXkDQNQma3eNx+g/+bgIvTss/T/9wS6+ofTyPw2FDVfr9vw/CQuJtFiPvj8=",
          "dtype": "f8"
         },
         "xaxis": "x",
         "y": {
          "bdata": "kQ4wU7qn2T+YxhL8KuraP9x6ToSRdeM/3aVZ+W4K+D/veShpbioEQJZNRET+7uY/0nne3QVI+z/yJF/PJTQCwC9S/ajeufA/L+vqv+K/6D+hT8Byoqztv7W6JA5Fcfq/iLBfFXSxs78=",
          "dtype": "f8"
         },
         "yaxis": "y"
        },
        {
         "hovertemplate": "<b>%{hovertext}</b><br><br>Cluster=Lightly Active<br>PCA 1=%{x}<br>PCA 2=%{y}<extra></extra>",
         "hovertext": [
          "1624580081",
          "2026352035",
          "2320127002",
          "2873212765",
          "3372868164",
          "4319703577",
          "4445114986",
          "4558609924",
          "5553957443",
          "6117666160",
          "6290855005"
         ],
         "legendgroup": "Lightly Active",
         "marker": {
          "color": "#EF553B",
          "symbol": "circle"
         },
         "mode": "markers",
         "name": "Lightly Active",
         "orientation": "v",
         "showlegend": true,
         "type": "scatter",
         "x": {
          "bdata": "szMtwGbv+b9c0sxX0ML9v5zksE43zP6/6///aqZ11r+Fidi28Rzkv/pix4Se+uO/b7eXfTK6+L+rirsGodi9v2EcZipbSk2/jAHttCin4L931hTm+Zfpvw==",
          "dtype": "f8"
         },
         "xaxis": "x",
         "y": {
          "bdata": "ymcirBNcir8VlSKSqGnuP6XVxLedI9Y/gCL3V8jH8z9gpebkWl70PySAYLCXC/A/UZezPBbgwb8iQ7IuBmD2P+OEav3npNk/XXUWiVzt8z8XB2IltN7aPw==",
          "dtype": "f8"
         },
         "yaxis": "y"
        },
        {
         "hovertemplate": "<b>%{hovertext}</b><br><br>Cluster=Sedentary<br>PCA 1=%{x}<br>PCA 2=%{y}<extra></extra>",
         "hovertext": [
          "1844505072",
          "1927972279",
          "4020332650",
          "4057192912",
          "6775888955",
          "8253242879",
          "8792009665"
         ],
         "legendgroup": "Sedentary",
         "marker": {
          "color": "#00cc96",
          "symbol": "circle"
         },
         "mode": "markers",
         "name": "Sedentary",
         "orientation": "v",
         "showlegend": true,
         "type": "scatter",
         "x": {
          "bdata": "suM0+gyCB8Cdma/W9gUKwPy2wY1EOAPA8W1jp9zYAcCMuMCWEWgBwLWF1NzX2Oe/HLIahHJNB8A=",
          "dtype": "f8"
         },
         "xaxis": "x",
         "y": {
          "bdata": "QKhMD1Pm4r+qGV1Vojf+v1RdI8yRk/a/CvDUHCKj4r/feRfaj2v5v6dnHoj2Nem/II87RIu58b8=",
          "dtype": "f8"
         },
         "yaxis": "y"
        },
        {
         "hovertemplate": "<b>%{hovertext}</b><br><br>Cluster=Very Active<br>PCA 1=%{x}<br>PCA 2=%{y}<extra></extra>",
         "hovertext": [
          "8053475328",
          "8877689391"
         ],
         "legendgroup": "Very Active",
         "marker": {
          "color": "#ab63fa",
          "symbol": "circle"
         },
         "mode": "markers",
         "name": "Very Active",
         "orientation": "v",
         "showlegend": true,
         "type": "scatter",
         "x": {
          "bdata": "Nw2hshS8DUD+0X6iU64SQA==",
          "dtype": "f8"
         },
         "xaxis": "x",
         "y": {
          "bdata": "HZWftHwlDMDtDpi18H72vw==",
          "dtype": "f8"
         },
         "yaxis": "y"
        }
       ],
       "layout": {
        "height": 600,
        "legend": {
         "title": {
          "text": "Cluster"
         },
         "tracegroupgap": 0
        },
        "margin": {
         "t": 60
        },
        "plot_bgcolor": "white",
        "shapes": [
         {
          "line": {
           "color": "lightgrey",
           "width": 1
          },
          "type": "line",
          "x0": 0,
          "x1": 0,
          "y0": -3.5183042632294375,
          "y1": 2.5207184043385875
         },
         {
          "line": {
           "color": "lightgrey",
           "width": 1
          },
          "type": "line",
          "x0": -3.2529122135485538,
          "x1": 4.670240916243072,
          "y0": 0,
          "y1": 0
         }
        ],
        "template": {
         "data": {
          "bar": [
           {
            "error_x": {
             "color": "#2a3f5f"
            },
            "error_y": {
             "color": "#2a3f5f"
            },
            "marker": {
             "line": {
              "color": "#E5ECF6",
              "width": 0.5
             },
             "pattern": {
              "fillmode": "overlay",
              "size": 10,
              "solidity": 0.2
             }
            },
            "type": "bar"
           }
          ],
          "barpolar": [
           {
            "marker": {
             "line": {
              "color": "#E5ECF6",
              "width": 0.5
             },
             "pattern": {
              "fillmode": "overlay",
              "size": 10,
              "solidity": 0.2
             }
            },
            "type": "barpolar"
           }
          ],
          "carpet": [
           {
            "aaxis": {
             "endlinecolor": "#2a3f5f",
             "gridcolor": "white",
             "linecolor": "white",
             "minorgridcolor": "white",
             "startlinecolor": "#2a3f5f"
            },
            "baxis": {
             "endlinecolor": "#2a3f5f",
             "gridcolor": "white",
             "linecolor": "white",
             "minorgridcolor": "white",
             "startlinecolor": "#2a3f5f"
            },
            "type": "carpet"
           }
          ],
          "choropleth": [
           {
            "colorbar": {
             "outlinewidth": 0,
             "ticks": ""
            },
            "type": "choropleth"
           }
          ],
          "contour": [
           {
            "colorbar": {
             "outlinewidth": 0,
             "ticks": ""
            },
            "colorscale": [
             [
              0,
              "#0d0887"
             ],
             [
              0.1111111111111111,
              "#46039f"
             ],
             [
              0.2222222222222222,
              "#7201a8"
             ],
             [
              0.3333333333333333,
              "#9c179e"
             ],
             [
              0.4444444444444444,
              "#bd3786"
             ],
             [
              0.5555555555555556,
              "#d8576b"
             ],
             [
              0.6666666666666666,
              "#ed7953"
             ],
             [
              0.7777777777777778,
              "#fb9f3a"
             ],
             [
              0.8888888888888888,
              "#fdca26"
             ],
             [
              1,
              "#f0f921"
             ]
            ],
            "type": "contour"
           }
          ],
          "contourcarpet": [
           {
            "colorbar": {
             "outlinewidth": 0,
             "ticks": ""
            },
            "type": "contourcarpet"
           }
          ],
          "heatmap": [
           {
            "colorbar": {
             "outlinewidth": 0,
             "ticks": ""
            },
            "colorscale": [
             [
              0,
              "#0d0887"
             ],
             [
              0.1111111111111111,
              "#46039f"
             ],
             [
              0.2222222222222222,
              "#7201a8"
             ],
             [
              0.3333333333333333,
              "#9c179e"
             ],
             [
              0.4444444444444444,
              "#bd3786"
             ],
             [
              0.5555555555555556,
              "#d8576b"
             ],
             [
              0.6666666666666666,
              "#ed7953"
             ],
             [
              0.7777777777777778,
              "#fb9f3a"
             ],
             [
              0.8888888888888888,
              "#fdca26"
             ],
             [
              1,
              "#f0f921"
             ]
            ],
            "type": "heatmap"
           }
          ],
          "histogram": [
           {
            "marker": {
             "pattern": {
              "fillmode": "overlay",
              "size": 10,
              "solidity": 0.2
             }
            },
            "type": "histogram"
           }
          ],
          "histogram2d": [
           {
            "colorbar": {
             "outlinewidth": 0,
             "ticks": ""
            },
            "colorscale": [
             [
              0,
              "#0d0887"
             ],
             [
              0.1111111111111111,
              "#46039f"
             ],
             [
              0.2222222222222222,
              "#7201a8"
             ],
             [
              0.3333333333333333,
              "#9c179e"
             ],
             [
              0.4444444444444444,
              "#bd3786"
             ],
             [
              0.5555555555555556,
              "#d8576b"
             ],
             [
              0.6666666666666666,
              "#ed7953"
             ],
             [
              0.7777777777777778,
              "#fb9f3a"
             ],
             [
              0.8888888888888888,
              "#fdca26"
             ],
             [
              1,
              "#f0f921"
             ]
            ],
            "type": "histogram2d"
           }
          ],
          "histogram2dcontour": [
           {
            "colorbar": {
             "outlinewidth": 0,
             "ticks": ""
            },
            "colorscale": [
             [
              0,
              "#0d0887"
             ],
             [
              0.1111111111111111,
              "#46039f"
             ],
             [
              0.2222222222222222,
              "#7201a8"
             ],
             [
              0.3333333333333333,
              "#9c179e"
             ],
             [
              0.4444444444444444,
              "#bd3786"
             ],
             [
              0.5555555555555556,
              "#d8576b"
             ],
             [
              0.6666666666666666,
              "#ed7953"
             ],
             [
              0.7777777777777778,
              "#fb9f3a"
             ],
             [
              0.8888888888888888,
              "#fdca26"
             ],
             [
              1,
              "#f0f921"
             ]
            ],
            "type": "histogram2dcontour"
           }
          ],
          "mesh3d": [
           {
            "colorbar": {
             "outlinewidth": 0,
             "ticks": ""
            },
            "type": "mesh3d"
           }
          ],
          "parcoords": [
           {
            "line": {
             "colorbar": {
              "outlinewidth": 0,
              "ticks": ""
             }
            },
            "type": "parcoords"
           }
          ],
          "pie": [
           {
            "automargin": true,
            "type": "pie"
           }
          ],
          "scatter": [
           {
            "fillpattern": {
             "fillmode": "overlay",
             "size": 10,
             "solidity": 0.2
            },
            "type": "scatter"
           }
          ],
          "scatter3d": [
           {
            "line": {
             "colorbar": {
              "outlinewidth": 0,
              "ticks": ""
             }
            },
            "marker": {
             "colorbar": {
              "outlinewidth": 0,
              "ticks": ""
             }
            },
            "type": "scatter3d"
           }
          ],
          "scattercarpet": [
           {
            "marker": {
             "colorbar": {
              "outlinewidth": 0,
              "ticks": ""
             }
            },
            "type": "scattercarpet"
           }
          ],
          "scattergeo": [
           {
            "marker": {
             "colorbar": {
              "outlinewidth": 0,
              "ticks": ""
             }
            },
            "type": "scattergeo"
           }
          ],
          "scattergl": [
           {
            "marker": {
             "colorbar": {
              "outlinewidth": 0,
              "ticks": ""
             }
            },
            "type": "scattergl"
           }
          ],
          "scattermap": [
           {
            "marker": {
             "colorbar": {
              "outlinewidth": 0,
              "ticks": ""
             }
            },
            "type": "scattermap"
           }
          ],
          "scattermapbox": [
           {
            "marker": {
             "colorbar": {
              "outlinewidth": 0,
              "ticks": ""
             }
            },
            "type": "scattermapbox"
           }
          ],
          "scatterpolar": [
           {
            "marker": {
             "colorbar": {
              "outlinewidth": 0,
              "ticks": ""
             }
            },
            "type": "scatterpolar"
           }
          ],
          "scatterpolargl": [
           {
            "marker": {
             "colorbar": {
              "outlinewidth": 0,
              "ticks": ""
             }
            },
            "type": "scatterpolargl"
           }
          ],
          "scatterternary": [
           {
            "marker": {
             "colorbar": {
              "outlinewidth": 0,
              "ticks": ""
             }
            },
            "type": "scatterternary"
           }
          ],
          "surface": [
           {
            "colorbar": {
             "outlinewidth": 0,
             "ticks": ""
            },
            "colorscale": [
             [
              0,
              "#0d0887"
             ],
             [
              0.1111111111111111,
              "#46039f"
             ],
             [
              0.2222222222222222,
              "#7201a8"
             ],
             [
              0.3333333333333333,
              "#9c179e"
             ],
             [
              0.4444444444444444,
              "#bd3786"
             ],
             [
              0.5555555555555556,
              "#d8576b"
             ],
             [
              0.6666666666666666,
              "#ed7953"
             ],
             [
              0.7777777777777778,
              "#fb9f3a"
             ],
             [
              0.8888888888888888,
              "#fdca26"
             ],
             [
              1,
              "#f0f921"
             ]
            ],
            "type": "surface"
           }
          ],
          "table": [
           {
            "cells": {
             "fill": {
              "color": "#EBF0F8"
             },
             "line": {
              "color": "white"
             }
            },
            "header": {
             "fill": {
              "color": "#C8D4E3"
             },
             "line": {
              "color": "white"
             }
            },
            "type": "table"
           }
          ]
         },
         "layout": {
          "annotationdefaults": {
           "arrowcolor": "#2a3f5f",
           "arrowhead": 0,
           "arrowwidth": 1
          },
          "autotypenumbers": "strict",
          "coloraxis": {
           "colorbar": {
            "outlinewidth": 0,
            "ticks": ""
           }
          },
          "colorscale": {
           "diverging": [
            [
             0,
             "#8e0152"
            ],
            [
             0.1,
             "#c51b7d"
            ],
            [
             0.2,
             "#de77ae"
            ],
            [
             0.3,
             "#f1b6da"
            ],
            [
             0.4,
             "#fde0ef"
            ],
            [
             0.5,
             "#f7f7f7"
            ],
            [
             0.6,
             "#e6f5d0"
            ],
            [
             0.7,
             "#b8e186"
            ],
            [
             0.8,
             "#7fbc41"
            ],
            [
             0.9,
             "#4d9221"
            ],
            [
             1,
             "#276419"
            ]
           ],
           "sequential": [
            [
             0,
             "#0d0887"
            ],
            [
             0.1111111111111111,
             "#46039f"
            ],
            [
             0.2222222222222222,
             "#7201a8"
            ],
            [
             0.3333333333333333,
             "#9c179e"
            ],
            [
             0.4444444444444444,
             "#bd3786"
            ],
            [
             0.5555555555555556,
             "#d8576b"
            ],
            [
             0.6666666666666666,
             "#ed7953"
            ],
            [
             0.7777777777777778,
             "#fb9f3a"
            ],
            [
             0.8888888888888888,
             "#fdca26"
            ],
            [
             1,
             "#f0f921"
            ]
           ],
           "sequentialminus": [
            [
             0,
             "#0d0887"
            ],
            [
             0.1111111111111111,
             "#46039f"
            ],
            [
             0.2222222222222222,
             "#7201a8"
            ],
            [
             0.3333333333333333,
             "#9c179e"
            ],
            [
             0.4444444444444444,
             "#bd3786"
            ],
            [
             0.5555555555555556,
             "#d8576b"
            ],
            [
             0.6666666666666666,
             "#ed7953"
            ],
            [
             0.7777777777777778,
             "#fb9f3a"
            ],
            [
             0.8888888888888888,
             "#fdca26"
            ],
            [
             1,
             "#f0f921"
            ]
           ]
          },
          "colorway": [
           "#636efa",
           "#EF553B",
           "#00cc96",
           "#ab63fa",
           "#FFA15A",
           "#19d3f3",
           "#FF6692",
           "#B6E880",
           "#FF97FF",
           "#FECB52"
          ],
          "font": {
           "color": "#2a3f5f"
          },
          "geo": {
           "bgcolor": "white",
           "lakecolor": "white",
           "landcolor": "#E5ECF6",
           "showlakes": true,
           "showland": true,
           "subunitcolor": "white"
          },
          "hoverlabel": {
           "align": "left"
          },
          "hovermode": "closest",
          "mapbox": {
           "style": "light"
          },
          "paper_bgcolor": "white",
          "plot_bgcolor": "#E5ECF6",
          "polar": {
           "angularaxis": {
            "gridcolor": "white",
            "linecolor": "white",
            "ticks": ""
           },
           "bgcolor": "#E5ECF6",
           "radialaxis": {
            "gridcolor": "white",
            "linecolor": "white",
            "ticks": ""
           }
          },
          "scene": {
           "xaxis": {
            "backgroundcolor": "#E5ECF6",
            "gridcolor": "white",
            "gridwidth": 2,
            "linecolor": "white",
            "showbackground": true,
            "ticks": "",
            "zerolinecolor": "white"
           },
           "yaxis": {
            "backgroundcolor": "#E5ECF6",
            "gridcolor": "white",
            "gridwidth": 2,
            "linecolor": "white",
            "showbackground": true,
            "ticks": "",
            "zerolinecolor": "white"
           },
           "zaxis": {
            "backgroundcolor": "#E5ECF6",
            "gridcolor": "white",
            "gridwidth": 2,
            "linecolor": "white",
            "showbackground": true,
            "ticks": "",
            "zerolinecolor": "white"
           }
          },
          "shapedefaults": {
           "line": {
            "color": "#2a3f5f"
           }
          },
          "ternary": {
           "aaxis": {
            "gridcolor": "white",
            "linecolor": "white",
            "ticks": ""
           },
           "baxis": {
            "gridcolor": "white",
            "linecolor": "white",
            "ticks": ""
           },
           "bgcolor": "#E5ECF6",
           "caxis": {
            "gridcolor": "white",
            "linecolor": "white",
            "ticks": ""
           }
          },
          "title": {
           "x": 0.05
          },
          "xaxis": {
           "automargin": true,
           "gridcolor": "white",
           "linecolor": "white",
           "ticks": "",
           "title": {
            "standoff": 15
           },
           "zerolinecolor": "white",
           "zerolinewidth": 2
          },
          "yaxis": {
           "automargin": true,
           "gridcolor": "white",
           "linecolor": "white",
           "ticks": "",
           "title": {
            "standoff": 15
           },
           "zerolinecolor": "white",
           "zerolinewidth": 2
          }
         }
        },
        "title": {
         "text": "Users clustering (K-Means)"
        },
        "width": 800,
        "xaxis": {
         "anchor": "y",
         "domain": [
          0,
          1
         ],
         "showgrid": false,
         "title": {
          "text": "PCA 1"
         }
        },
        "yaxis": {
         "anchor": "x",
         "domain": [
          0,
          1
         ],
         "showgrid": false,
         "title": {
          "text": "PCA 2"
         }
        }
       }
      }
     },
     "metadata": {},
     "output_type": "display_data"
    }
   ],
   "source": [
    "from sklearn.decomposition import PCA\n",
    "\n",
    "pca = PCA(n_components=2)\n",
    "X_pca = pca.fit_transform(X_scaled)\n",
    "\n",
    "# Creating a dictionary for the legend\n",
    "cluster_labels = {\n",
    "    0: \"Sedentary\",\n",
    "    1: \"Moderately Active\",\n",
    "    2: \"Lightly Active\",\n",
    "    3: \"Very Active\"\n",
    "}\n",
    "user_features['ActivityLevel'] = user_features['Cluster'].map(cluster_labels)\n",
    "\n",
    "fig = px.scatter(\n",
    "    x=X_pca[:,0],\n",
    "    y=X_pca[:,1],\n",
    "    color=user_features['ActivityLevel'],\n",
    "    hover_name=user_features['Id'].astype(str),\n",
    "    labels={'x':'PCA 1', 'y':'PCA 2', 'color':'Cluster'},\n",
    "    width=800,\n",
    "    height=600,\n",
    ")\n",
    "\n",
    "#visualization settings\n",
    "fig.update_layout(\n",
    "    title=\"Users clustering (K-Means)\",\n",
    "    plot_bgcolor='white',\n",
    "    xaxis=dict(\n",
    "        showgrid=False,\n",
    "    ),\n",
    "    yaxis=dict(\n",
    "        showgrid=False,\n",
    "    ),\n",
    "    shapes=[\n",
    "        dict(\n",
    "            type=\"line\",\n",
    "            x0=0,\n",
    "            x1=0,\n",
    "            y0=min(X_pca[:,1]),\n",
    "            y1=max(X_pca[:,1]),\n",
    "            line=dict(color=\"lightgrey\", width=1)\n",
    "        ),\n",
    "        dict(\n",
    "            type=\"line\",\n",
    "            x0=min(X_pca[:,0]),\n",
    "            x1=max(X_pca[:,0]),\n",
    "            y0=0,\n",
    "            y1=0,\n",
    "            line=dict(color=\"lightgrey\", width=1)\n",
    "        )\n",
    "    ]\n",
    ")\n",
    "\n",
    "fig.show()"
   ]
  },
  {
   "cell_type": "code",
   "execution_count": 225,
   "id": "8d0170a0",
   "metadata": {},
   "outputs": [
    {
     "data": {
      "text/plain": [
       "<Axes: xlabel='ActivityDate'>"
      ]
     },
     "execution_count": 225,
     "metadata": {},
     "output_type": "execute_result"
    },
    {
     "data": {
      "image/png": "[encoded data removed]",
      "text/plain": [
       "<Figure size 640x480 with 1 Axes>"
      ]
     },
     "metadata": {},
     "output_type": "display_data"
    }
   ],
   "source": [
    "cluster_3_ids = user_features[user_features['Cluster'] == 3]['Id']\n",
    "data[data['Id'].isin(cluster_3_ids)].groupby('ActivityDate')[['TotalSteps', 'Calories', 'VeryActiveMinutes']].mean().plot()"
   ]
  },
  {
   "cell_type": "code",
   "execution_count": 226,
   "id": "9be26833",
   "metadata": {},
   "outputs": [
    {
     "data": {
      "text/html": [
       "<div>\n",
       "<style scoped>\n",
       "    .dataframe tbody tr th:only-of-type {\n",
       "        vertical-align: middle;\n",
       "    }\n",
       "\n",
       "    .dataframe tbody tr th {\n",
       "        vertical-align: top;\n",
       "    }\n",
       "\n",
       "    .dataframe thead th {\n",
       "        text-align: right;\n",
       "    }\n",
       "</style>\n",
       "<table border=\"1\" class=\"dataframe\">\n",
       "  <thead>\n",
       "    <tr style=\"text-align: right;\">\n",
       "      <th></th>\n",
       "      <th>TotalSteps</th>\n",
       "      <th>Calories</th>\n",
       "      <th>VeryActiveMinutes</th>\n",
       "    </tr>\n",
       "    <tr>\n",
       "      <th>Id</th>\n",
       "      <th></th>\n",
       "      <th></th>\n",
       "      <th></th>\n",
       "    </tr>\n",
       "  </thead>\n",
       "  <tbody>\n",
       "    <tr>\n",
       "      <th>8053475328</th>\n",
       "      <td>14763.290323</td>\n",
       "      <td>2945.806452</td>\n",
       "      <td>85.161290</td>\n",
       "    </tr>\n",
       "    <tr>\n",
       "      <th>8877689391</th>\n",
       "      <td>16040.032258</td>\n",
       "      <td>3420.258065</td>\n",
       "      <td>66.064516</td>\n",
       "    </tr>\n",
       "  </tbody>\n",
       "</table>\n",
       "</div>"
      ],
      "text/plain": [
       "              TotalSteps     Calories  VeryActiveMinutes\n",
       "Id                                                      \n",
       "8053475328  14763.290323  2945.806452          85.161290\n",
       "8877689391  16040.032258  3420.258065          66.064516"
      ]
     },
     "execution_count": 226,
     "metadata": {},
     "output_type": "execute_result"
    }
   ],
   "source": [
    "data[data['Id'].isin(cluster_3_ids)].groupby('Id')[['TotalSteps', 'Calories', 'VeryActiveMinutes']].mean()"
   ]
  },
  {
   "cell_type": "markdown",
   "id": "13dea77b",
   "metadata": {},
   "source": [
    "To better understand the ‘Very Active’ cluster (Cluster 3), we examined the two users it contains. Both stand out with high levels of daily steps and calorie expenditure. One averages over 16,000 steps and 3,400 calories per day, while the other, though slightly less active in step count, shows a higher average of very active minutes (85 per day). This suggests different but equally intense activity profiles — one focused on longer duration, the other on higher intensity. These examples illustrate how K-Means clustering helps to distinguish nuanced user behavior patterns within the dataset."
   ]
  }
 ],
 "metadata": {
  "kernelspec": {
   "display_name": "Python 3",
   "language": "python",
   "name": "python3"
  },
  "language_info": {
   "codemirror_mode": {
    "name": "ipython",
    "version": 3
   },
   "file_extension": ".py",
   "mimetype": "text/x-python",
   "name": "python",
   "nbconvert_exporter": "python",
   "pygments_lexer": "ipython3",
   "version": "3.10.10"
  }
 },
 "nbformat": 4,
 "nbformat_minor": 5
}
